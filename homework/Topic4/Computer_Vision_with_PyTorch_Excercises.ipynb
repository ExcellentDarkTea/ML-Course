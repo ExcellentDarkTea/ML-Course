{
  "cells": [
    {
      "cell_type": "markdown",
      "metadata": {
        "id": "vllfFC_C7dGt"
      },
      "source": [
        "В цьому наборі завдань закріпимо те, що було на лекції з Computer Vision."
      ]
    },
    {
      "cell_type": "code",
      "execution_count": 1,
      "metadata": {
        "colab": {
          "base_uri": "https://localhost:8080/"
        },
        "id": "8_-tBYT3L9us",
        "outputId": "b9b8ab38-1210-4b5c-a414-5bacf81c1a76"
      },
      "outputs": [
        {
          "output_type": "stream",
          "name": "stdout",
          "text": [
            "PyTorch version: 2.6.0+cu124\n",
            "torchvision version: 0.21.0+cu124\n"
          ]
        }
      ],
      "source": [
        "# Імпортуємо PyTorch\n",
        "import torch\n",
        "from torch import nn\n",
        "\n",
        "# Імпортуємо torchvision\n",
        "import torchvision\n",
        "from torchvision import datasets\n",
        "from torchvision.transforms import ToTensor\n",
        "\n",
        "# Імпортуємо matplotlib для візуалізації\n",
        "import matplotlib.pyplot as plt\n",
        "\n",
        "# Перевіряємо версії\n",
        "# Примітка: ваша версія PyTorch не повинна бути нижчою за 1.10.0, а версія torchvision не повинна бути нижчою за 0.11\n",
        "print(f\"PyTorch version: {torch.__version__}\\ntorchvision version: {torchvision.__version__}\")"
      ]
    },
    {
      "cell_type": "markdown",
      "metadata": {
        "id": "Vex99np2wFVt"
      },
      "source": [
        "# Computer Vision with PyTorch Excercises. Solution\n"
      ]
    },
    {
      "cell_type": "markdown",
      "metadata": {
        "id": "FSFX7tc1w-en"
      },
      "source": [
        "## 1. Наведіть 3 галузі промисловості, де комп'ютерний зір використовується сьогодні (можна згадати з лекції, або провести міні-рісерч)."
      ]
    },
    {
      "cell_type": "markdown",
      "metadata": {
        "id": "DKdEEFEqxM-8"
      },
      "source": [
        "## 2. Виділіть 20 хвилин аби ознайомитись та переглянути сайт [CNN Explainer](https://poloclub.github.io/cnn-explainer/).\n",
        "\n",
        "* Завантажте власне будь-яке зображення за допомогою кнопки Upload\" на сайті та подивіться, що відбувається на кожному шарі CNN, коли ваше зображення проходить через нього.\n",
        "\n",
        "Напишіть 3 пункти, що ви дізнались після цієї вправи?"
      ]
    },
    {
      "cell_type": "markdown",
      "metadata": {
        "id": "k0kN5KWgL9uu"
      },
      "source": [
        "1. Аграрка - аналіз зображень з дрону для виявлення як гарноросте культура\n",
        "2. Медицина - аналіз знімків (кт, мрт) для автоматичного відслідковуівння патологій\n",
        "3. Безпека - вхід до приміщення по розпізнаванню облича, відбитка пальця, верифікація\\ідентифікація користувача"
      ]
    },
    {
      "cell_type": "markdown",
      "metadata": {
        "id": "lvf-3pODxXYI"
      },
      "source": [
        "## 3. Завантажте навчальні та тестові набори даних [`torchvision.datasets.MNIST()`](https://pytorch.org/vision/stable/generated/torchvision.datasets.MNIST.html#torchvision.datasets.MNIST).\n",
        "\n",
        "MNIST - базовий набір даних для задач Computer Vision. Часто використовується для навчання.\n",
        "\n",
        "- Виведіть, скільки елементів в кожному наборі.\n",
        "- Покажіть формат (розмірності) кожної картинки.\n",
        "- Виведіть, які класи представлені в цьому наборі даних."
      ]
    },
    {
      "cell_type": "code",
      "execution_count": 2,
      "metadata": {
        "id": "fkdjwtbX7riT",
        "colab": {
          "base_uri": "https://localhost:8080/"
        },
        "outputId": "79c67193-f8ed-4b88-ebc9-6c2e3898a90a"
      },
      "outputs": [
        {
          "output_type": "stream",
          "name": "stderr",
          "text": [
            "100%|██████████| 9.91M/9.91M [00:00<00:00, 13.5MB/s]\n",
            "100%|██████████| 28.9k/28.9k [00:00<00:00, 527kB/s]\n",
            "100%|██████████| 1.65M/1.65M [00:00<00:00, 4.47MB/s]\n",
            "100%|██████████| 4.54k/4.54k [00:00<00:00, 9.02MB/s]"
          ]
        },
        {
          "output_type": "stream",
          "name": "stdout",
          "text": [
            "Number of training samples: 60000, Number of test samples: 10000\n",
            "Shape of a single training sample: torch.Size([1, 28, 28]), Label: 5\n",
            "Unique labels in the dataset: ['0 - zero', '1 - one', '2 - two', '3 - three', '4 - four', '5 - five', '6 - six', '7 - seven', '8 - eight', '9 - nine']\n"
          ]
        },
        {
          "output_type": "stream",
          "name": "stderr",
          "text": [
            "\n"
          ]
        }
      ],
      "source": [
        "train_data = datasets.MNIST(\n",
        "    root=\"data\",\n",
        "    train=True,\n",
        "    download=True,\n",
        "    transform=ToTensor(),\n",
        "    target_transform=None\n",
        ")\n",
        "\n",
        "test_data = datasets.MNIST(\n",
        "    root=\"data\",\n",
        "    train=False,\n",
        "    download=True,\n",
        "    transform=ToTensor(),\n",
        "    target_transform=None\n",
        ")\n",
        "\n",
        "print(f\"Number of training samples: {len(train_data)}, Number of test samples: {len(test_data)}\")\n",
        "print(f\"Shape of a single training sample: {train_data[0][0].shape}, Label: {train_data[0][1]}\")\n",
        "print(f\"Unique labels in the dataset: {train_data.classes}\")"
      ]
    },
    {
      "cell_type": "code",
      "execution_count": null,
      "metadata": {
        "id": "LWn1tzDYL9uv",
        "outputId": "6b89a847-bdfe-4cdc-e3b9-9e8a554bdab3"
      },
      "outputs": [
        {
          "data": {
            "text/plain": [
              "['0 - zero',\n",
              " '1 - one',\n",
              " '2 - two',\n",
              " '3 - three',\n",
              " '4 - four',\n",
              " '5 - five',\n",
              " '6 - six',\n",
              " '7 - seven',\n",
              " '8 - eight',\n",
              " '9 - nine']"
            ]
          },
          "execution_count": 6,
          "metadata": {},
          "output_type": "execute_result"
        }
      ],
      "source": [
        "train_data.classes"
      ]
    },
    {
      "cell_type": "markdown",
      "source": [
        "# Висновки 3\n",
        "\n",
        "- Зображення має розміри 28 на 28 кожне.\n",
        "- Класи розподілені від 0 до 9, окреми йклас для кожної цифри\n",
        "- Тренувальний набор включає 60к даних, тестувальний - 10к"
      ],
      "metadata": {
        "id": "06ty2joQN76Z"
      }
    },
    {
      "cell_type": "markdown",
      "metadata": {
        "id": "qxZW-uAbxe_F"
      },
      "source": [
        "## 4. Візуалізуйте щонайменше 5 різних зразків з навчального набору даних MNIST."
      ]
    },
    {
      "cell_type": "code",
      "execution_count": null,
      "metadata": {
        "id": "Cm-qgzN97t4c",
        "outputId": "f50122e4-213d-4a76-a97c-ef593de68e54"
      },
      "outputs": [
        {
          "data": {
            "image/png": "[encoded data removed]",
            "text/plain": [
              "<Figure size 640x480 with 6 Axes>"
            ]
          },
          "metadata": {},
          "output_type": "display_data"
        }
      ],
      "source": [
        "for i in range(1, 7):\n",
        "    image, label = train_data[i-1]\n",
        "    plt.subplot(2, 3, i)\n",
        "    plt.imshow(image.squeeze(), cmap=\"gray\")\n",
        "    plt.title(f\"Label: {label}\")\n",
        "\n",
        "plt.show()"
      ]
    },
    {
      "cell_type": "markdown",
      "metadata": {
        "id": "JAPDzW0wxhi3"
      },
      "source": [
        "## 5. Перетворіть навчальні та тестові набори даних MNIST у data loaders за допомогою `torch.utils.data.DataLoader`, встановіть `batch_size=32`.\n",
        "- Покажіть, яку форму даних вертають дата лоадери."
      ]
    },
    {
      "cell_type": "code",
      "execution_count": 3,
      "metadata": {
        "id": "aOff13r-7u-p",
        "colab": {
          "base_uri": "https://localhost:8080/"
        },
        "outputId": "9a462613-24fc-4085-8d04-d0ded23bcc5f"
      },
      "outputs": [
        {
          "output_type": "stream",
          "name": "stdout",
          "text": [
            "Number of batches in training set: 1875, Number of batches in test set: 313\n",
            "Shape of a single batch: torch.Size([32, 1, 28, 28]), Labels: torch.Size([32])\n"
          ]
        }
      ],
      "source": [
        "from torch.utils.data import DataLoader\n",
        "BATCH_SIZE = 32\n",
        "\n",
        "train_dataloader = DataLoader(train_data, batch_size=BATCH_SIZE, shuffle=True)\n",
        "test_dataloader = DataLoader(test_data, batch_size=BATCH_SIZE, shuffle=False)\n",
        "\n",
        "print(f\"Number of batches in training set: {len(train_dataloader)}, Number of batches in test set: {len(test_dataloader)}\")\n",
        "print(f\"Shape of a single batch: {next(iter(train_dataloader))[0].shape}, Labels: {next(iter(train_dataloader))[1].shape}\")"
      ]
    },
    {
      "cell_type": "markdown",
      "metadata": {
        "id": "bCCVfXk5xjYS"
      },
      "source": [
        "## 6. Відтворіть `ModelV2`, яку ми розглядали на лекції\n",
        "Це до слова та сама модель з [сайту CNN Explainer](https://poloclub.github.io/cnn-explainer/), також відома як TinyVGG і вона здатна навчатися на наборі даних MNIST.\n",
        "\n",
        "Напишіть клас моделі."
      ]
    },
    {
      "cell_type": "code",
      "execution_count": 16,
      "metadata": {
        "id": "J3T9JDpj7wQX",
        "colab": {
          "base_uri": "https://localhost:8080/"
        },
        "outputId": "ded6ca4b-33af-44c0-b862-586b108e7e99"
      },
      "outputs": [
        {
          "output_type": "execute_result",
          "data": {
            "text/plain": [
              "TinyVGG(\n",
              "  (conv_block_1): Sequential(\n",
              "    (0): Conv2d(1, 10, kernel_size=(3, 3), stride=(1, 1), padding=(1, 1))\n",
              "    (1): ReLU()\n",
              "  )\n",
              "  (MaxPool2d): MaxPool2d(kernel_size=2, stride=2, padding=0, dilation=1, ceil_mode=False)\n",
              "  (conv_block_2): Sequential(\n",
              "    (0): Conv2d(10, 10, kernel_size=(3, 3), stride=(1, 1), padding=(1, 1))\n",
              "    (1): ReLU()\n",
              "  )\n",
              "  (flatten): Sequential(\n",
              "    (0): Flatten(start_dim=1, end_dim=-1)\n",
              "    (1): Linear(in_features=490, out_features=10, bias=True)\n",
              "  )\n",
              ")"
            ]
          },
          "metadata": {},
          "execution_count": 16
        }
      ],
      "source": [
        "class TinyVGG(nn.Module):\n",
        "    def __init__(self, input_shape, hidden_units, output_shape):\n",
        "        super().__init__()\n",
        "\n",
        "        self.conv_block_1 = nn.Sequential(\n",
        "            nn.Conv2d(in_channels=input_shape, out_channels=hidden_units, kernel_size=3, padding=1),\n",
        "            nn.ReLU())\n",
        "\n",
        "        self.MaxPool2d = nn.MaxPool2d(kernel_size=2)\n",
        "\n",
        "        self.conv_block_2 = nn.Sequential(\n",
        "            nn.Conv2d(in_channels=hidden_units, out_channels=hidden_units, kernel_size=3, padding=1),\n",
        "            nn.ReLU())\n",
        "\n",
        "        self.flatten = nn.Sequential(\n",
        "            nn.Flatten(),\n",
        "            nn.Linear(in_features=hidden_units * 7 * 7, out_features=output_shape)\n",
        "        )\n",
        "\n",
        "    def forward(self, x):\n",
        "        # print(\"Input shape:\", x.shape)\n",
        "        x = self.conv_block_1(x)\n",
        "        # print(\"After conv_block_1:\", x.shape)\n",
        "        x = self.conv_block_2(x)\n",
        "        # print(\"After first conv_block_2:\", x.shape)\n",
        "        x = self.MaxPool2d(x)\n",
        "        # print(\"After first MaxPool2d:\", x.shape)\n",
        "        x = self.conv_block_2(x)\n",
        "        # print(\"After second conv_block_2:\", x.shape)\n",
        "        x = self.conv_block_2(x)\n",
        "        # print(\"After third conv_block_2:\", x.shape)\n",
        "        x = self.MaxPool2d(x)\n",
        "        # print(\"After second MaxPool2d:\", x.shape)\n",
        "        x = self.flatten(x)\n",
        "        # print(\"After flatten:\", x.shape)\n",
        "        return x\n",
        "\n",
        "torch.manual_seed(42)\n",
        "model = TinyVGG(input_shape=1, hidden_units=10, output_shape=len(train_data.classes))\n",
        "model"
      ]
    },
    {
      "cell_type": "code",
      "execution_count": 11,
      "metadata": {
        "id": "ajQ2nI6rL9uw"
      },
      "outputs": [],
      "source": [
        "out = model(torch.randn(32, 1, 28, 28))"
      ]
    },
    {
      "cell_type": "markdown",
      "source": [
        "# Висновки 6\n",
        "\n",
        "- Створемо Sequential для внутрішнього шару згортки разом з ReLU та будумо викликати його декілька разів в форвард щоб відтворити структуру мережі"
      ],
      "metadata": {
        "id": "IU29ypEZOeGy"
      }
    },
    {
      "cell_type": "markdown",
      "metadata": {
        "id": "sf_3zUr7xlhy"
      },
      "source": [
        "## 7. Навчіть модель, яку ви побудували в попередній вправі, протягом 5 епох на CPU та GPU і подивіться, скільки часу це займе в кожному з варіантів."
      ]
    },
    {
      "cell_type": "code",
      "execution_count": 12,
      "metadata": {
        "id": "CZsouYCSL9uw"
      },
      "outputs": [],
      "source": [
        "from timeit import default_timer as timer\n",
        "def print_train_time(start: float, end: float, device: torch.device = None):\n",
        "    total_time = end - start\n",
        "    print(f\"Training time: {total_time:.3f} seconds on {device}\")\n",
        "\n",
        "    return total_time"
      ]
    },
    {
      "cell_type": "code",
      "source": [
        "device = \"cuda\" if torch.cuda.is_available() else \"cpu\"\n",
        "\n",
        "loss = nn.CrossEntropyLoss()\n",
        "optimizer = torch.optim.Adam(params=model.parameters(), lr=0.001)\n",
        "\n",
        "from timeit import default_timer as timer\n",
        "training_time_start = timer()\n",
        "epochs = 5\n",
        "model.to(device)\n",
        "for epoch in range(epochs):\n",
        "    print(f\"Epoch: {epoch+1}/{epochs}\")\n",
        "    model.train()\n",
        "    train_loss = 0\n",
        "    train_acc = 0\n",
        "    for batch, (X, y) in enumerate(train_dataloader):\n",
        "        X, y = X.to(device), y.to(device)\n",
        "        y_pred = model(X)\n",
        "        loss_value = loss(y_pred, y)\n",
        "\n",
        "        optimizer.zero_grad()\n",
        "        loss_value.backward()\n",
        "        optimizer.step()\n",
        "\n",
        "        train_loss += loss_value.item()\n",
        "        train_acc += (y_pred.argmax(dim=1) == y).sum().item()\n",
        "    train_loss /= len(train_dataloader)\n",
        "    train_acc /= len(train_data)\n",
        "    print(f\"Train loss: {train_loss:.4f}, Train accuracy: {train_acc:.4f}\")\n",
        "\n",
        "    with torch.no_grad():\n",
        "        model.eval()\n",
        "        test_loss = 0\n",
        "        test_acc = 0\n",
        "        for X, y in test_dataloader:\n",
        "            X, y = X.to(device), y.to(device)\n",
        "            y_pred = model(X)\n",
        "            loss_value = loss(y_pred, y)\n",
        "            test_loss += loss_value.item()\n",
        "            test_acc += (y_pred.argmax(dim=1) == y).sum().item()\n",
        "        test_loss /= len(test_dataloader)\n",
        "        test_acc /= len(test_data)\n",
        "        print(f\"Test loss: {test_loss:.4f}, Test accuracy: {test_acc:.4f}\")\n",
        "\n",
        "training_time_end = timer()\n",
        "total_training_time = print_train_time(training_time_start, training_time_end, device=device)"
      ],
      "metadata": {
        "colab": {
          "base_uri": "https://localhost:8080/"
        },
        "id": "hVmUFiJYMkJs",
        "outputId": "b5e7b9ef-1812-4a29-9431-fce22423a58e"
      },
      "execution_count": 13,
      "outputs": [
        {
          "output_type": "stream",
          "name": "stdout",
          "text": [
            "Epoch: 1/5\n",
            "Train loss: 0.2432, Train accuracy: 0.9216\n",
            "Test loss: 0.0834, Test accuracy: 0.9729\n",
            "Epoch: 2/5\n",
            "Train loss: 0.0845, Train accuracy: 0.9743\n",
            "Test loss: 0.0541, Test accuracy: 0.9829\n",
            "Epoch: 3/5\n",
            "Train loss: 0.0656, Train accuracy: 0.9799\n",
            "Test loss: 0.0604, Test accuracy: 0.9795\n",
            "Epoch: 4/5\n",
            "Train loss: 0.0547, Train accuracy: 0.9832\n",
            "Test loss: 0.0448, Test accuracy: 0.9855\n",
            "Epoch: 5/5\n",
            "Train loss: 0.0468, Train accuracy: 0.9850\n",
            "Test loss: 0.0423, Test accuracy: 0.9862\n",
            "Training time: 60.196 seconds on cuda\n"
          ]
        }
      ]
    },
    {
      "cell_type": "code",
      "execution_count": 17,
      "metadata": {
        "id": "alY-tbfH7yHe",
        "colab": {
          "base_uri": "https://localhost:8080/"
        },
        "outputId": "d55c1483-9462-47fe-da25-85dfcf9c5910"
      },
      "outputs": [
        {
          "output_type": "stream",
          "name": "stdout",
          "text": [
            "Epoch: 1/5\n",
            "Train loss: 0.2596, Train accuracy: 0.9166\n",
            "Test loss: 0.0811, Test accuracy: 0.9720\n",
            "Epoch: 2/5\n",
            "Train loss: 0.0855, Train accuracy: 0.9735\n",
            "Test loss: 0.0601, Test accuracy: 0.9821\n",
            "Epoch: 3/5\n",
            "Train loss: 0.0639, Train accuracy: 0.9801\n",
            "Test loss: 0.0448, Test accuracy: 0.9854\n",
            "Epoch: 4/5\n",
            "Train loss: 0.0530, Train accuracy: 0.9836\n",
            "Test loss: 0.0438, Test accuracy: 0.9865\n",
            "Epoch: 5/5\n",
            "Train loss: 0.0458, Train accuracy: 0.9856\n",
            "Test loss: 0.0424, Test accuracy: 0.9856\n",
            "Training time: 251.263 seconds on CPU\n"
          ]
        }
      ],
      "source": [
        "loss = nn.CrossEntropyLoss()\n",
        "optimizer = torch.optim.Adam(params=model.parameters(), lr=0.001)\n",
        "\n",
        "from timeit import default_timer as timer\n",
        "training_time_start = timer()\n",
        "epochs = 5\n",
        "\n",
        "for epoch in range(epochs):\n",
        "    print(f\"Epoch: {epoch+1}/{epochs}\")\n",
        "    model.train()\n",
        "    train_loss = 0\n",
        "    train_acc = 0\n",
        "    for batch, (X, y) in enumerate(train_dataloader):\n",
        "        y_pred = model(X)\n",
        "        loss_value = loss(y_pred, y)\n",
        "\n",
        "        optimizer.zero_grad()\n",
        "        loss_value.backward()\n",
        "        optimizer.step()\n",
        "\n",
        "        train_loss += loss_value.item()\n",
        "        train_acc += (y_pred.argmax(dim=1) == y).sum().item()\n",
        "    train_loss /= len(train_dataloader)\n",
        "    train_acc /= len(train_data)\n",
        "    print(f\"Train loss: {train_loss:.4f}, Train accuracy: {train_acc:.4f}\")\n",
        "\n",
        "    with torch.no_grad():\n",
        "        model.eval()\n",
        "        test_loss = 0\n",
        "        test_acc = 0\n",
        "        for X, y in test_dataloader:\n",
        "            y_pred = model(X)\n",
        "            loss_value = loss(y_pred, y)\n",
        "            test_loss += loss_value.item()\n",
        "            test_acc += (y_pred.argmax(dim=1) == y).sum().item()\n",
        "        test_loss /= len(test_dataloader)\n",
        "        test_acc /= len(test_data)\n",
        "        print(f\"Test loss: {test_loss:.4f}, Test accuracy: {test_acc:.4f}\")\n",
        "\n",
        "training_time_end = timer()\n",
        "total_training_time = print_train_time(training_time_start, training_time_end, device=\"CPU\")"
      ]
    },
    {
      "cell_type": "code",
      "execution_count": null,
      "metadata": {
        "id": "xyUpQTqpL9uw"
      },
      "outputs": [],
      "source": []
    },
    {
      "cell_type": "markdown",
      "source": [
        "# Висновки 6\n",
        "\n",
        "| Device | Train Loss | Train Accuracy | Test Loss | Test Accuracy | Training Time (s) |\n",
        "|--------|------------|----------------|-----------|----------------|-------------------|\n",
        "| CUDA   | 0.0468     | 0.9850         | 0.0423    | 0.9862         | 60.196            |\n",
        "| CPU    | 0.0458     | 0.9856         | 0.0424    | 0.9856         | 251.263           |\n",
        "\n",
        "\n",
        "- в обох режимах нейрона мережа досягла однакової точності, але при цьому з CUDA тренування зайняло вчотири рази меншу часу (60 vs 251 секуед)"
      ],
      "metadata": {
        "id": "bkrKGaQ8O_ws"
      }
    },
    {
      "cell_type": "markdown",
      "metadata": {
        "id": "w1CsHhPpxp1w"
      },
      "source": [
        "## 8. Зробіть прогнози за допомогою вашої навченої моделі та візуалізуйте принаймні 5 з них, порівнюючи прогноз з цільовою міткою."
      ]
    },
    {
      "cell_type": "code",
      "execution_count": 18,
      "metadata": {
        "id": "XbnzDNs97y5t"
      },
      "outputs": [],
      "source": [
        "test_data_predict = model(test_data.data.unsqueeze(1).float())\n",
        "predicted_labels = test_data_predict.argmax(dim=1)"
      ]
    },
    {
      "cell_type": "code",
      "execution_count": null,
      "metadata": {
        "id": "bV_lszghL9ux",
        "outputId": "eb40e127-827e-4a48-ea71-91f3bf2ce477"
      },
      "outputs": [
        {
          "data": {
            "text/plain": [
              "(tensor([7, 2, 1,  ..., 4, 5, 6]), tensor([7, 2, 1,  ..., 4, 5, 6]))"
            ]
          },
          "execution_count": 57,
          "metadata": {},
          "output_type": "execute_result"
        }
      ],
      "source": [
        "predicted_labels, test_data.targets"
      ]
    },
    {
      "cell_type": "code",
      "execution_count": 19,
      "metadata": {
        "colab": {
          "base_uri": "https://localhost:8080/",
          "height": 598
        },
        "id": "0XJqoJhQL9ux",
        "outputId": "87022ba2-1dd8-401c-f41f-5df1a1dd3326"
      },
      "outputs": [
        {
          "output_type": "display_data",
          "data": {
            "text/plain": [
              "<Figure size 700x700 with 9 Axes>"
            ],
            "image/png": "[encoded data removed]"
          },
          "metadata": {}
        }
      ],
      "source": [
        "plt.figure(figsize=(7, 7))\n",
        "for i in range(1, 10):\n",
        "    plt.subplot(3, 3, i)\n",
        "    plt.imshow(test_data.data[i-1], cmap=\"gray\")\n",
        "    plt.title(f\"Predicted: {predicted_labels[i-1].item()}, Actual: {test_data.targets[i-1].item()}\")\n",
        "    plt.axis(\"off\")"
      ]
    },
    {
      "cell_type": "markdown",
      "metadata": {
        "id": "qQwzqlBWxrpG"
      },
      "source": [
        "## 9. Побудуйте матрицю плутанини, порівнюючи передбачення вашої моделі з істинними мітками."
      ]
    },
    {
      "cell_type": "code",
      "execution_count": null,
      "metadata": {
        "id": "RNlvtnJFL9ux",
        "outputId": "c9dff523-e27a-4836-965d-1714b8a16bc5"
      },
      "outputs": [
        {
          "data": {
            "image/png": "[encoded data removed]",
            "text/plain": [
              "<Figure size 1000x500 with 2 Axes>"
            ]
          },
          "metadata": {},
          "output_type": "display_data"
        }
      ],
      "source": [
        "from sklearn.metrics import confusion_matrix\n",
        "import seaborn as sns\n",
        "\n",
        "cm = confusion_matrix(test_data.targets, predicted_labels)\n",
        "plt.figure(figsize=(10, 5))\n",
        "sns.heatmap(cm, annot=True, fmt=\"d\", cmap=\"Blues\", xticklabels=test_data.classes, yticklabels=test_data.classes)\n",
        "plt.title(\"Confusion Matrix\")\n",
        "plt.xlabel(\"Predicted Label\")\n",
        "plt.ylabel(\"True Label\")\n",
        "plt.show()"
      ]
    },
    {
      "cell_type": "markdown",
      "metadata": {
        "id": "VHS20cNTxwSi"
      },
      "source": [
        "## 10. Виведіть принаймні 9 прикладів, де модель помиляється, разом з тим, якою мала бути мітка зображення.\n",
        "* Після візуалізації цих прогнозів, як ви думаєте, це більше помилка моделювання чи помилка даних?\n",
        "* Тобто, чи може модель працювати краще, чи мітки даних занадто близькі одна до одної, що навіть людина не може чітко розрізнити що це за цифра?"
      ]
    },
    {
      "cell_type": "code",
      "execution_count": null,
      "metadata": {
        "id": "X7ThqCd571dE",
        "outputId": "37f94cba-e559-4c5b-92cb-d3a944cde4a3"
      },
      "outputs": [
        {
          "data": {
            "image/png": "[encoded data removed]",
            "text/plain": [
              "<Figure size 700x700 with 9 Axes>"
            ]
          },
          "metadata": {},
          "output_type": "display_data"
        }
      ],
      "source": [
        "test_data_false = test_data.data[predicted_labels != test_data.targets]\n",
        "predicted_labels_false = predicted_labels[predicted_labels != test_data.targets]\n",
        "\n",
        "plt.figure(figsize=(7, 7))\n",
        "for i in range(1, 10):\n",
        "\n",
        "    plt.subplot(3, 3, i)\n",
        "    plt.imshow(test_data_false[i-1], cmap=\"gray\")\n",
        "    plt.title(f\"Predicted: {predicted_labels_false[i-1].item()}, Actual: {test_data.targets[predicted_labels != test_data.targets][i-1].item()}\")\n",
        "    plt.axis(\"off\")\n",
        "plt.tight_layout()\n",
        "plt.show()"
      ]
    },
    {
      "cell_type": "markdown",
      "source": [
        "# Висновки 6\n",
        "\n",
        "- Модель показує дуже гарні метрики точніості та рідко помиляється\n",
        "- При аналізі помилок можна побачити що помилки є логічними та деякі цифри схожі на інші з якоми їх плутає мережа.\n",
        "- Едине що плутання 7 з 9 може викликати питання, бо візуальн оовни доволі несхожі, та зазвичай вони не виглядають однаково"
      ],
      "metadata": {
        "id": "Te9ueEczQKHF"
      }
    },
    {
      "cell_type": "markdown",
      "metadata": {
        "id": "lj6bDhoWxt2y"
      },
      "source": [
        "## 11. Створіть випадковий тензор форми `[1, 3, 64, 64]` і пропустіть його через шар `nn.Conv2d()` з різними налаштуваннями гіперпараметрів (ви можете вибрати будь-які налаштування), що ви помічаєте, якщо параметр `kernel_size` збільшується або зменшується?"
      ]
    },
    {
      "cell_type": "code",
      "execution_count": null,
      "metadata": {
        "id": "NkiKGBcg726f"
      },
      "outputs": [],
      "source": [
        "tensor_random = torch.randn(1, 2, 64, 64)\n",
        "\n",
        "def try_parameter_conv( kernel_size, stride, padding, tensor,in_channels=2, out_channels=4):\n",
        "    print(f\"Trying Conv2d with kernel_size={kernel_size}, stride={stride}, padding={padding}\")\n",
        "    conv_layer = nn.Conv2d(in_channels=in_channels, out_channels=out_channels, kernel_size=kernel_size, stride=stride, padding=padding)\n",
        "    print_conv_layer_info(conv_layer, tensor)\n",
        "    return conv_layer\n",
        "\n",
        "def print_conv_layer_info(conv_layer, tensor):\n",
        "    output_tensor = conv_layer(tensor)\n",
        "    print(f\"Input tensor shape: {tensor.shape}\")\n",
        "    print(f\"Output tensor shape: {output_tensor.shape}\")\n",
        "    print(f\"Number of parameters in the convolutional layer: {sum(p.numel() for p in conv_layer.parameters())}\")\n",
        "    print(\"-----------\\n\")\n",
        "\n",
        "\n"
      ]
    },
    {
      "cell_type": "code",
      "execution_count": null,
      "metadata": {
        "id": "EaDRDQkkL9uy",
        "outputId": "838b68a5-ba21-46c4-e1f7-3ba7c7879afc"
      },
      "outputs": [
        {
          "name": "stdout",
          "output_type": "stream",
          "text": [
            "Trying Conv2d with kernel_size=2, stride=1, padding=1\n",
            "Input tensor shape: torch.Size([1, 2, 64, 64])\n",
            "Output tensor shape: torch.Size([1, 4, 65, 65])\n",
            "Number of parameters in the convolutional layer: 36\n",
            "-----------\n",
            "\n",
            "Trying Conv2d with kernel_size=3, stride=1, padding=1\n",
            "Input tensor shape: torch.Size([1, 2, 64, 64])\n",
            "Output tensor shape: torch.Size([1, 4, 64, 64])\n",
            "Number of parameters in the convolutional layer: 76\n",
            "-----------\n",
            "\n",
            "Trying Conv2d with kernel_size=5, stride=1, padding=1\n",
            "Input tensor shape: torch.Size([1, 2, 64, 64])\n",
            "Output tensor shape: torch.Size([1, 4, 62, 62])\n",
            "Number of parameters in the convolutional layer: 204\n",
            "-----------\n",
            "\n"
          ]
        }
      ],
      "source": [
        "con1 = try_parameter_conv(kernel_size=2, stride=1, padding=1, tensor=tensor_random)\n",
        "con1 = try_parameter_conv(kernel_size=3, stride=1, padding=1, tensor=tensor_random)\n",
        "con2 = try_parameter_conv(kernel_size=5, stride=1, padding=1, tensor=tensor_random)"
      ]
    },
    {
      "cell_type": "code",
      "execution_count": null,
      "metadata": {
        "id": "9Rq7MLOsL9uy",
        "outputId": "c3647d1a-4075-48a8-d3f3-b1e3c6b1d4d7"
      },
      "outputs": [
        {
          "name": "stdout",
          "output_type": "stream",
          "text": [
            "Trying Conv2d with kernel_size=3, stride=1, padding=1\n",
            "Input tensor shape: torch.Size([1, 2, 64, 64])\n",
            "Output tensor shape: torch.Size([1, 4, 64, 64])\n",
            "Number of parameters in the convolutional layer: 76\n",
            "-----------\n",
            "\n",
            "Trying Conv2d with kernel_size=3, stride=2, padding=1\n",
            "Input tensor shape: torch.Size([1, 2, 64, 64])\n",
            "Output tensor shape: torch.Size([1, 4, 32, 32])\n",
            "Number of parameters in the convolutional layer: 76\n",
            "-----------\n",
            "\n",
            "Trying Conv2d with kernel_size=3, stride=3, padding=1\n",
            "Input tensor shape: torch.Size([1, 2, 64, 64])\n",
            "Output tensor shape: torch.Size([1, 4, 22, 22])\n",
            "Number of parameters in the convolutional layer: 76\n",
            "-----------\n",
            "\n"
          ]
        }
      ],
      "source": [
        "con1 = try_parameter_conv(kernel_size=3, stride=1, padding=1, tensor=tensor_random)\n",
        "con1 = try_parameter_conv(kernel_size=3, stride=2, padding=1, tensor=tensor_random)\n",
        "con1 = try_parameter_conv(kernel_size=3, stride=3, padding=1, tensor=tensor_random)"
      ]
    },
    {
      "cell_type": "code",
      "execution_count": null,
      "metadata": {
        "id": "lFkp5inXL9uy",
        "outputId": "fd987e49-ed70-4872-8b5c-3bc4a32e2eaa"
      },
      "outputs": [
        {
          "name": "stdout",
          "output_type": "stream",
          "text": [
            "Trying Conv2d with kernel_size=3, stride=1, padding=same\n",
            "Input tensor shape: torch.Size([1, 2, 64, 64])\n",
            "Output tensor shape: torch.Size([1, 4, 64, 64])\n",
            "Number of parameters in the convolutional layer: 76\n",
            "-----------\n",
            "\n",
            "Trying Conv2d with kernel_size=3, stride=1, padding=valid\n",
            "Input tensor shape: torch.Size([1, 2, 64, 64])\n",
            "Output tensor shape: torch.Size([1, 4, 62, 62])\n",
            "Number of parameters in the convolutional layer: 76\n",
            "-----------\n",
            "\n"
          ]
        }
      ],
      "source": [
        "con1 = try_parameter_conv(kernel_size=3, stride=1, padding=\"same\" , tensor=tensor_random)\n",
        "con1 = try_parameter_conv(kernel_size=3, stride=1, padding=\"valid\", tensor=tensor_random)"
      ]
    }
  ],
  "metadata": {
    "accelerator": "GPU",
    "colab": {
      "provenance": []
    },
    "kernelspec": {
      "display_name": "torch",
      "language": "python",
      "name": "python3"
    },
    "language_info": {
      "codemirror_mode": {
        "name": "ipython",
        "version": 3
      },
      "file_extension": ".py",
      "mimetype": "text/x-python",
      "name": "python",
      "nbconvert_exporter": "python",
      "pygments_lexer": "ipython3",
      "version": "3.13.3"
    }
  },
  "nbformat": 4,
  "nbformat_minor": 0
}