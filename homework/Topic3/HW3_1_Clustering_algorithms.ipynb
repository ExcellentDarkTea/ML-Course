{
  "cells": [
    {
      "cell_type": "markdown",
      "metadata": {
        "id": "1VPFj5IQXeLe"
      },
      "source": [
        "### Домашнє завдання: Кластеризація в Аналізі Персоналій Клієнтів\n",
        "\n",
        "#### Контекст\n",
        "В цьому ДЗ ми скористаємось алгоритмами кластеризації для задачі аналізу портретів клієнтів (Customer Personality Analysis).\n",
        "\n",
        "Customer Personality Analysis - це аналіз різних сегментів клієнтів компанії. Цей аналіз дозволяє бізнесу краще розуміти своїх клієнтів і полегшує процес адаптації продуктів під конкретні потреби, поведінку та інтереси різних типів клієнтів.\n",
        "\n",
        "Аналіз портретів клієнтів допомагає бізнесу змінювати свій продукт на основі цільової аудиторії, розділеної на різні сегменти. Наприклад, замість того, щоб витрачати гроші на маркетинг нового продукту для всіх клієнтів у базі даних компанії, бізнес може проаналізувати, який сегмент клієнтів найімовірніше придбає продукт, і потім зосередити маркетингові зусилля лише на цьому сегменті.\n",
        "\n",
        "#### Завдання\n",
        "На основі наданих даних в файлі `marketing_campaign.csv` потрібно виконати кластеризацію, щоб виявити сегменти клієнтів.\n",
        "\n",
        "#### Вхідні дані\n",
        "Вам надано набір даних з такими атрибутами:\n",
        "\n",
        "**Характеристики користувачів:**\n",
        "- `ID`: Унікальний ідентифікатор клієнта\n",
        "- `Year_Birth`: Рік народження клієнта\n",
        "- `Education`: Рівень освіти клієнта\n",
        "- `Marital_Status`: Сімейний стан клієнта\n",
        "- `Income`: Річний дохід домогосподарства клієнта\n",
        "- `Kidhome`: Кількість дітей у домогосподарстві клієнта\n",
        "- `Teenhome`: Кількість підлітків у домогосподарстві клієнта\n",
        "- `Dt_Customer`: Дата реєстрації клієнта у компанії\n",
        "- `Recency`: Кількість днів з моменту останньої покупки клієнта\n",
        "- `Complain`: 1, якщо клієнт скаржився за останні 2 роки, 0 - якщо ні\n",
        "\n",
        "**Продукти:**\n",
        "- `MntWines`: Сума, витрачена на вино за останні 2 роки\n",
        "- `MntFruits`: Сума, витрачена на фрукти за останні 2 роки\n",
        "- `MntMeatProducts`: Сума, витрачена на м'ясні продукти за останні 2 роки\n",
        "- `MntFishProducts`: Сума, витрачена на рибні продукти за останні 2 роки\n",
        "- `MntSweetProducts`: Сума, витрачена на солодощі за останні 2 роки\n",
        "- `MntGoldProds`: Сума, витрачена на золото за останні 2 роки\n",
        "\n",
        "**Акції:**\n",
        "- `NumDealsPurchases`: Кількість покупок, зроблених з використанням знижок\n",
        "- `AcceptedCmp1`: 1, якщо клієнт прийняв пропозицію у першій кампанії, 0 - якщо ні\n",
        "- `AcceptedCmp2`: 1, якщо клієнт прийняв пропозицію у другій кампанії, 0 - якщо ні\n",
        "- `AcceptedCmp3`: 1, якщо клієнт прийняв пропозицію у третій кампанії, 0 - якщо ні\n",
        "- `AcceptedCmp4`: 1, якщо клієнт прийняв пропозицію у четвертій кампанії, 0 - якщо ні\n",
        "- `AcceptedCmp5`: 1, якщо клієнт прийняв пропозицію у п'ятій кампанії, 0 - якщо ні\n",
        "- `Response`: 1, якщо клієнт прийняв пропозицію в останній кампанії, 0 - якщо ні\n",
        "\n",
        "**Взаємодія з компанією:**\n",
        "- `NumWebPurchases`: Кількість покупок, зроблених через вебсайт компанії\n",
        "- `NumCatalogPurchases`: Кількість покупок, зроблених за каталогом\n",
        "- `NumStorePurchases`: Кількість покупок, зроблених безпосередньо у магазинах\n",
        "- `NumWebVisitsMonth`: Кількість відвідувань вебсайту компанії за останній місяць\n"
      ]
    },
    {
      "cell_type": "markdown",
      "metadata": {
        "id": "rxo9AlJyYr1h"
      },
      "source": [
        "**Завдання 1**. Завантажте дані з `marketing_campaign.csv` в Pandas dataframe і виведіть основну інформацію про дані: скільки всього рядків і колонок, які типи даних мають колонки, скільки пропущених значень."
      ]
    },
    {
      "cell_type": "code",
      "execution_count": 342,
      "metadata": {
        "id": "IOFEKYRhvvNR"
      },
      "outputs": [
        {
          "data": {
            "text/html": [
              "<div>\n",
              "<style scoped>\n",
              "    .dataframe tbody tr th:only-of-type {\n",
              "        vertical-align: middle;\n",
              "    }\n",
              "\n",
              "    .dataframe tbody tr th {\n",
              "        vertical-align: top;\n",
              "    }\n",
              "\n",
              "    .dataframe thead th {\n",
              "        text-align: right;\n",
              "    }\n",
              "</style>\n",
              "<table border=\"1\" class=\"dataframe\">\n",
              "  <thead>\n",
              "    <tr style=\"text-align: right;\">\n",
              "      <th></th>\n",
              "      <th>ID</th>\n",
              "      <th>Year_Birth</th>\n",
              "      <th>Education</th>\n",
              "      <th>Marital_Status</th>\n",
              "      <th>Income</th>\n",
              "      <th>Kidhome</th>\n",
              "      <th>Teenhome</th>\n",
              "      <th>Dt_Customer</th>\n",
              "      <th>Recency</th>\n",
              "      <th>MntWines</th>\n",
              "      <th>...</th>\n",
              "      <th>NumWebVisitsMonth</th>\n",
              "      <th>AcceptedCmp3</th>\n",
              "      <th>AcceptedCmp4</th>\n",
              "      <th>AcceptedCmp5</th>\n",
              "      <th>AcceptedCmp1</th>\n",
              "      <th>AcceptedCmp2</th>\n",
              "      <th>Complain</th>\n",
              "      <th>Z_CostContact</th>\n",
              "      <th>Z_Revenue</th>\n",
              "      <th>Response</th>\n",
              "    </tr>\n",
              "  </thead>\n",
              "  <tbody>\n",
              "    <tr>\n",
              "      <th>0</th>\n",
              "      <td>5524</td>\n",
              "      <td>1957</td>\n",
              "      <td>Graduation</td>\n",
              "      <td>Single</td>\n",
              "      <td>58138.0</td>\n",
              "      <td>0</td>\n",
              "      <td>0</td>\n",
              "      <td>04-09-2012</td>\n",
              "      <td>58</td>\n",
              "      <td>635</td>\n",
              "      <td>...</td>\n",
              "      <td>7</td>\n",
              "      <td>0</td>\n",
              "      <td>0</td>\n",
              "      <td>0</td>\n",
              "      <td>0</td>\n",
              "      <td>0</td>\n",
              "      <td>0</td>\n",
              "      <td>3</td>\n",
              "      <td>11</td>\n",
              "      <td>1</td>\n",
              "    </tr>\n",
              "    <tr>\n",
              "      <th>1</th>\n",
              "      <td>2174</td>\n",
              "      <td>1954</td>\n",
              "      <td>Graduation</td>\n",
              "      <td>Single</td>\n",
              "      <td>46344.0</td>\n",
              "      <td>1</td>\n",
              "      <td>1</td>\n",
              "      <td>08-03-2014</td>\n",
              "      <td>38</td>\n",
              "      <td>11</td>\n",
              "      <td>...</td>\n",
              "      <td>5</td>\n",
              "      <td>0</td>\n",
              "      <td>0</td>\n",
              "      <td>0</td>\n",
              "      <td>0</td>\n",
              "      <td>0</td>\n",
              "      <td>0</td>\n",
              "      <td>3</td>\n",
              "      <td>11</td>\n",
              "      <td>0</td>\n",
              "    </tr>\n",
              "    <tr>\n",
              "      <th>2</th>\n",
              "      <td>4141</td>\n",
              "      <td>1965</td>\n",
              "      <td>Graduation</td>\n",
              "      <td>Together</td>\n",
              "      <td>71613.0</td>\n",
              "      <td>0</td>\n",
              "      <td>0</td>\n",
              "      <td>21-08-2013</td>\n",
              "      <td>26</td>\n",
              "      <td>426</td>\n",
              "      <td>...</td>\n",
              "      <td>4</td>\n",
              "      <td>0</td>\n",
              "      <td>0</td>\n",
              "      <td>0</td>\n",
              "      <td>0</td>\n",
              "      <td>0</td>\n",
              "      <td>0</td>\n",
              "      <td>3</td>\n",
              "      <td>11</td>\n",
              "      <td>0</td>\n",
              "    </tr>\n",
              "    <tr>\n",
              "      <th>3</th>\n",
              "      <td>6182</td>\n",
              "      <td>1984</td>\n",
              "      <td>Graduation</td>\n",
              "      <td>Together</td>\n",
              "      <td>26646.0</td>\n",
              "      <td>1</td>\n",
              "      <td>0</td>\n",
              "      <td>10-02-2014</td>\n",
              "      <td>26</td>\n",
              "      <td>11</td>\n",
              "      <td>...</td>\n",
              "      <td>6</td>\n",
              "      <td>0</td>\n",
              "      <td>0</td>\n",
              "      <td>0</td>\n",
              "      <td>0</td>\n",
              "      <td>0</td>\n",
              "      <td>0</td>\n",
              "      <td>3</td>\n",
              "      <td>11</td>\n",
              "      <td>0</td>\n",
              "    </tr>\n",
              "    <tr>\n",
              "      <th>4</th>\n",
              "      <td>5324</td>\n",
              "      <td>1981</td>\n",
              "      <td>PhD</td>\n",
              "      <td>Married</td>\n",
              "      <td>58293.0</td>\n",
              "      <td>1</td>\n",
              "      <td>0</td>\n",
              "      <td>19-01-2014</td>\n",
              "      <td>94</td>\n",
              "      <td>173</td>\n",
              "      <td>...</td>\n",
              "      <td>5</td>\n",
              "      <td>0</td>\n",
              "      <td>0</td>\n",
              "      <td>0</td>\n",
              "      <td>0</td>\n",
              "      <td>0</td>\n",
              "      <td>0</td>\n",
              "      <td>3</td>\n",
              "      <td>11</td>\n",
              "      <td>0</td>\n",
              "    </tr>\n",
              "  </tbody>\n",
              "</table>\n",
              "<p>5 rows × 29 columns</p>\n",
              "</div>"
            ],
            "text/plain": [
              "     ID  Year_Birth   Education Marital_Status   Income  Kidhome  Teenhome  \\\n",
              "0  5524        1957  Graduation         Single  58138.0        0         0   \n",
              "1  2174        1954  Graduation         Single  46344.0        1         1   \n",
              "2  4141        1965  Graduation       Together  71613.0        0         0   \n",
              "3  6182        1984  Graduation       Together  26646.0        1         0   \n",
              "4  5324        1981         PhD        Married  58293.0        1         0   \n",
              "\n",
              "  Dt_Customer  Recency  MntWines  ...  NumWebVisitsMonth  AcceptedCmp3  \\\n",
              "0  04-09-2012       58       635  ...                  7             0   \n",
              "1  08-03-2014       38        11  ...                  5             0   \n",
              "2  21-08-2013       26       426  ...                  4             0   \n",
              "3  10-02-2014       26        11  ...                  6             0   \n",
              "4  19-01-2014       94       173  ...                  5             0   \n",
              "\n",
              "   AcceptedCmp4  AcceptedCmp5  AcceptedCmp1  AcceptedCmp2  Complain  \\\n",
              "0             0             0             0             0         0   \n",
              "1             0             0             0             0         0   \n",
              "2             0             0             0             0         0   \n",
              "3             0             0             0             0         0   \n",
              "4             0             0             0             0         0   \n",
              "\n",
              "   Z_CostContact  Z_Revenue  Response  \n",
              "0              3         11         1  \n",
              "1              3         11         0  \n",
              "2              3         11         0  \n",
              "3              3         11         0  \n",
              "4              3         11         0  \n",
              "\n",
              "[5 rows x 29 columns]"
            ]
          },
          "execution_count": 342,
          "metadata": {},
          "output_type": "execute_result"
        }
      ],
      "source": [
        "import pandas as pd\n",
        "import numpy as np\n",
        "import matplotlib.pyplot as plt\n",
        "\n",
        "path = '../../data/'\n",
        "df = pd.read_csv(path + 'marketing_campaign.csv', sep='\\t')\n",
        "df.head()"
      ]
    },
    {
      "cell_type": "code",
      "execution_count": 343,
      "metadata": {},
      "outputs": [
        {
          "name": "stdout",
          "output_type": "stream",
          "text": [
            "<class 'pandas.core.frame.DataFrame'>\n",
            "RangeIndex: 2240 entries, 0 to 2239\n",
            "Data columns (total 29 columns):\n",
            " #   Column               Non-Null Count  Dtype  \n",
            "---  ------               --------------  -----  \n",
            " 0   ID                   2240 non-null   int64  \n",
            " 1   Year_Birth           2240 non-null   int64  \n",
            " 2   Education            2240 non-null   object \n",
            " 3   Marital_Status       2240 non-null   object \n",
            " 4   Income               2216 non-null   float64\n",
            " 5   Kidhome              2240 non-null   int64  \n",
            " 6   Teenhome             2240 non-null   int64  \n",
            " 7   Dt_Customer          2240 non-null   object \n",
            " 8   Recency              2240 non-null   int64  \n",
            " 9   MntWines             2240 non-null   int64  \n",
            " 10  MntFruits            2240 non-null   int64  \n",
            " 11  MntMeatProducts      2240 non-null   int64  \n",
            " 12  MntFishProducts      2240 non-null   int64  \n",
            " 13  MntSweetProducts     2240 non-null   int64  \n",
            " 14  MntGoldProds         2240 non-null   int64  \n",
            " 15  NumDealsPurchases    2240 non-null   int64  \n",
            " 16  NumWebPurchases      2240 non-null   int64  \n",
            " 17  NumCatalogPurchases  2240 non-null   int64  \n",
            " 18  NumStorePurchases    2240 non-null   int64  \n",
            " 19  NumWebVisitsMonth    2240 non-null   int64  \n",
            " 20  AcceptedCmp3         2240 non-null   int64  \n",
            " 21  AcceptedCmp4         2240 non-null   int64  \n",
            " 22  AcceptedCmp5         2240 non-null   int64  \n",
            " 23  AcceptedCmp1         2240 non-null   int64  \n",
            " 24  AcceptedCmp2         2240 non-null   int64  \n",
            " 25  Complain             2240 non-null   int64  \n",
            " 26  Z_CostContact        2240 non-null   int64  \n",
            " 27  Z_Revenue            2240 non-null   int64  \n",
            " 28  Response             2240 non-null   int64  \n",
            "dtypes: float64(1), int64(25), object(3)\n",
            "memory usage: 507.6+ KB\n"
          ]
        },
        {
          "data": {
            "text/plain": [
              "(None,\n",
              " Education           5\n",
              " Marital_Status      8\n",
              " Dt_Customer       663\n",
              " dtype: int64)"
            ]
          },
          "execution_count": 343,
          "metadata": {},
          "output_type": "execute_result"
        }
      ],
      "source": [
        "df.info(), df.select_dtypes(include='object').nunique()"
      ]
    },
    {
      "cell_type": "code",
      "execution_count": 344,
      "metadata": {},
      "outputs": [
        {
          "data": {
            "text/plain": [
              "ID                      0\n",
              "Year_Birth              0\n",
              "Education               0\n",
              "Marital_Status          0\n",
              "Income                 24\n",
              "Kidhome                 0\n",
              "Teenhome                0\n",
              "Dt_Customer             0\n",
              "Recency                 0\n",
              "MntWines                0\n",
              "MntFruits               0\n",
              "MntMeatProducts         0\n",
              "MntFishProducts         0\n",
              "MntSweetProducts        0\n",
              "MntGoldProds            0\n",
              "NumDealsPurchases       0\n",
              "NumWebPurchases         0\n",
              "NumCatalogPurchases     0\n",
              "NumStorePurchases       0\n",
              "NumWebVisitsMonth       0\n",
              "AcceptedCmp3            0\n",
              "AcceptedCmp4            0\n",
              "AcceptedCmp5            0\n",
              "AcceptedCmp1            0\n",
              "AcceptedCmp2            0\n",
              "Complain                0\n",
              "Z_CostContact           0\n",
              "Z_Revenue               0\n",
              "Response                0\n",
              "dtype: int64"
            ]
          },
          "execution_count": 344,
          "metadata": {},
          "output_type": "execute_result"
        }
      ],
      "source": [
        "df.isna().sum() "
      ]
    },
    {
      "cell_type": "markdown",
      "metadata": {
        "id": "bxikhv1PaMv6"
      },
      "source": [
        "**Завдання 2.** Заповніть пропущені значення з врахуванням того завдання (кластеризація), яке ми виконуємо. Поясніть свій вибір заповнення пропущених значень."
      ]
    },
    {
      "cell_type": "code",
      "execution_count": 345,
      "metadata": {
        "id": "PNKBBwPivwcJ"
      },
      "outputs": [
        {
          "data": {
            "text/plain": [
              "(count      2216.000000\n",
              " mean      52247.251354\n",
              " std       25173.076661\n",
              " min        1730.000000\n",
              " 25%       35303.000000\n",
              " 50%       51381.500000\n",
              " 75%       68522.000000\n",
              " max      666666.000000\n",
              " Name: Income, dtype: float64,\n",
              " <Axes: >)"
            ]
          },
          "execution_count": 345,
          "metadata": {},
          "output_type": "execute_result"
        },
        {
          "data": {
            "image/png": "[encoded data removed]",
            "text/plain": [
              "<Figure size 640x480 with 1 Axes>"
            ]
          },
          "metadata": {},
          "output_type": "display_data"
        }
      ],
      "source": [
        "df.Income.describe(), df.Income.plot(kind = \"box\")"
      ]
    },
    {
      "cell_type": "code",
      "execution_count": 346,
      "metadata": {},
      "outputs": [],
      "source": [
        "df['Income_nan_flag'] = df['Income'].isna().astype(int)\n",
        "df['Income'].fillna(0, inplace=True)"
      ]
    },
    {
      "cell_type": "markdown",
      "metadata": {
        "id": "HndFo_IMZSbk"
      },
      "source": [
        "**Завдання 3.** У нас є декілька колонок з категоріальними значеннями та одна колонка з датою. Як би ви обробили ці колонки для того, аби передати їх в алгоритм кластеризації?\n",
        "\n",
        "Реалізуйте обробку категоріальних колонок і колонки з датою та перетворіть їх на ознаки, корисні для кластеризації з вашого погляду."
      ]
    },
    {
      "cell_type": "code",
      "execution_count": 347,
      "metadata": {
        "id": "YU3E1WGnvyHd"
      },
      "outputs": [
        {
          "data": {
            "text/plain": [
              "(Register_month\n",
              " 8     222\n",
              " 5     216\n",
              " 10    212\n",
              " 3     211\n",
              " 1     197\n",
              " 9     193\n",
              " 11    187\n",
              " 4     182\n",
              " 2     178\n",
              " 12    175\n",
              " 6     166\n",
              " 7     101\n",
              " Name: count, dtype: int64,\n",
              " count    2240.000000\n",
              " mean      353.582143\n",
              " std       202.122512\n",
              " min         0.000000\n",
              " 25%       180.750000\n",
              " 50%       355.500000\n",
              " 75%       529.000000\n",
              " max       699.000000\n",
              " Name: Days_Customer, dtype: float64,\n",
              " <Axes: >)"
            ]
          },
          "execution_count": 347,
          "metadata": {},
          "output_type": "execute_result"
        },
        {
          "data": {
            "image/png": "[encoded data removed]",
            "text/plain": [
              "<Figure size 640x480 with 1 Axes>"
            ]
          },
          "metadata": {},
          "output_type": "display_data"
        }
      ],
      "source": [
        "# how many days client has been a customer\n",
        "df['Dt_Customer'] = pd.to_datetime(df['Dt_Customer'], format='%d-%m-%Y')\n",
        "df['Days_Customer'] = (df['Dt_Customer'].max() - df['Dt_Customer']).dt.days\n",
        "df['Register_month'] = df['Dt_Customer'].dt.month\n",
        "\n",
        "df['Register_month'].value_counts(), df['Days_Customer'].describe(), df['Days_Customer'].plot(kind = \"box\")"
      ]
    },
    {
      "cell_type": "code",
      "execution_count": 348,
      "metadata": {},
      "outputs": [
        {
          "data": {
            "text/plain": [
              "(       Age_by_today  Age_by_registration\n",
              " count   2240.000000          2240.000000\n",
              " mean      45.194196            44.222321\n",
              " std       11.984069            12.022855\n",
              " min       18.000000            16.000000\n",
              " 25%       37.000000            36.000000\n",
              " 50%       44.000000            43.000000\n",
              " 75%       55.000000            54.000000\n",
              " max      121.000000           121.000000,\n",
              " <Axes: >)"
            ]
          },
          "execution_count": 348,
          "metadata": {},
          "output_type": "execute_result"
        },
        {
          "data": {
            "image/png": "[encoded data removed]",
            "text/plain": [
              "<Figure size 640x480 with 1 Axes>"
            ]
          },
          "metadata": {},
          "output_type": "display_data"
        }
      ],
      "source": [
        "# how old the client based on Year Birth\n",
        "today_year = df['Dt_Customer'].dt.year.max()\n",
        "df['Age_by_today'] = (today_year - df['Year_Birth'])\n",
        "\n",
        "# age by the registration day\n",
        "df['Age_by_registration'] = df['Dt_Customer'].dt.year - df['Year_Birth']\n",
        "\n",
        "df[['Age_by_today','Age_by_registration']].describe(), df['Age_by_today'].plot(kind = \"box\")"
      ]
    },
    {
      "cell_type": "code",
      "execution_count": 349,
      "metadata": {},
      "outputs": [
        {
          "name": "stdout",
          "output_type": "stream",
          "text": [
            "        ID Dt_Customer  Year_Birth\n",
            "192   7829  2013-09-26        1900\n",
            "239  11004  2014-05-17        1893\n",
            "339   1150  2013-09-26        1899\n"
          ]
        },
        {
          "data": {
            "text/html": [
              "<div>\n",
              "<style scoped>\n",
              "    .dataframe tbody tr th:only-of-type {\n",
              "        vertical-align: middle;\n",
              "    }\n",
              "\n",
              "    .dataframe tbody tr th {\n",
              "        vertical-align: top;\n",
              "    }\n",
              "\n",
              "    .dataframe thead th {\n",
              "        text-align: right;\n",
              "    }\n",
              "</style>\n",
              "<table border=\"1\" class=\"dataframe\">\n",
              "  <thead>\n",
              "    <tr style=\"text-align: right;\">\n",
              "      <th></th>\n",
              "      <th>Age_by_registration</th>\n",
              "      <th>Age_by_today</th>\n",
              "    </tr>\n",
              "  </thead>\n",
              "  <tbody>\n",
              "    <tr>\n",
              "      <th>192</th>\n",
              "      <td>113</td>\n",
              "      <td>114</td>\n",
              "    </tr>\n",
              "    <tr>\n",
              "      <th>239</th>\n",
              "      <td>121</td>\n",
              "      <td>121</td>\n",
              "    </tr>\n",
              "    <tr>\n",
              "      <th>339</th>\n",
              "      <td>114</td>\n",
              "      <td>115</td>\n",
              "    </tr>\n",
              "  </tbody>\n",
              "</table>\n",
              "</div>"
            ],
            "text/plain": [
              "     Age_by_registration  Age_by_today\n",
              "192                  113           114\n",
              "239                  121           121\n",
              "339                  114           115"
            ]
          },
          "execution_count": 349,
          "metadata": {},
          "output_type": "execute_result"
        }
      ],
      "source": [
        "old_clients = df[df['Age_by_today'] > 100]\n",
        "print(old_clients[['ID', 'Dt_Customer', 'Year_Birth']].head(10))\n",
        "old_clients[['Age_by_registration', 'Age_by_today']]"
      ]
    },
    {
      "cell_type": "code",
      "execution_count": 350,
      "metadata": {},
      "outputs": [
        {
          "data": {
            "text/plain": [
              "(Education\n",
              " Graduation    1127\n",
              " PhD            486\n",
              " Master         370\n",
              " 2n Cycle       203\n",
              " Basic           54\n",
              " Name: count, dtype: int64,\n",
              " Marital_Status\n",
              " Married     864\n",
              " Together    580\n",
              " Single      480\n",
              " Divorced    232\n",
              " Widow        77\n",
              " Alone         3\n",
              " Absurd        2\n",
              " YOLO          2\n",
              " Name: count, dtype: int64)"
            ]
          },
          "execution_count": 350,
          "metadata": {},
          "output_type": "execute_result"
        }
      ],
      "source": [
        "df['Education'].value_counts(), df['Marital_Status'].value_counts(), "
      ]
    },
    {
      "cell_type": "code",
      "execution_count": 351,
      "metadata": {},
      "outputs": [
        {
          "data": {
            "text/html": [
              "<div>\n",
              "<style scoped>\n",
              "    .dataframe tbody tr th:only-of-type {\n",
              "        vertical-align: middle;\n",
              "    }\n",
              "\n",
              "    .dataframe tbody tr th {\n",
              "        vertical-align: top;\n",
              "    }\n",
              "\n",
              "    .dataframe thead th {\n",
              "        text-align: right;\n",
              "    }\n",
              "</style>\n",
              "<table border=\"1\" class=\"dataframe\">\n",
              "  <thead>\n",
              "    <tr style=\"text-align: right;\">\n",
              "      <th></th>\n",
              "      <th>ID</th>\n",
              "      <th>Year_Birth</th>\n",
              "      <th>Education</th>\n",
              "      <th>Marital_Status</th>\n",
              "      <th>Income</th>\n",
              "      <th>Kidhome</th>\n",
              "      <th>Teenhome</th>\n",
              "      <th>Dt_Customer</th>\n",
              "      <th>Recency</th>\n",
              "      <th>MntWines</th>\n",
              "      <th>...</th>\n",
              "      <th>Education_Basic</th>\n",
              "      <th>Education_Graduation</th>\n",
              "      <th>Education_Master</th>\n",
              "      <th>Education_PhD</th>\n",
              "      <th>Marital_Status_Divorced</th>\n",
              "      <th>Marital_Status_Married</th>\n",
              "      <th>Marital_Status_Other</th>\n",
              "      <th>Marital_Status_Single</th>\n",
              "      <th>Marital_Status_Together</th>\n",
              "      <th>Marital_Status_Widow</th>\n",
              "    </tr>\n",
              "  </thead>\n",
              "  <tbody>\n",
              "    <tr>\n",
              "      <th>0</th>\n",
              "      <td>5524</td>\n",
              "      <td>1957</td>\n",
              "      <td>Graduation</td>\n",
              "      <td>Single</td>\n",
              "      <td>58138.0</td>\n",
              "      <td>0</td>\n",
              "      <td>0</td>\n",
              "      <td>2012-09-04</td>\n",
              "      <td>58</td>\n",
              "      <td>635</td>\n",
              "      <td>...</td>\n",
              "      <td>0.0</td>\n",
              "      <td>1.0</td>\n",
              "      <td>0.0</td>\n",
              "      <td>0.0</td>\n",
              "      <td>0.0</td>\n",
              "      <td>0.0</td>\n",
              "      <td>0.0</td>\n",
              "      <td>1.0</td>\n",
              "      <td>0.0</td>\n",
              "      <td>0.0</td>\n",
              "    </tr>\n",
              "    <tr>\n",
              "      <th>1</th>\n",
              "      <td>2174</td>\n",
              "      <td>1954</td>\n",
              "      <td>Graduation</td>\n",
              "      <td>Single</td>\n",
              "      <td>46344.0</td>\n",
              "      <td>1</td>\n",
              "      <td>1</td>\n",
              "      <td>2014-03-08</td>\n",
              "      <td>38</td>\n",
              "      <td>11</td>\n",
              "      <td>...</td>\n",
              "      <td>0.0</td>\n",
              "      <td>1.0</td>\n",
              "      <td>0.0</td>\n",
              "      <td>0.0</td>\n",
              "      <td>0.0</td>\n",
              "      <td>0.0</td>\n",
              "      <td>0.0</td>\n",
              "      <td>1.0</td>\n",
              "      <td>0.0</td>\n",
              "      <td>0.0</td>\n",
              "    </tr>\n",
              "    <tr>\n",
              "      <th>2</th>\n",
              "      <td>4141</td>\n",
              "      <td>1965</td>\n",
              "      <td>Graduation</td>\n",
              "      <td>Together</td>\n",
              "      <td>71613.0</td>\n",
              "      <td>0</td>\n",
              "      <td>0</td>\n",
              "      <td>2013-08-21</td>\n",
              "      <td>26</td>\n",
              "      <td>426</td>\n",
              "      <td>...</td>\n",
              "      <td>0.0</td>\n",
              "      <td>1.0</td>\n",
              "      <td>0.0</td>\n",
              "      <td>0.0</td>\n",
              "      <td>0.0</td>\n",
              "      <td>0.0</td>\n",
              "      <td>0.0</td>\n",
              "      <td>0.0</td>\n",
              "      <td>1.0</td>\n",
              "      <td>0.0</td>\n",
              "    </tr>\n",
              "    <tr>\n",
              "      <th>3</th>\n",
              "      <td>6182</td>\n",
              "      <td>1984</td>\n",
              "      <td>Graduation</td>\n",
              "      <td>Together</td>\n",
              "      <td>26646.0</td>\n",
              "      <td>1</td>\n",
              "      <td>0</td>\n",
              "      <td>2014-02-10</td>\n",
              "      <td>26</td>\n",
              "      <td>11</td>\n",
              "      <td>...</td>\n",
              "      <td>0.0</td>\n",
              "      <td>1.0</td>\n",
              "      <td>0.0</td>\n",
              "      <td>0.0</td>\n",
              "      <td>0.0</td>\n",
              "      <td>0.0</td>\n",
              "      <td>0.0</td>\n",
              "      <td>0.0</td>\n",
              "      <td>1.0</td>\n",
              "      <td>0.0</td>\n",
              "    </tr>\n",
              "    <tr>\n",
              "      <th>4</th>\n",
              "      <td>5324</td>\n",
              "      <td>1981</td>\n",
              "      <td>PhD</td>\n",
              "      <td>Married</td>\n",
              "      <td>58293.0</td>\n",
              "      <td>1</td>\n",
              "      <td>0</td>\n",
              "      <td>2014-01-19</td>\n",
              "      <td>94</td>\n",
              "      <td>173</td>\n",
              "      <td>...</td>\n",
              "      <td>0.0</td>\n",
              "      <td>0.0</td>\n",
              "      <td>0.0</td>\n",
              "      <td>1.0</td>\n",
              "      <td>0.0</td>\n",
              "      <td>1.0</td>\n",
              "      <td>0.0</td>\n",
              "      <td>0.0</td>\n",
              "      <td>0.0</td>\n",
              "      <td>0.0</td>\n",
              "    </tr>\n",
              "  </tbody>\n",
              "</table>\n",
              "<p>5 rows × 45 columns</p>\n",
              "</div>"
            ],
            "text/plain": [
              "     ID  Year_Birth   Education Marital_Status   Income  Kidhome  Teenhome  \\\n",
              "0  5524        1957  Graduation         Single  58138.0        0         0   \n",
              "1  2174        1954  Graduation         Single  46344.0        1         1   \n",
              "2  4141        1965  Graduation       Together  71613.0        0         0   \n",
              "3  6182        1984  Graduation       Together  26646.0        1         0   \n",
              "4  5324        1981         PhD        Married  58293.0        1         0   \n",
              "\n",
              "  Dt_Customer  Recency  MntWines  ...  Education_Basic  Education_Graduation  \\\n",
              "0  2012-09-04       58       635  ...              0.0                   1.0   \n",
              "1  2014-03-08       38        11  ...              0.0                   1.0   \n",
              "2  2013-08-21       26       426  ...              0.0                   1.0   \n",
              "3  2014-02-10       26        11  ...              0.0                   1.0   \n",
              "4  2014-01-19       94       173  ...              0.0                   0.0   \n",
              "\n",
              "   Education_Master  Education_PhD  Marital_Status_Divorced  \\\n",
              "0               0.0            0.0                      0.0   \n",
              "1               0.0            0.0                      0.0   \n",
              "2               0.0            0.0                      0.0   \n",
              "3               0.0            0.0                      0.0   \n",
              "4               0.0            1.0                      0.0   \n",
              "\n",
              "   Marital_Status_Married  Marital_Status_Other  Marital_Status_Single  \\\n",
              "0                     0.0                   0.0                    1.0   \n",
              "1                     0.0                   0.0                    1.0   \n",
              "2                     0.0                   0.0                    0.0   \n",
              "3                     0.0                   0.0                    0.0   \n",
              "4                     1.0                   0.0                    0.0   \n",
              "\n",
              "   Marital_Status_Together  Marital_Status_Widow  \n",
              "0                      0.0                   0.0  \n",
              "1                      0.0                   0.0  \n",
              "2                      1.0                   0.0  \n",
              "3                      1.0                   0.0  \n",
              "4                      0.0                   0.0  \n",
              "\n",
              "[5 rows x 45 columns]"
            ]
          },
          "execution_count": 351,
          "metadata": {},
          "output_type": "execute_result"
        }
      ],
      "source": [
        "from sklearn.preprocessing import OneHotEncoder\n",
        "\n",
        "maper = {'YOLO': 'Other', 'Absurd': 'Other', 'Alone': 'Single'}\n",
        "df['Marital_Status'] = df['Marital_Status'].replace(maper)\n",
        "\n",
        "ohe = OneHotEncoder(sparse_output=False)\n",
        "\n",
        "ohe.fit(df[['Education', 'Marital_Status']])\n",
        "ohe.categories_\n",
        "ohe_df = pd.DataFrame(ohe.transform(df[['Education', 'Marital_Status']]), columns=ohe.get_feature_names_out(['Education', 'Marital_Status']))\n",
        "ohe_df.head()\n",
        "\n",
        "df = pd.concat([df, ohe_df], axis=1)\n",
        "df.head()"
      ]
    },
    {
      "cell_type": "code",
      "execution_count": 352,
      "metadata": {},
      "outputs": [
        {
          "name": "stdout",
          "output_type": "stream",
          "text": [
            "<class 'pandas.core.frame.DataFrame'>\n",
            "RangeIndex: 2240 entries, 0 to 2239\n",
            "Data columns (total 45 columns):\n",
            " #   Column                   Non-Null Count  Dtype         \n",
            "---  ------                   --------------  -----         \n",
            " 0   ID                       2240 non-null   int64         \n",
            " 1   Year_Birth               2240 non-null   int64         \n",
            " 2   Education                2240 non-null   object        \n",
            " 3   Marital_Status           2240 non-null   object        \n",
            " 4   Income                   2240 non-null   float64       \n",
            " 5   Kidhome                  2240 non-null   int64         \n",
            " 6   Teenhome                 2240 non-null   int64         \n",
            " 7   Dt_Customer              2240 non-null   datetime64[ns]\n",
            " 8   Recency                  2240 non-null   int64         \n",
            " 9   MntWines                 2240 non-null   int64         \n",
            " 10  MntFruits                2240 non-null   int64         \n",
            " 11  MntMeatProducts          2240 non-null   int64         \n",
            " 12  MntFishProducts          2240 non-null   int64         \n",
            " 13  MntSweetProducts         2240 non-null   int64         \n",
            " 14  MntGoldProds             2240 non-null   int64         \n",
            " 15  NumDealsPurchases        2240 non-null   int64         \n",
            " 16  NumWebPurchases          2240 non-null   int64         \n",
            " 17  NumCatalogPurchases      2240 non-null   int64         \n",
            " 18  NumStorePurchases        2240 non-null   int64         \n",
            " 19  NumWebVisitsMonth        2240 non-null   int64         \n",
            " 20  AcceptedCmp3             2240 non-null   int64         \n",
            " 21  AcceptedCmp4             2240 non-null   int64         \n",
            " 22  AcceptedCmp5             2240 non-null   int64         \n",
            " 23  AcceptedCmp1             2240 non-null   int64         \n",
            " 24  AcceptedCmp2             2240 non-null   int64         \n",
            " 25  Complain                 2240 non-null   int64         \n",
            " 26  Z_CostContact            2240 non-null   int64         \n",
            " 27  Z_Revenue                2240 non-null   int64         \n",
            " 28  Response                 2240 non-null   int64         \n",
            " 29  Income_nan_flag          2240 non-null   int64         \n",
            " 30  Days_Customer            2240 non-null   int64         \n",
            " 31  Register_month           2240 non-null   int32         \n",
            " 32  Age_by_today             2240 non-null   int64         \n",
            " 33  Age_by_registration      2240 non-null   int64         \n",
            " 34  Education_2n Cycle       2240 non-null   float64       \n",
            " 35  Education_Basic          2240 non-null   float64       \n",
            " 36  Education_Graduation     2240 non-null   float64       \n",
            " 37  Education_Master         2240 non-null   float64       \n",
            " 38  Education_PhD            2240 non-null   float64       \n",
            " 39  Marital_Status_Divorced  2240 non-null   float64       \n",
            " 40  Marital_Status_Married   2240 non-null   float64       \n",
            " 41  Marital_Status_Other     2240 non-null   float64       \n",
            " 42  Marital_Status_Single    2240 non-null   float64       \n",
            " 43  Marital_Status_Together  2240 non-null   float64       \n",
            " 44  Marital_Status_Widow     2240 non-null   float64       \n",
            "dtypes: datetime64[ns](1), float64(12), int32(1), int64(29), object(2)\n",
            "memory usage: 778.9+ KB\n"
          ]
        }
      ],
      "source": [
        "df.info()"
      ]
    },
    {
      "cell_type": "markdown",
      "metadata": {
        "id": "YYe1YDbdfreS"
      },
      "source": [
        "**Завдання 4**.\n",
        "1. Запишіть в змінну X ті дані, які будете кластеризувати.\n",
        "2. Побудуйте кластеризацію з KMeans на 3 кластери.\n",
        "3. Обчисліть метрику силуету для цієї кластеризації."
      ]
    },
    {
      "cell_type": "code",
      "execution_count": 353,
      "metadata": {
        "id": "OE6DI9qpvzfp"
      },
      "outputs": [],
      "source": [
        "X = df.drop(columns=['ID', 'Dt_Customer', 'Year_Birth', 'Education', 'Marital_Status'])"
      ]
    },
    {
      "cell_type": "code",
      "execution_count": 354,
      "metadata": {},
      "outputs": [],
      "source": [
        "df_metrics = pd.DataFrame(columns=['model', 'value'])"
      ]
    },
    {
      "cell_type": "code",
      "execution_count": 355,
      "metadata": {},
      "outputs": [],
      "source": [
        "from sklearn.cluster import KMeans\n",
        "from sklearn.metrics import silhouette_samples, silhouette_score\n",
        "\n",
        "def k_mean_clustering(X, n_clusters, type='kmeans'): \n",
        "\n",
        "    kmeans = KMeans(n_clusters=n_clusters, random_state=42)\n",
        "    kmeans.fit(X)\n",
        "\n",
        "    pred = kmeans.predict(X)\n",
        "    metric = silhouette_score(X, pred)\n",
        "    print(f'Silhouette score for {n_clusters} clusters: {metric:.4f}')\n",
        "\n",
        "    new_row = pd.DataFrame({'model': [type], 'value': [metric]})\n",
        "\n",
        "    return kmeans.labels_, new_row"
      ]
    },
    {
      "cell_type": "code",
      "execution_count": 356,
      "metadata": {},
      "outputs": [
        {
          "name": "stdout",
          "output_type": "stream",
          "text": [
            "Silhouette score for 3 clusters: 0.5282\n"
          ]
        },
        {
          "name": "stderr",
          "output_type": "stream",
          "text": [
            "C:\\Users\\Olhas\\AppData\\Local\\Temp\\ipykernel_35056\\3899170200.py:2: FutureWarning: The behavior of DataFrame concatenation with empty or all-NA entries is deprecated. In a future version, this will no longer exclude empty or all-NA columns when determining the result dtypes. To retain the old behavior, exclude the relevant entries before the concat operation.\n",
            "  df_metrics = pd.concat([df_metrics, metric_3], ignore_index=True)\n"
          ]
        },
        {
          "data": {
            "text/html": [
              "<div>\n",
              "<style scoped>\n",
              "    .dataframe tbody tr th:only-of-type {\n",
              "        vertical-align: middle;\n",
              "    }\n",
              "\n",
              "    .dataframe tbody tr th {\n",
              "        vertical-align: top;\n",
              "    }\n",
              "\n",
              "    .dataframe thead th {\n",
              "        text-align: right;\n",
              "    }\n",
              "</style>\n",
              "<table border=\"1\" class=\"dataframe\">\n",
              "  <thead>\n",
              "    <tr style=\"text-align: right;\">\n",
              "      <th></th>\n",
              "      <th>model</th>\n",
              "      <th>value</th>\n",
              "    </tr>\n",
              "  </thead>\n",
              "  <tbody>\n",
              "    <tr>\n",
              "      <th>0</th>\n",
              "      <td>3 clusters</td>\n",
              "      <td>0.528192</td>\n",
              "    </tr>\n",
              "  </tbody>\n",
              "</table>\n",
              "</div>"
            ],
            "text/plain": [
              "        model     value\n",
              "0  3 clusters  0.528192"
            ]
          },
          "execution_count": 356,
          "metadata": {},
          "output_type": "execute_result"
        }
      ],
      "source": [
        "\n",
        "kmeans_labels_3, metric_3 = k_mean_clustering(X, 3, '3 clusters')\n",
        "df_metrics = pd.concat([df_metrics, metric_3], ignore_index=True)\n",
        "df_metrics\n",
        "\n",
        "\n",
        "# kmeans_3 = KMeans(n_clusters=3, random_state=42)\n",
        "# kmeans_3.fit(X)\n",
        "\n",
        "# labels_3 = kmeans_3.predict(X)\n",
        "\n",
        "# metric_3 = silhouette_score(X, labels_3)\n",
        "# print(f'Silhouette score for 3 clusters: {metric_3:.3f}')\n",
        "\n",
        "# new_row = pd.DataFrame([{'model': 'kmeans_3', 'value': metric_3}])\n",
        "\n"
      ]
    },
    {
      "cell_type": "markdown",
      "metadata": {
        "id": "tQdwr_c-fa4j"
      },
      "source": [
        "**Завдання 5.** Візуалізуйте знайдені кластери разом з наявними даними та проаналізуйте кластери. У нас ознак більше, ніж 2 або 3, тож, тут треба подумати, які саме ознаки варто використати для візуалізації аби вони були інформативними. Рекомендую точно звернути увагу на харакетиристики про дохід користувачів і те, як вони взаємодять з магазинок (кількість покупок і тд).\n",
        "\n",
        "Для візуалізації зручно може бути використати `plotly.express.scatter_3d` для 3D графіку розсіювання, але тут можна скористатись будь-яким зрозумілим і зручним для вас методом візуалізації. Опишіть свої спостереження, чи кластери мають сенс?"
      ]
    },
    {
      "cell_type": "code",
      "execution_count": 357,
      "metadata": {},
      "outputs": [],
      "source": [
        "# !pip install plotly --quiet"
      ]
    },
    {
      "cell_type": "code",
      "execution_count": 358,
      "metadata": {
        "id": "0P38ZcYrv1vt"
      },
      "outputs": [],
      "source": [
        "# import plotly.express as px\n",
        "\n",
        "# px.scatter_3d(df, x='Income', y='Age_by_today', z='Days_Customer', color=labels_3, title='3 Clusters KMeans', color_continuous_scale=px.colors.sequential.Viridis).show()"
      ]
    },
    {
      "cell_type": "markdown",
      "metadata": {
        "id": "Jcbmkz1Yrnas"
      },
      "source": [
        "**Завдання 6**. Масштабуйте дані і побудуйте знову кластеризацію KMeans на 3 кластери і обчисліть метрику силуету. Опишіть порівняння з експериментом без масштабування значень."
      ]
    },
    {
      "cell_type": "code",
      "execution_count": 359,
      "metadata": {
        "id": "D3N23uMtv42c"
      },
      "outputs": [
        {
          "name": "stdout",
          "output_type": "stream",
          "text": [
            "Silhouette score for 3 clusters: 0.0974\n",
            "Silhouette score for 3 clusters: 0.1705\n"
          ]
        }
      ],
      "source": [
        "from sklearn.preprocessing import StandardScaler, MinMaxScaler\n",
        "\n",
        "scaler = StandardScaler()\n",
        "X_scaled = scaler.fit_transform(X)\n",
        "\n",
        "kmeans_scaled, metric_scaled = k_mean_clustering(X_scaled, 3, 'StandartScaler')\n",
        "df_metrics = pd.concat([df_metrics, metric_scaled], ignore_index=True)\n",
        "\n",
        "# kmeans_stand = KMeans(n_clusters=3, random_state=42)\n",
        "# kmeans_stand.fit(X_scaled)\n",
        "# labels_stand = kmeans_stand.predict(X_scaled)\n",
        "# metric_stand = silhouette_score(X_scaled, labels_stand)\n",
        "# print(f'Silhouette score for 3 clusters with StandardScaler: {metric_stand:.3f}')\n",
        "\n",
        "minmax = MinMaxScaler()\n",
        "X_minmax = minmax.fit_transform(X)\n",
        "\n",
        "kmeans_minmax, metric_minmax = k_mean_clustering(X_minmax, 3, 'MinMaxScaler')\n",
        "df_metrics = pd.concat([df_metrics, metric_minmax], ignore_index=True)\n",
        "\n",
        "# kmeans_minmax = KMeans(n_clusters=3, random_state=42)\n",
        "# kmeans_minmax.fit(X_minmax)\n",
        "# labels_minmax = kmeans_minmax.predict(X_minmax)\n",
        "# metric_minmax = silhouette_score(X_minmax, labels_minmax)\n",
        "# print(f'Silhouette score for 3 clusters with MinMaxScaler: {metric_minmax:.3f}')\n"
      ]
    },
    {
      "cell_type": "markdown",
      "metadata": {
        "id": "_DvQ5DGphigM"
      },
      "source": [
        "**Завдання 7.** З візуалізацій на попередньому кроці ви могли побачити якісь викиди в даних. Опрацюйте викиди (можна видалити ці рядки або придумати інший спосіб)."
      ]
    },
    {
      "cell_type": "code",
      "execution_count": 360,
      "metadata": {
        "id": "r9YlHhoJv5_n"
      },
      "outputs": [],
      "source": [
        "X_clean = X.copy()"
      ]
    },
    {
      "cell_type": "markdown",
      "metadata": {
        "id": "KKwONE0bg6Ms"
      },
      "source": [
        "**Завдання 8.** Виконайте Elbow method для пошуку оптимальної кількості кластерів та натренуйте KMeans з тою кількістю кластерів, яку Elbow method показав як оптимальну. Обчисліть метрику силуету. Візуалізуйте кластери. З яким набором даних (масштабованим чи ні) тут працювати - ваш вибір, можна зробити експеримент з обома."
      ]
    },
    {
      "cell_type": "code",
      "execution_count": 361,
      "metadata": {},
      "outputs": [
        {
          "name": "stdout",
          "output_type": "stream",
          "text": [
            "             SSD          diff  normalize_diff\n",
            "2   7.028639e+11           NaN             NaN\n",
            "3   5.484217e+11 -1.544422e+11        0.554935\n",
            "4   2.016744e+11 -3.467473e+11        0.000000\n",
            "5   1.547537e+11 -4.692063e+10        0.865211\n",
            "6   9.255855e+10 -6.219519e+10        0.821133\n",
            "7   6.270802e+10 -2.985053e+10        0.914470\n",
            "8   4.764416e+10 -1.506386e+10        0.957140\n",
            "9   3.687099e+10 -1.077318e+10        0.969521\n",
            "10  2.683896e+10 -1.003202e+10        0.971660\n",
            "11  2.167175e+10 -5.167217e+09        0.985699\n"
          ]
        },
        {
          "data": {
            "text/plain": [
              "Text(0.5, 1.0, 'Elbow Method')"
            ]
          },
          "execution_count": 361,
          "metadata": {},
          "output_type": "execute_result"
        },
        {
          "data": {
            "image/png": "[encoded data removed]",
            "text/plain": [
              "<Figure size 640x480 with 1 Axes>"
            ]
          },
          "metadata": {},
          "output_type": "display_data"
        }
      ],
      "source": [
        "K_point = range(2, 25)\n",
        "SSD = []\n",
        "\n",
        "for k in K_point:\n",
        "    kmeans = KMeans(n_clusters=k, random_state=42)\n",
        "    kmeans.fit(X)\n",
        "    SSD.append(kmeans.inertia_)\n",
        "\n",
        "sdd = pd.DataFrame(SSD, index=K_point, columns=['SSD'])\n",
        "sdd['diff'] = sdd.SSD.diff()\n",
        "sdd['normalize_diff'] = (sdd['diff']-sdd['diff'].min()) / (sdd['diff'].max()-sdd['diff'].min()) \n",
        "print(sdd.head(10))\n",
        "\n",
        "plt.plot(K_point, SSD, marker='o')\n",
        "plt.axvline(x=6, color='red', linestyle='--')\n",
        "plt.xlabel('Number of clusters')\n",
        "plt.ylabel('Sum of squared distances')\n",
        "plt.title('Elbow Method')  "
      ]
    },
    {
      "cell_type": "code",
      "execution_count": 362,
      "metadata": {},
      "outputs": [
        {
          "name": "stdout",
          "output_type": "stream",
          "text": [
            "Silhouette score for 6 clusters: 0.5341\n"
          ]
        },
        {
          "data": {
            "text/html": [
              "<div>\n",
              "<style scoped>\n",
              "    .dataframe tbody tr th:only-of-type {\n",
              "        vertical-align: middle;\n",
              "    }\n",
              "\n",
              "    .dataframe tbody tr th {\n",
              "        vertical-align: top;\n",
              "    }\n",
              "\n",
              "    .dataframe thead th {\n",
              "        text-align: right;\n",
              "    }\n",
              "</style>\n",
              "<table border=\"1\" class=\"dataframe\">\n",
              "  <thead>\n",
              "    <tr style=\"text-align: right;\">\n",
              "      <th></th>\n",
              "      <th>model</th>\n",
              "      <th>value</th>\n",
              "    </tr>\n",
              "  </thead>\n",
              "  <tbody>\n",
              "    <tr>\n",
              "      <th>0</th>\n",
              "      <td>3 clusters</td>\n",
              "      <td>0.528192</td>\n",
              "    </tr>\n",
              "    <tr>\n",
              "      <th>1</th>\n",
              "      <td>StandartScaler</td>\n",
              "      <td>0.097405</td>\n",
              "    </tr>\n",
              "    <tr>\n",
              "      <th>2</th>\n",
              "      <td>MinMaxScaler</td>\n",
              "      <td>0.170471</td>\n",
              "    </tr>\n",
              "    <tr>\n",
              "      <th>3</th>\n",
              "      <td>6 clusters</td>\n",
              "      <td>0.534077</td>\n",
              "    </tr>\n",
              "  </tbody>\n",
              "</table>\n",
              "</div>"
            ],
            "text/plain": [
              "            model     value\n",
              "0      3 clusters  0.528192\n",
              "1  StandartScaler  0.097405\n",
              "2    MinMaxScaler  0.170471\n",
              "3      6 clusters  0.534077"
            ]
          },
          "execution_count": 362,
          "metadata": {},
          "output_type": "execute_result"
        }
      ],
      "source": [
        "# kmeans_6 = KMeans(n_clusters=6, random_state=42)\n",
        "# kmeans_6.fit(X)\n",
        "# labels_6 = kmeans_6.predict(X)\n",
        "# metric_6 = silhouette_score(X, labels_6)\n",
        "# print(f'Silhouette score for 6 clusters: {metric_6:.3f}')\n",
        "\n",
        "kmeans_labels_6, metric_6 = k_mean_clustering(X, 6, '6 clusters')\n",
        "df_metrics = pd.concat([df_metrics, metric_6], ignore_index=True)\n",
        "df_metrics\n"
      ]
    },
    {
      "cell_type": "code",
      "execution_count": 363,
      "metadata": {
        "id": "6spgXhWnv7w4"
      },
      "outputs": [
        {
          "data": {
            "text/plain": [
              "Text(0.5, 1.0, 'Elbow Method')"
            ]
          },
          "execution_count": 363,
          "metadata": {},
          "output_type": "execute_result"
        },
        {
          "data": {
            "image/png": "[encoded data removed]",
            "text/plain": [
              "<Figure size 640x480 with 1 Axes>"
            ]
          },
          "metadata": {},
          "output_type": "display_data"
        }
      ],
      "source": [
        "K_point = range(2, 50)\n",
        "SSD = []\n",
        "\n",
        "for k in K_point:\n",
        "    kmeans = KMeans(n_clusters=k, random_state=42)\n",
        "    kmeans.fit(X_scaled)\n",
        "    SSD.append(kmeans.inertia_)\n",
        "\n",
        "plt.plot(K_point, SSD, marker='o')\n",
        "plt.axvline(x=11, color='red', linestyle='--')\n",
        "plt.axvline(x=24, color='red', linestyle='--')\n",
        "plt.xlabel('Number of clusters')\n",
        "plt.ylabel('Sum of squared distances')\n",
        "plt.title('Elbow Method')    "
      ]
    },
    {
      "cell_type": "code",
      "execution_count": 364,
      "metadata": {},
      "outputs": [
        {
          "name": "stdout",
          "output_type": "stream",
          "text": [
            "Silhouette score for 24 clusters: 0.0798\n",
            "Silhouette score for 11 clusters: 0.0687\n"
          ]
        }
      ],
      "source": [
        "# kmeans_25 = KMeans(n_clusters=24, random_state=42)\n",
        "# kmeans_25.fit(X_scaled)\n",
        "# labels_25 = kmeans_25.predict(X_scaled)\n",
        "# metric_25 = silhouette_score(X_scaled, labels_25)\n",
        "# print(f'Silhouette score for 24 clusters: {metric_25:.3f}')\n",
        "\n",
        "# kmeans_12 = KMeans(n_clusters=11, random_state=42)\n",
        "# kmeans_12.fit(X_scaled)\n",
        "# labels_12 = kmeans_12.predict(X_scaled)\n",
        "# metric_12 = silhouette_score(X_scaled, labels_12)\n",
        "# print(f'Silhouette score for 11 clusters: {metric_12:.3f}')\n",
        "\n",
        "kmeans_labels_24, metric_24 = k_mean_clustering(X_scaled, 24, '24 clusters standard')\n",
        "df_metrics = pd.concat([df_metrics, metric_24], ignore_index=True)\n",
        "kmeans_labels_11, metric_11 = k_mean_clustering(X_scaled, 11, '11 clusters standard')\n",
        "df_metrics = pd.concat([df_metrics, metric_11], ignore_index=True)\n",
        "\n",
        "\n"
      ]
    },
    {
      "cell_type": "markdown",
      "metadata": {
        "id": "IAkub9oLilZ1"
      },
      "source": [
        "**Завдання 9.** Використовуючи методи `scipy` `dendrogram, linkage, fcluster`\n",
        "1. Побудуйте ієрархічну агломеративну кластеризацію з `single linkage` на даних невідмасштабованих, але з прибраним викидом.\n",
        "2. Візуалізуйте дендрограму. При візуалізації обовʼязково задайте параметр `truncate_mode='lastp'` - це обріже дендрограму, без цього вона буде завелика, бо у нас тут даних суттєво більше, ніж в лекції.\n",
        "3. Проаналізуйте дендрограму та побудуйте варіанти плоских кластеризацій з `fcluster` на 2 і 3 кластери. Візуалізуйте результати кожної з цих кластеризацій та зробіть висновок. Чи вважаєте ви якусь з цих кластеризацій вдалою? Що спостерігаєте з цих кластеризацій?\n",
        "4. Порахуйте мерику силуету для цього методу кластеризації."
      ]
    },
    {
      "cell_type": "code",
      "execution_count": 365,
      "metadata": {
        "id": "Tdk_lgGjv-IL"
      },
      "outputs": [],
      "source": [
        "from scipy.cluster.hierarchy import dendrogram, linkage, fcluster"
      ]
    },
    {
      "cell_type": "code",
      "execution_count": 366,
      "metadata": {},
      "outputs": [
        {
          "data": {
            "image/png": "[encoded data removed]",
            "text/plain": [
              "<Figure size 1000x700 with 1 Axes>"
            ]
          },
          "metadata": {},
          "output_type": "display_data"
        }
      ],
      "source": [
        "\n",
        "single_link = linkage(X_clean, method='single')\n",
        "\n",
        "plt.figure(figsize=(10, 7))\n",
        "plt.title('Dendrogram')\n",
        "dendrogram(single_link, leaf_rotation=90, truncate_mode='lastp')\n",
        "plt.xlabel('Index')\n",
        "plt.ylabel('Distance')\n",
        "plt.show()\n"
      ]
    },
    {
      "cell_type": "code",
      "execution_count": 367,
      "metadata": {},
      "outputs": [
        {
          "name": "stdout",
          "output_type": "stream",
          "text": [
            "Silhouette score for 2 clusters: 0.959\n",
            "Silhouette score for 3 clusters: 0.760\n"
          ]
        }
      ],
      "source": [
        "labels_hier_2 = fcluster(single_link, t=2, criterion='maxclust')\n",
        "metric_hier_2 = silhouette_score(X, labels_hier_2)\n",
        "print(f'Silhouette score for 2 clusters: {metric_hier_2:.3f}')\n",
        "\n",
        "new_row = pd.DataFrame([{'model': 'hierarchical_2', 'value': metric_hier_2}])\n",
        "df_metrics = pd.concat([df_metrics, new_row], ignore_index=True)\n",
        "\n",
        "labels_hier_3 = fcluster(single_link, t=3, criterion='maxclust')\n",
        "metric_hier_3 = silhouette_score(X, labels_hier_3)\n",
        "print(f'Silhouette score for 3 clusters: {metric_hier_3:.3f}')\n",
        "\n",
        "new_row = pd.DataFrame([{'model': 'hierarchical_3', 'value': metric_hier_3}])\n",
        "df_metrics = pd.concat([df_metrics, new_row], ignore_index=True)"
      ]
    },
    {
      "cell_type": "code",
      "execution_count": 368,
      "metadata": {},
      "outputs": [
        {
          "data": {
            "text/html": [
              "<div>\n",
              "<style scoped>\n",
              "    .dataframe tbody tr th:only-of-type {\n",
              "        vertical-align: middle;\n",
              "    }\n",
              "\n",
              "    .dataframe tbody tr th {\n",
              "        vertical-align: top;\n",
              "    }\n",
              "\n",
              "    .dataframe thead th {\n",
              "        text-align: right;\n",
              "    }\n",
              "</style>\n",
              "<table border=\"1\" class=\"dataframe\">\n",
              "  <thead>\n",
              "    <tr style=\"text-align: right;\">\n",
              "      <th></th>\n",
              "      <th>model</th>\n",
              "      <th>value</th>\n",
              "    </tr>\n",
              "  </thead>\n",
              "  <tbody>\n",
              "    <tr>\n",
              "      <th>5</th>\n",
              "      <td>11 clusters standard</td>\n",
              "      <td>0.068717</td>\n",
              "    </tr>\n",
              "    <tr>\n",
              "      <th>4</th>\n",
              "      <td>24 clusters standard</td>\n",
              "      <td>0.079826</td>\n",
              "    </tr>\n",
              "    <tr>\n",
              "      <th>1</th>\n",
              "      <td>StandartScaler</td>\n",
              "      <td>0.097405</td>\n",
              "    </tr>\n",
              "    <tr>\n",
              "      <th>2</th>\n",
              "      <td>MinMaxScaler</td>\n",
              "      <td>0.170471</td>\n",
              "    </tr>\n",
              "    <tr>\n",
              "      <th>0</th>\n",
              "      <td>3 clusters</td>\n",
              "      <td>0.528192</td>\n",
              "    </tr>\n",
              "    <tr>\n",
              "      <th>3</th>\n",
              "      <td>6 clusters</td>\n",
              "      <td>0.534077</td>\n",
              "    </tr>\n",
              "    <tr>\n",
              "      <th>7</th>\n",
              "      <td>hierarchical_3</td>\n",
              "      <td>0.759768</td>\n",
              "    </tr>\n",
              "    <tr>\n",
              "      <th>6</th>\n",
              "      <td>hierarchical_2</td>\n",
              "      <td>0.958921</td>\n",
              "    </tr>\n",
              "  </tbody>\n",
              "</table>\n",
              "</div>"
            ],
            "text/plain": [
              "                  model     value\n",
              "5  11 clusters standard  0.068717\n",
              "4  24 clusters standard  0.079826\n",
              "1        StandartScaler  0.097405\n",
              "2          MinMaxScaler  0.170471\n",
              "0            3 clusters  0.528192\n",
              "3            6 clusters  0.534077\n",
              "7        hierarchical_3  0.759768\n",
              "6        hierarchical_2  0.958921"
            ]
          },
          "execution_count": 368,
          "metadata": {},
          "output_type": "execute_result"
        }
      ],
      "source": [
        "df_metrics.sort_values(by='value', ascending=True, inplace=True)\n",
        "df_metrics"
      ]
    },
    {
      "cell_type": "markdown",
      "metadata": {
        "id": "0mG3X-_2upiL"
      },
      "source": [
        "**Завдання 10.**\n",
        "1. Використайте метод кластеризації, який ми не використовували в попередніх завданнях цього ДЗ (може бути ієрархічна кластеризація з іншим способом звʼязності або інші методи sklearn).\n",
        "2. Порахуйте мер=трику силуету і візуалізуйте результат кластеризації. Зробіть висновок про те, чи могла б ця кластеризація бути корисною?"
      ]
    },
    {
      "cell_type": "code",
      "execution_count": null,
      "metadata": {
        "id": "uXRdSNeYv_5e"
      },
      "outputs": [],
      "source": []
    }
  ],
  "metadata": {
    "colab": {
      "provenance": []
    },
    "kernelspec": {
      "display_name": "ml_course",
      "language": "python",
      "name": "python3"
    },
    "language_info": {
      "codemirror_mode": {
        "name": "ipython",
        "version": 3
      },
      "file_extension": ".py",
      "mimetype": "text/x-python",
      "name": "python",
      "nbconvert_exporter": "python",
      "pygments_lexer": "ipython3",
      "version": "3.13.1"
    }
  },
  "nbformat": 4,
  "nbformat_minor": 0
}
