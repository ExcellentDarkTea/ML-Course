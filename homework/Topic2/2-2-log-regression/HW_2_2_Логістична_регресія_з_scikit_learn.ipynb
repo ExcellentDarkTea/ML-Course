{
  "cells": [
    {
      "cell_type": "markdown",
      "metadata": {
        "id": "gJ2A6t3mdEed"
      },
      "source": [
        "В цьому домашньому завданні ми побудуємо рішення задачі логістичної регресії і створимо ваш перший submission на змагання на Kaggle. Усі кроки були розглянуті в лекції та містяться в ноутбуці `Логістична регресія з ScikitLearn. Повна ML задача.ipynb`, але тепер ми їх адаптуємо до іншої задачі - все як в реальному житті, коли ви знайшли код у відкритих джерелах і адаптуєте на проєкті 😉\n",
        "\n",
        "**Погнали! 🚀🚀🚀**\n",
        "\n",
        "-----------\n",
        "\n",
        "\n",
        "\n",
        "0. Завантажте дані `train.csv`, `test.csv`, `sample_submission.csv` зі змагання на Kaggle [\"Bank Customer Churn Prediction (DLU Course)\"](https://www.kaggle.com/t/7c080c5d8ec64364a93cf4e8f880b6a0). Для завантаження потрібно долучитись до змагання (натиснути кнопку \"Join\").\n",
        "\n",
        "1. Зчитайте дані `train.csv` в pandas dataframe та розбийте їх на train і validation піднабори.\n",
        "\n",
        "  * Є такий параметр в методі stratified. Можливо він буде Вам корисним при розбитті даних в цій задачі. Пропоную Вам почитати про нього в документації і спробувати скористатись."
      ]
    },
    {
      "cell_type": "code",
      "execution_count": 334,
      "metadata": {
        "id": "2J2bS-kL2cHV"
      },
      "outputs": [],
      "source": [
        "import pandas as pd\n",
        "import numpy as np\n",
        "from sklearn.model_selection import train_test_split\n",
        "\n",
        "path = \"../../../data/\"\n",
        "\n",
        "df_train_raw = pd.read_csv(path + \"train.csv\")"
      ]
    },
    {
      "cell_type": "code",
      "execution_count": 335,
      "metadata": {},
      "outputs": [
        {
          "name": "stdout",
          "output_type": "stream",
          "text": [
            "(12000, 14) (3000, 14)\n",
            "Exited\n",
            "0.0    0.7965\n",
            "1.0    0.2035\n",
            "Name: proportion, dtype: float64\n",
            "Exited\n",
            "0.0    0.796667\n",
            "1.0    0.203333\n",
            "Name: proportion, dtype: float64\n"
          ]
        }
      ],
      "source": [
        "train_set, val_set = train_test_split(df_train_raw, test_size=0.2, stratify=df_train_raw['Exited'], random_state=42)\n",
        "print(train_set.shape, val_set.shape)\n",
        "print(train_set['Exited'].value_counts(normalize=True))\n",
        "print(val_set['Exited'].value_counts(normalize=True))"
      ]
    },
    {
      "cell_type": "markdown",
      "metadata": {
        "id": "YmhrsCrThfKp"
      },
      "source": [
        "2. Визначіть назви колонок, які сформують вхідні незалежні дані, в змінній `input_cols` та назву колонки , яка є цільовою, в змінній `target_col`. Використовуючи `input_cols` та `target_col` створіть набори даних `train_inputs`, `train_targets`, `val_inputs`, `val_targets` - де `inputs` - вхідні дані (датафрейм), `targets` - дані цільової колонки відповідного піднабору."
      ]
    },
    {
      "cell_type": "code",
      "execution_count": 336,
      "metadata": {
        "id": "BB1PSRP92d2y"
      },
      "outputs": [
        {
          "name": "stdout",
          "output_type": "stream",
          "text": [
            "Input columns: ['id', 'CustomerId', 'Surname', 'CreditScore', 'Geography', 'Gender', 'Age', 'Tenure', 'Balance', 'NumOfProducts', 'HasCrCard', 'IsActiveMember', 'EstimatedSalary'], \n",
            "target column: Exited\n"
          ]
        }
      ],
      "source": [
        "\n",
        "input_cols = df_train_raw.drop(columns=['Exited']).columns.tolist()\n",
        "target_col = 'Exited'\n",
        "print(f\"Input columns: {input_cols}, \\ntarget column: {target_col}\")"
      ]
    },
    {
      "cell_type": "code",
      "execution_count": 337,
      "metadata": {},
      "outputs": [
        {
          "name": "stdout",
          "output_type": "stream",
          "text": [
            "(12000, 13) (12000,) (3000, 13) (3000,)\n"
          ]
        }
      ],
      "source": [
        "train_inputs = train_set[input_cols].copy()\n",
        "train_targets = train_set[target_col].copy()\n",
        "\n",
        "val_inputs = val_set[input_cols].copy()\n",
        "val_targets = val_set[target_col].copy()\n",
        "\n",
        "print(train_inputs.shape, train_targets.shape, val_inputs.shape, val_targets.shape)"
      ]
    },
    {
      "cell_type": "markdown",
      "metadata": {
        "id": "BqhiVXa-iY5P"
      },
      "source": [
        "3. Визначіть з допомогою `pandas.DataFrame.select_dtypes` назви колонок, які є числовими і категоріальними. Запишіть результати в `numeric_cols` та `categorical_cols` відповідно."
      ]
    },
    {
      "cell_type": "code",
      "execution_count": 338,
      "metadata": {
        "id": "pz6Et14-2eRH"
      },
      "outputs": [
        {
          "name": "stdout",
          "output_type": "stream",
          "text": [
            "['id', 'CustomerId', 'CreditScore', 'Age', 'Tenure', 'Balance', 'NumOfProducts', 'HasCrCard', 'IsActiveMember', 'EstimatedSalary']\n",
            "['Surname', 'Geography', 'Gender']\n"
          ]
        }
      ],
      "source": [
        "numeric_cols = train_inputs.select_dtypes(include=np.number).columns.tolist()\n",
        "print(numeric_cols)\n",
        "categorical_cols = train_inputs.select_dtypes('object').columns.tolist()\n",
        "print(categorical_cols)"
      ]
    },
    {
      "cell_type": "markdown",
      "metadata": {
        "id": "gz3W57xXlIO2"
      },
      "source": [
        "4. Зробіть підготовку даних в категоріальних і числових колонках для входу в модель виходячи з освоєного на даний момент на курсі. Варіанти пеердобробки, з якими ми вже знайомі:\n",
        "  - масштабування числових ознак,\n",
        "  - заповнення пропущених значень, якщо вони є,\n",
        "  - кодування категоріальних ознак, вилучення ознак, якщо ми вважаємо, що ці дані нерелевантні для моделі аби ми не бачимо способу як їх так закодувати, аби подати на вхід моделі.\n",
        "\n",
        "  Тут є багато варіантів, як Ви побудуєте передобробку, важливо аби\n",
        "  1) передобробка мала сенс (немає сенсу заповнювати дані константою, яку ми не зрозуміло звідки взяли)   \n",
        "  2) має бути виконана принаймні одна дія передобробки\n",
        "  3) обробка маэ бути виконана коректно і для тренувальних, і для вал. даних\n",
        "  4) чим вищий у Вас врешті вийде ROС AUC скор, тим більше шансів перемогти у змаганні :)\n",
        "\n",
        "  Опишіть рішення проведення кожного з кроків передобробки. Для чого ви його робите? По завершенню виведіть по 5 значен з `train_inputs`, `val_inputs` використовуючи `display()`."
      ]
    },
    {
      "cell_type": "code",
      "execution_count": 339,
      "metadata": {},
      "outputs": [
        {
          "name": "stdout",
          "output_type": "stream",
          "text": [
            "<class 'pandas.core.frame.DataFrame'>\n",
            "RangeIndex: 15000 entries, 0 to 14999\n",
            "Data columns (total 14 columns):\n",
            " #   Column           Non-Null Count  Dtype  \n",
            "---  ------           --------------  -----  \n",
            " 0   id               15000 non-null  int64  \n",
            " 1   CustomerId       15000 non-null  float64\n",
            " 2   Surname          15000 non-null  object \n",
            " 3   CreditScore      15000 non-null  float64\n",
            " 4   Geography        15000 non-null  object \n",
            " 5   Gender           15000 non-null  object \n",
            " 6   Age              15000 non-null  float64\n",
            " 7   Tenure           15000 non-null  float64\n",
            " 8   Balance          15000 non-null  float64\n",
            " 9   NumOfProducts    15000 non-null  float64\n",
            " 10  HasCrCard        15000 non-null  float64\n",
            " 11  IsActiveMember   15000 non-null  float64\n",
            " 12  EstimatedSalary  15000 non-null  float64\n",
            " 13  Exited           15000 non-null  float64\n",
            "dtypes: float64(10), int64(1), object(3)\n",
            "memory usage: 1.6+ MB\n"
          ]
        },
        {
          "data": {
            "text/plain": [
              "(None,\n",
              " id                 0\n",
              " CustomerId         0\n",
              " Surname            0\n",
              " CreditScore        0\n",
              " Geography          0\n",
              " Gender             0\n",
              " Age                0\n",
              " Tenure             0\n",
              " Balance            0\n",
              " NumOfProducts      0\n",
              " HasCrCard          0\n",
              " IsActiveMember     0\n",
              " EstimatedSalary    0\n",
              " Exited             0\n",
              " dtype: int64)"
            ]
          },
          "execution_count": 339,
          "metadata": {},
          "output_type": "execute_result"
        }
      ],
      "source": [
        "df_train_raw.info(), df_train_raw.isna().sum()   "
      ]
    },
    {
      "cell_type": "code",
      "execution_count": 340,
      "metadata": {
        "id": "Co2hJVl32fUz"
      },
      "outputs": [
        {
          "data": {
            "text/plain": [
              "id                 12000\n",
              "CustomerId          5700\n",
              "CreditScore          373\n",
              "Age                   56\n",
              "Tenure                11\n",
              "Balance             2895\n",
              "NumOfProducts          4\n",
              "HasCrCard              2\n",
              "IsActiveMember         2\n",
              "EstimatedSalary     5502\n",
              "dtype: int64"
            ]
          },
          "execution_count": 340,
          "metadata": {},
          "output_type": "execute_result"
        }
      ],
      "source": [
        "train_inputs[numeric_cols].nunique()"
      ]
    },
    {
      "cell_type": "code",
      "execution_count": 341,
      "metadata": {},
      "outputs": [
        {
          "data": {
            "text/html": [
              "<div>\n",
              "<style scoped>\n",
              "    .dataframe tbody tr th:only-of-type {\n",
              "        vertical-align: middle;\n",
              "    }\n",
              "\n",
              "    .dataframe tbody tr th {\n",
              "        vertical-align: top;\n",
              "    }\n",
              "\n",
              "    .dataframe thead th {\n",
              "        text-align: right;\n",
              "    }\n",
              "</style>\n",
              "<table border=\"1\" class=\"dataframe\">\n",
              "  <thead>\n",
              "    <tr style=\"text-align: right;\">\n",
              "      <th></th>\n",
              "      <th>id</th>\n",
              "      <th>CustomerId</th>\n",
              "      <th>CreditScore</th>\n",
              "      <th>Age</th>\n",
              "      <th>Tenure</th>\n",
              "      <th>Balance</th>\n",
              "      <th>NumOfProducts</th>\n",
              "      <th>HasCrCard</th>\n",
              "      <th>IsActiveMember</th>\n",
              "      <th>EstimatedSalary</th>\n",
              "    </tr>\n",
              "  </thead>\n",
              "  <tbody>\n",
              "    <tr>\n",
              "      <th>count</th>\n",
              "      <td>12000.000000</td>\n",
              "      <td>1.200000e+04</td>\n",
              "      <td>12000.000000</td>\n",
              "      <td>12000.000000</td>\n",
              "      <td>12000.000000</td>\n",
              "      <td>12000.000000</td>\n",
              "      <td>12000.000000</td>\n",
              "      <td>12000.000000</td>\n",
              "      <td>12000.000000</td>\n",
              "      <td>12000.000000</td>\n",
              "    </tr>\n",
              "    <tr>\n",
              "      <th>mean</th>\n",
              "      <td>7479.628917</td>\n",
              "      <td>1.569092e+07</td>\n",
              "      <td>658.840250</td>\n",
              "      <td>37.687917</td>\n",
              "      <td>5.026083</td>\n",
              "      <td>43008.174362</td>\n",
              "      <td>1.590250</td>\n",
              "      <td>0.790333</td>\n",
              "      <td>0.491583</td>\n",
              "      <td>117992.400015</td>\n",
              "    </tr>\n",
              "    <tr>\n",
              "      <th>std</th>\n",
              "      <td>4334.088776</td>\n",
              "      <td>1.469310e+05</td>\n",
              "      <td>72.334909</td>\n",
              "      <td>8.138440</td>\n",
              "      <td>2.781974</td>\n",
              "      <td>59906.627660</td>\n",
              "      <td>0.532646</td>\n",
              "      <td>0.407088</td>\n",
              "      <td>0.499950</td>\n",
              "      <td>45589.484607</td>\n",
              "    </tr>\n",
              "    <tr>\n",
              "      <th>min</th>\n",
              "      <td>0.000000</td>\n",
              "      <td>1.581102e+06</td>\n",
              "      <td>431.000000</td>\n",
              "      <td>18.000000</td>\n",
              "      <td>0.000000</td>\n",
              "      <td>0.000000</td>\n",
              "      <td>1.000000</td>\n",
              "      <td>0.000000</td>\n",
              "      <td>0.000000</td>\n",
              "      <td>11.580000</td>\n",
              "    </tr>\n",
              "    <tr>\n",
              "      <th>25%</th>\n",
              "      <td>3725.750000</td>\n",
              "      <td>1.563512e+07</td>\n",
              "      <td>603.000000</td>\n",
              "      <td>32.000000</td>\n",
              "      <td>3.000000</td>\n",
              "      <td>0.000000</td>\n",
              "      <td>1.000000</td>\n",
              "      <td>1.000000</td>\n",
              "      <td>0.000000</td>\n",
              "      <td>83343.730000</td>\n",
              "    </tr>\n",
              "    <tr>\n",
              "      <th>50%</th>\n",
              "      <td>7471.500000</td>\n",
              "      <td>1.568995e+07</td>\n",
              "      <td>661.000000</td>\n",
              "      <td>37.000000</td>\n",
              "      <td>5.000000</td>\n",
              "      <td>0.000000</td>\n",
              "      <td>2.000000</td>\n",
              "      <td>1.000000</td>\n",
              "      <td>0.000000</td>\n",
              "      <td>123613.910000</td>\n",
              "    </tr>\n",
              "    <tr>\n",
              "      <th>75%</th>\n",
              "      <td>11231.250000</td>\n",
              "      <td>1.575692e+07</td>\n",
              "      <td>708.000000</td>\n",
              "      <td>42.000000</td>\n",
              "      <td>7.000000</td>\n",
              "      <td>109949.050000</td>\n",
              "      <td>2.000000</td>\n",
              "      <td>1.000000</td>\n",
              "      <td>1.000000</td>\n",
              "      <td>156912.810000</td>\n",
              "    </tr>\n",
              "    <tr>\n",
              "      <th>max</th>\n",
              "      <td>14999.000000</td>\n",
              "      <td>1.581569e+07</td>\n",
              "      <td>850.000000</td>\n",
              "      <td>74.000000</td>\n",
              "      <td>10.000000</td>\n",
              "      <td>209767.310000</td>\n",
              "      <td>4.000000</td>\n",
              "      <td>1.000000</td>\n",
              "      <td>1.000000</td>\n",
              "      <td>199992.480000</td>\n",
              "    </tr>\n",
              "  </tbody>\n",
              "</table>\n",
              "</div>"
            ],
            "text/plain": [
              "                 id    CustomerId   CreditScore           Age        Tenure  \\\n",
              "count  12000.000000  1.200000e+04  12000.000000  12000.000000  12000.000000   \n",
              "mean    7479.628917  1.569092e+07    658.840250     37.687917      5.026083   \n",
              "std     4334.088776  1.469310e+05     72.334909      8.138440      2.781974   \n",
              "min        0.000000  1.581102e+06    431.000000     18.000000      0.000000   \n",
              "25%     3725.750000  1.563512e+07    603.000000     32.000000      3.000000   \n",
              "50%     7471.500000  1.568995e+07    661.000000     37.000000      5.000000   \n",
              "75%    11231.250000  1.575692e+07    708.000000     42.000000      7.000000   \n",
              "max    14999.000000  1.581569e+07    850.000000     74.000000     10.000000   \n",
              "\n",
              "             Balance  NumOfProducts     HasCrCard  IsActiveMember  \\\n",
              "count   12000.000000   12000.000000  12000.000000    12000.000000   \n",
              "mean    43008.174362       1.590250      0.790333        0.491583   \n",
              "std     59906.627660       0.532646      0.407088        0.499950   \n",
              "min         0.000000       1.000000      0.000000        0.000000   \n",
              "25%         0.000000       1.000000      1.000000        0.000000   \n",
              "50%         0.000000       2.000000      1.000000        0.000000   \n",
              "75%    109949.050000       2.000000      1.000000        1.000000   \n",
              "max    209767.310000       4.000000      1.000000        1.000000   \n",
              "\n",
              "       EstimatedSalary  \n",
              "count     12000.000000  \n",
              "mean     117992.400015  \n",
              "std       45589.484607  \n",
              "min          11.580000  \n",
              "25%       83343.730000  \n",
              "50%      123613.910000  \n",
              "75%      156912.810000  \n",
              "max      199992.480000  "
            ]
          },
          "execution_count": 341,
          "metadata": {},
          "output_type": "execute_result"
        }
      ],
      "source": [
        "train_inputs[numeric_cols].describe()"
      ]
    },
    {
      "cell_type": "code",
      "execution_count": 342,
      "metadata": {},
      "outputs": [
        {
          "data": {
            "image/png": "[encoded data removed]",
            "text/plain": [
              "<Figure size 640x480 with 2 Axes>"
            ]
          },
          "metadata": {},
          "output_type": "display_data"
        }
      ],
      "source": [
        "import matplotlib.pyplot as plt\n",
        "plt.subplot(1, 2, 1)\n",
        "plt.boxplot(train_inputs['EstimatedSalary'])\n",
        "plt.title('Boxplot of EstimatedSalary')\n",
        "\n",
        "plt.subplot(1, 2, 2)\n",
        "plt.boxplot(train_inputs['Balance'])\n",
        "plt.title('Boxplot of Balance')\n",
        "plt.show()"
      ]
    },
    {
      "cell_type": "code",
      "execution_count": 343,
      "metadata": {},
      "outputs": [
        {
          "data": {
            "text/plain": [
              "count     12000.000000\n",
              "mean      43008.174362\n",
              "std       59906.627660\n",
              "min           0.000000\n",
              "50%           0.000000\n",
              "60%           0.000000\n",
              "75%      109949.050000\n",
              "90%      134451.163000\n",
              "95%      145579.638000\n",
              "99%      167557.120000\n",
              "max      209767.310000\n",
              "Name: Balance, dtype: float64"
            ]
          },
          "execution_count": 343,
          "metadata": {},
          "output_type": "execute_result"
        }
      ],
      "source": [
        "train_inputs['Balance'].describe( percentiles=[ 0.50, 0.60, 0.75, 0.90, 0.95, 0.99])"
      ]
    },
    {
      "cell_type": "code",
      "execution_count": 344,
      "metadata": {},
      "outputs": [
        {
          "data": {
            "text/plain": [
              "['CreditScore',\n",
              " 'Age',\n",
              " 'Tenure',\n",
              " 'Balance',\n",
              " 'NumOfProducts',\n",
              " 'HasCrCard',\n",
              " 'IsActiveMember',\n",
              " 'EstimatedSalary']"
            ]
          },
          "execution_count": 344,
          "metadata": {},
          "output_type": "execute_result"
        }
      ],
      "source": [
        "# train_inputs.drop(columns=['CustomerId', 'id'], inplace=True)\n",
        "# val_inputs.drop(columns=['CustomerId', 'id'], inplace=True)\n",
        "numeric_cols.remove('CustomerId')\n",
        "numeric_cols.remove('id')\n",
        "numeric_cols"
      ]
    },
    {
      "cell_type": "code",
      "execution_count": 345,
      "metadata": {},
      "outputs": [
        {
          "data": {
            "text/plain": [
              "Surname      732\n",
              "Geography      3\n",
              "Gender         2\n",
              "dtype: int64"
            ]
          },
          "execution_count": 345,
          "metadata": {},
          "output_type": "execute_result"
        }
      ],
      "source": [
        "train_inputs[categorical_cols].nunique()"
      ]
    },
    {
      "cell_type": "code",
      "execution_count": 346,
      "metadata": {},
      "outputs": [
        {
          "data": {
            "text/plain": [
              "['Geography', 'Gender']"
            ]
          },
          "execution_count": 346,
          "metadata": {},
          "output_type": "execute_result"
        }
      ],
      "source": [
        "# train_inputs.drop(columns='Surname', inplace=True)\n",
        "categorical_cols.remove('Surname')\n",
        "categorical_cols"
      ]
    },
    {
      "cell_type": "code",
      "execution_count": 347,
      "metadata": {},
      "outputs": [
        {
          "name": "stdout",
          "output_type": "stream",
          "text": [
            "['Geography_France', 'Geography_Germany', 'Geography_Spain', 'Gender_Male']\n"
          ]
        }
      ],
      "source": [
        "from sklearn.preprocessing import StandardScaler, MinMaxScaler, OneHotEncoder\n",
        "\n",
        "preproc_type ='standard' #minmax\n",
        "\n",
        "binary_cols = ['HasCrCard', 'IsActiveMember']\n",
        "if preproc_type == 'standard':\n",
        "\n",
        "    scaler = StandardScaler()\n",
        "    scaler.fit(train_inputs[numeric_cols])\n",
        "    train_inputs[numeric_cols] = scaler.transform(train_inputs[numeric_cols])\n",
        "    val_inputs[numeric_cols] = scaler.transform(val_inputs[numeric_cols])\n",
        "# else:\n",
        "#     scaler = MinMaxScaler()\n",
        "#     scaler.fit(train_inputs[numeric_cols])\n",
        "#     train_inputs[numeric_cols] = scaler.transform(train_inputs[numeric_cols])\n",
        "#     val_inputs[numeric_cols] = scaler.transform(val_inputs[numeric_cols])\n",
        "\n",
        "#----------------------\n",
        "encoder = OneHotEncoder(sparse_output=False, handle_unknown='ignore', drop = 'if_binary')\n",
        "encoder.fit(train_inputs[categorical_cols])\n",
        "encoded_cols = list(encoder.get_feature_names_out(categorical_cols))\n",
        "print(encoded_cols)\n",
        "train_inputs[encoded_cols] = encoder.transform(train_inputs[categorical_cols])\n",
        "val_inputs[encoded_cols] = encoder.transform(val_inputs[categorical_cols])\n"
      ]
    },
    {
      "cell_type": "code",
      "execution_count": 348,
      "metadata": {},
      "outputs": [
        {
          "data": {
            "text/html": [
              "<div>\n",
              "<style scoped>\n",
              "    .dataframe tbody tr th:only-of-type {\n",
              "        vertical-align: middle;\n",
              "    }\n",
              "\n",
              "    .dataframe tbody tr th {\n",
              "        vertical-align: top;\n",
              "    }\n",
              "\n",
              "    .dataframe thead th {\n",
              "        text-align: right;\n",
              "    }\n",
              "</style>\n",
              "<table border=\"1\" class=\"dataframe\">\n",
              "  <thead>\n",
              "    <tr style=\"text-align: right;\">\n",
              "      <th></th>\n",
              "      <th>CreditScore</th>\n",
              "      <th>Age</th>\n",
              "      <th>Tenure</th>\n",
              "      <th>Balance</th>\n",
              "      <th>NumOfProducts</th>\n",
              "      <th>HasCrCard</th>\n",
              "      <th>IsActiveMember</th>\n",
              "      <th>EstimatedSalary</th>\n",
              "      <th>Geography_France</th>\n",
              "      <th>Geography_Germany</th>\n",
              "      <th>Geography_Spain</th>\n",
              "      <th>Gender_Male</th>\n",
              "    </tr>\n",
              "  </thead>\n",
              "  <tbody>\n",
              "    <tr>\n",
              "      <th>7180</th>\n",
              "      <td>0.320187</td>\n",
              "      <td>-0.944682</td>\n",
              "      <td>-1.447264</td>\n",
              "      <td>1.475464</td>\n",
              "      <td>-1.108193</td>\n",
              "      <td>0.515062</td>\n",
              "      <td>1.016977</td>\n",
              "      <td>0.569450</td>\n",
              "      <td>1.0</td>\n",
              "      <td>0.0</td>\n",
              "      <td>0.0</td>\n",
              "      <td>1.0</td>\n",
              "    </tr>\n",
              "    <tr>\n",
              "      <th>10393</th>\n",
              "      <td>0.347838</td>\n",
              "      <td>0.161227</td>\n",
              "      <td>-1.087792</td>\n",
              "      <td>2.254434</td>\n",
              "      <td>-1.108193</td>\n",
              "      <td>0.515062</td>\n",
              "      <td>-0.983306</td>\n",
              "      <td>0.603803</td>\n",
              "      <td>1.0</td>\n",
              "      <td>0.0</td>\n",
              "      <td>0.0</td>\n",
              "      <td>0.0</td>\n",
              "    </tr>\n",
              "    <tr>\n",
              "      <th>80</th>\n",
              "      <td>0.638166</td>\n",
              "      <td>-0.330288</td>\n",
              "      <td>0.350096</td>\n",
              "      <td>1.223831</td>\n",
              "      <td>0.769304</td>\n",
              "      <td>0.515062</td>\n",
              "      <td>-0.983306</td>\n",
              "      <td>1.238026</td>\n",
              "      <td>0.0</td>\n",
              "      <td>1.0</td>\n",
              "      <td>0.0</td>\n",
              "      <td>1.0</td>\n",
              "    </tr>\n",
              "    <tr>\n",
              "      <th>3365</th>\n",
              "      <td>0.140460</td>\n",
              "      <td>2.495924</td>\n",
              "      <td>-1.806736</td>\n",
              "      <td>-0.717950</td>\n",
              "      <td>0.769304</td>\n",
              "      <td>-1.941514</td>\n",
              "      <td>1.016977</td>\n",
              "      <td>-1.457116</td>\n",
              "      <td>0.0</td>\n",
              "      <td>0.0</td>\n",
              "      <td>1.0</td>\n",
              "      <td>1.0</td>\n",
              "    </tr>\n",
              "    <tr>\n",
              "      <th>12236</th>\n",
              "      <td>0.665816</td>\n",
              "      <td>-2.050591</td>\n",
              "      <td>-0.728320</td>\n",
              "      <td>-0.717950</td>\n",
              "      <td>0.769304</td>\n",
              "      <td>0.515062</td>\n",
              "      <td>1.016977</td>\n",
              "      <td>0.670629</td>\n",
              "      <td>1.0</td>\n",
              "      <td>0.0</td>\n",
              "      <td>0.0</td>\n",
              "      <td>1.0</td>\n",
              "    </tr>\n",
              "  </tbody>\n",
              "</table>\n",
              "</div>"
            ],
            "text/plain": [
              "       CreditScore       Age    Tenure   Balance  NumOfProducts  HasCrCard  \\\n",
              "7180      0.320187 -0.944682 -1.447264  1.475464      -1.108193   0.515062   \n",
              "10393     0.347838  0.161227 -1.087792  2.254434      -1.108193   0.515062   \n",
              "80        0.638166 -0.330288  0.350096  1.223831       0.769304   0.515062   \n",
              "3365      0.140460  2.495924 -1.806736 -0.717950       0.769304  -1.941514   \n",
              "12236     0.665816 -2.050591 -0.728320 -0.717950       0.769304   0.515062   \n",
              "\n",
              "       IsActiveMember  EstimatedSalary  Geography_France  Geography_Germany  \\\n",
              "7180         1.016977         0.569450               1.0                0.0   \n",
              "10393       -0.983306         0.603803               1.0                0.0   \n",
              "80          -0.983306         1.238026               0.0                1.0   \n",
              "3365         1.016977        -1.457116               0.0                0.0   \n",
              "12236        1.016977         0.670629               1.0                0.0   \n",
              "\n",
              "       Geography_Spain  Gender_Male  \n",
              "7180               0.0          1.0  \n",
              "10393              0.0          0.0  \n",
              "80                 0.0          1.0  \n",
              "3365               1.0          1.0  \n",
              "12236              0.0          1.0  "
            ]
          },
          "metadata": {},
          "output_type": "display_data"
        },
        {
          "data": {
            "text/html": [
              "<div>\n",
              "<style scoped>\n",
              "    .dataframe tbody tr th:only-of-type {\n",
              "        vertical-align: middle;\n",
              "    }\n",
              "\n",
              "    .dataframe tbody tr th {\n",
              "        vertical-align: top;\n",
              "    }\n",
              "\n",
              "    .dataframe thead th {\n",
              "        text-align: right;\n",
              "    }\n",
              "</style>\n",
              "<table border=\"1\" class=\"dataframe\">\n",
              "  <thead>\n",
              "    <tr style=\"text-align: right;\">\n",
              "      <th></th>\n",
              "      <th>CreditScore</th>\n",
              "      <th>Age</th>\n",
              "      <th>Tenure</th>\n",
              "      <th>Balance</th>\n",
              "      <th>NumOfProducts</th>\n",
              "      <th>HasCrCard</th>\n",
              "      <th>IsActiveMember</th>\n",
              "      <th>EstimatedSalary</th>\n",
              "      <th>Geography_France</th>\n",
              "      <th>Geography_Germany</th>\n",
              "      <th>Geography_Spain</th>\n",
              "      <th>Gender_Male</th>\n",
              "    </tr>\n",
              "  </thead>\n",
              "  <tbody>\n",
              "    <tr>\n",
              "      <th>6490</th>\n",
              "      <td>0.762592</td>\n",
              "      <td>1.021379</td>\n",
              "      <td>-1.447264</td>\n",
              "      <td>1.214543</td>\n",
              "      <td>4.524299</td>\n",
              "      <td>0.515062</td>\n",
              "      <td>1.016977</td>\n",
              "      <td>-0.988144</td>\n",
              "      <td>0.0</td>\n",
              "      <td>1.0</td>\n",
              "      <td>0.0</td>\n",
              "      <td>1.0</td>\n",
              "    </tr>\n",
              "    <tr>\n",
              "      <th>3646</th>\n",
              "      <td>-0.910252</td>\n",
              "      <td>0.406985</td>\n",
              "      <td>-0.009376</td>\n",
              "      <td>-0.717950</td>\n",
              "      <td>0.769304</td>\n",
              "      <td>0.515062</td>\n",
              "      <td>1.016977</td>\n",
              "      <td>-1.750392</td>\n",
              "      <td>1.0</td>\n",
              "      <td>0.0</td>\n",
              "      <td>0.0</td>\n",
              "      <td>1.0</td>\n",
              "    </tr>\n",
              "    <tr>\n",
              "      <th>5306</th>\n",
              "      <td>0.997620</td>\n",
              "      <td>0.038348</td>\n",
              "      <td>-1.087792</td>\n",
              "      <td>-0.717950</td>\n",
              "      <td>0.769304</td>\n",
              "      <td>-1.941514</td>\n",
              "      <td>1.016977</td>\n",
              "      <td>-0.022404</td>\n",
              "      <td>1.0</td>\n",
              "      <td>0.0</td>\n",
              "      <td>0.0</td>\n",
              "      <td>0.0</td>\n",
              "    </tr>\n",
              "    <tr>\n",
              "      <th>652</th>\n",
              "      <td>0.195761</td>\n",
              "      <td>0.652742</td>\n",
              "      <td>-0.368848</td>\n",
              "      <td>1.881867</td>\n",
              "      <td>-1.108193</td>\n",
              "      <td>-1.941514</td>\n",
              "      <td>1.016977</td>\n",
              "      <td>-0.139723</td>\n",
              "      <td>1.0</td>\n",
              "      <td>0.0</td>\n",
              "      <td>0.0</td>\n",
              "      <td>0.0</td>\n",
              "    </tr>\n",
              "    <tr>\n",
              "      <th>2627</th>\n",
              "      <td>0.264887</td>\n",
              "      <td>-0.944682</td>\n",
              "      <td>-0.368848</td>\n",
              "      <td>-0.717950</td>\n",
              "      <td>0.769304</td>\n",
              "      <td>0.515062</td>\n",
              "      <td>-0.983306</td>\n",
              "      <td>0.563519</td>\n",
              "      <td>0.0</td>\n",
              "      <td>0.0</td>\n",
              "      <td>1.0</td>\n",
              "      <td>0.0</td>\n",
              "    </tr>\n",
              "  </tbody>\n",
              "</table>\n",
              "</div>"
            ],
            "text/plain": [
              "      CreditScore       Age    Tenure   Balance  NumOfProducts  HasCrCard  \\\n",
              "6490     0.762592  1.021379 -1.447264  1.214543       4.524299   0.515062   \n",
              "3646    -0.910252  0.406985 -0.009376 -0.717950       0.769304   0.515062   \n",
              "5306     0.997620  0.038348 -1.087792 -0.717950       0.769304  -1.941514   \n",
              "652      0.195761  0.652742 -0.368848  1.881867      -1.108193  -1.941514   \n",
              "2627     0.264887 -0.944682 -0.368848 -0.717950       0.769304   0.515062   \n",
              "\n",
              "      IsActiveMember  EstimatedSalary  Geography_France  Geography_Germany  \\\n",
              "6490        1.016977        -0.988144               0.0                1.0   \n",
              "3646        1.016977        -1.750392               1.0                0.0   \n",
              "5306        1.016977        -0.022404               1.0                0.0   \n",
              "652         1.016977        -0.139723               1.0                0.0   \n",
              "2627       -0.983306         0.563519               0.0                0.0   \n",
              "\n",
              "      Geography_Spain  Gender_Male  \n",
              "6490              0.0          1.0  \n",
              "3646              0.0          1.0  \n",
              "5306              0.0          0.0  \n",
              "652               0.0          0.0  \n",
              "2627              1.0          0.0  "
            ]
          },
          "metadata": {},
          "output_type": "display_data"
        }
      ],
      "source": [
        "display(train_inputs[numeric_cols + encoded_cols].head(), val_inputs[numeric_cols + encoded_cols].head())\n"
      ]
    },
    {
      "cell_type": "markdown",
      "metadata": {},
      "source": [
        "Ідентифікатори: id, CustomerId, Surname.\n",
        "Числові ознаки: CreditScore, Age, Tenure, Balance, NumOfProducts, EstimatedSalary.\n",
        "Категоріальні ознаки: Geography, Gender, HasCrCard, IsActiveMember.\n",
        "Цільова змінна: Exited.\n",
        "\n",
        "- ordered= NumOfProducts: Кількість банківських продуктів, які використовує клієнт (наприклад, ощадний рахунок, кредитна картка)\n",
        "- binary = HasCrCard: Чи має клієнт кредитну картку (1 = так, 0 = ні)\n",
        "- binary = IsActiveMember: Чи є клієнт активним членом (1 = так, 0 = ні)\n",
        "\n",
        "Немає пропущених значень, але потрібно перевірити коректність типів даних\n",
        "\n",
        "План передобробки:\n",
        "\n",
        "- Видалення нерелевантних ознак: id, CustomerId, Surname - не інформативні для моделі.\n",
        "- Масштабування числових змінних: CreditScore, Age, Balance, EstimatedSalary тощо.\n",
        "- Кодування категоріальних ознак: Geography, Gender, HasCrCard, IsActiveMember (One-Hot або Label Encoding)."
      ]
    },
    {
      "cell_type": "markdown",
      "metadata": {
        "id": "Gk-NVTdyoAtu"
      },
      "source": [
        "5. Збережіть дані, що містяться в змінних `train_inputs`, `train_targets`, `val_inputs`, `val_targets` на диск в форматі `parquet`. В кінці виведіть список файлів в папці, в яку Ви зберегли файли і перевірте, чи файли збереглись. Вивести список файлів можна з `os.listdir(your_dir)` або `!ls your_dir`"
      ]
    },
    {
      "cell_type": "code",
      "execution_count": 349,
      "metadata": {},
      "outputs": [],
      "source": [
        "train_inputs.to_parquet(path + 'train_inputs.parquet', index=False)\n",
        "val_inputs.to_parquet(path + 'val_inputs.parquet', index=False)\n",
        "train_targets.to_frame().to_parquet(path + 'train_targets.parquet', index=False)\n",
        "val_targets.to_frame().to_parquet(path + 'val_targets.parquet', index=False)"
      ]
    },
    {
      "cell_type": "code",
      "execution_count": 350,
      "metadata": {},
      "outputs": [
        {
          "data": {
            "text/plain": [
              "['bank-customer-churn-prediction-dlu-course-c-2.zip',\n",
              " 'cars.csv',\n",
              " 'credit',\n",
              " 'credit-20241209T185039Z-001.zip',\n",
              " 'customer_segmentation_train.csv',\n",
              " 'medical-charges.csv',\n",
              " 'regression_data.csv',\n",
              " 'sample_submission.csv',\n",
              " 'test.csv',\n",
              " 'train.csv',\n",
              " 'train_inputs.parquet',\n",
              " 'train_targets.parquet',\n",
              " 'val_inputs.parquet',\n",
              " 'val_targets.parquet']"
            ]
          },
          "execution_count": 350,
          "metadata": {},
          "output_type": "execute_result"
        }
      ],
      "source": [
        "import os\n",
        "os.listdir(path)"
      ]
    },
    {
      "cell_type": "markdown",
      "metadata": {
        "id": "D5_3RjSdowGF"
      },
      "source": [
        "6. З підготовлених вхіжних даних створіть `X_train`, `X_val` набори, які містять лише колонки, які підуть на вхід моделі. Навчіть модель бінарної класифікації з допомогою `LogisticRegression` в `scikit-learn`."
      ]
    },
    {
      "cell_type": "code",
      "execution_count": 351,
      "metadata": {
        "id": "VZUkPF-e2irB"
      },
      "outputs": [
        {
          "data": {
            "text/plain": [
              "(Index(['CreditScore', 'Age', 'Tenure', 'Balance', 'NumOfProducts', 'HasCrCard',\n",
              "        'IsActiveMember', 'EstimatedSalary', 'Geography_France',\n",
              "        'Geography_Germany', 'Geography_Spain', 'Gender_Male'],\n",
              "       dtype='object'),\n",
              " (12000, 12),\n",
              " (3000, 12))"
            ]
          },
          "execution_count": 351,
          "metadata": {},
          "output_type": "execute_result"
        }
      ],
      "source": [
        "X_train = train_inputs[numeric_cols + encoded_cols]\n",
        "X_val = val_inputs[numeric_cols + encoded_cols]\n",
        "X_train.columns, X_train.shape, X_val.shape"
      ]
    },
    {
      "cell_type": "code",
      "execution_count": 352,
      "metadata": {},
      "outputs": [
        {
          "data": {
            "text/html": [
              "<style>#sk-container-id-10 {\n",
              "  /* Definition of color scheme common for light and dark mode */\n",
              "  --sklearn-color-text: black;\n",
              "  --sklearn-color-line: gray;\n",
              "  /* Definition of color scheme for unfitted estimators */\n",
              "  --sklearn-color-unfitted-level-0: #fff5e6;\n",
              "  --sklearn-color-unfitted-level-1: #f6e4d2;\n",
              "  --sklearn-color-unfitted-level-2: #ffe0b3;\n",
              "  --sklearn-color-unfitted-level-3: chocolate;\n",
              "  /* Definition of color scheme for fitted estimators */\n",
              "  --sklearn-color-fitted-level-0: #f0f8ff;\n",
              "  --sklearn-color-fitted-level-1: #d4ebff;\n",
              "  --sklearn-color-fitted-level-2: #b3dbfd;\n",
              "  --sklearn-color-fitted-level-3: cornflowerblue;\n",
              "\n",
              "  /* Specific color for light theme */\n",
              "  --sklearn-color-text-on-default-background: var(--sg-text-color, var(--theme-code-foreground, var(--jp-content-font-color1, black)));\n",
              "  --sklearn-color-background: var(--sg-background-color, var(--theme-background, var(--jp-layout-color0, white)));\n",
              "  --sklearn-color-border-box: var(--sg-text-color, var(--theme-code-foreground, var(--jp-content-font-color1, black)));\n",
              "  --sklearn-color-icon: #696969;\n",
              "\n",
              "  @media (prefers-color-scheme: dark) {\n",
              "    /* Redefinition of color scheme for dark theme */\n",
              "    --sklearn-color-text-on-default-background: var(--sg-text-color, var(--theme-code-foreground, var(--jp-content-font-color1, white)));\n",
              "    --sklearn-color-background: var(--sg-background-color, var(--theme-background, var(--jp-layout-color0, #111)));\n",
              "    --sklearn-color-border-box: var(--sg-text-color, var(--theme-code-foreground, var(--jp-content-font-color1, white)));\n",
              "    --sklearn-color-icon: #878787;\n",
              "  }\n",
              "}\n",
              "\n",
              "#sk-container-id-10 {\n",
              "  color: var(--sklearn-color-text);\n",
              "}\n",
              "\n",
              "#sk-container-id-10 pre {\n",
              "  padding: 0;\n",
              "}\n",
              "\n",
              "#sk-container-id-10 input.sk-hidden--visually {\n",
              "  border: 0;\n",
              "  clip: rect(1px 1px 1px 1px);\n",
              "  clip: rect(1px, 1px, 1px, 1px);\n",
              "  height: 1px;\n",
              "  margin: -1px;\n",
              "  overflow: hidden;\n",
              "  padding: 0;\n",
              "  position: absolute;\n",
              "  width: 1px;\n",
              "}\n",
              "\n",
              "#sk-container-id-10 div.sk-dashed-wrapped {\n",
              "  border: 1px dashed var(--sklearn-color-line);\n",
              "  margin: 0 0.4em 0.5em 0.4em;\n",
              "  box-sizing: border-box;\n",
              "  padding-bottom: 0.4em;\n",
              "  background-color: var(--sklearn-color-background);\n",
              "}\n",
              "\n",
              "#sk-container-id-10 div.sk-container {\n",
              "  /* jupyter's `normalize.less` sets `[hidden] { display: none; }`\n",
              "     but bootstrap.min.css set `[hidden] { display: none !important; }`\n",
              "     so we also need the `!important` here to be able to override the\n",
              "     default hidden behavior on the sphinx rendered scikit-learn.org.\n",
              "     See: https://github.com/scikit-learn/scikit-learn/issues/21755 */\n",
              "  display: inline-block !important;\n",
              "  position: relative;\n",
              "}\n",
              "\n",
              "#sk-container-id-10 div.sk-text-repr-fallback {\n",
              "  display: none;\n",
              "}\n",
              "\n",
              "div.sk-parallel-item,\n",
              "div.sk-serial,\n",
              "div.sk-item {\n",
              "  /* draw centered vertical line to link estimators */\n",
              "  background-image: linear-gradient(var(--sklearn-color-text-on-default-background), var(--sklearn-color-text-on-default-background));\n",
              "  background-size: 2px 100%;\n",
              "  background-repeat: no-repeat;\n",
              "  background-position: center center;\n",
              "}\n",
              "\n",
              "/* Parallel-specific style estimator block */\n",
              "\n",
              "#sk-container-id-10 div.sk-parallel-item::after {\n",
              "  content: \"\";\n",
              "  width: 100%;\n",
              "  border-bottom: 2px solid var(--sklearn-color-text-on-default-background);\n",
              "  flex-grow: 1;\n",
              "}\n",
              "\n",
              "#sk-container-id-10 div.sk-parallel {\n",
              "  display: flex;\n",
              "  align-items: stretch;\n",
              "  justify-content: center;\n",
              "  background-color: var(--sklearn-color-background);\n",
              "  position: relative;\n",
              "}\n",
              "\n",
              "#sk-container-id-10 div.sk-parallel-item {\n",
              "  display: flex;\n",
              "  flex-direction: column;\n",
              "}\n",
              "\n",
              "#sk-container-id-10 div.sk-parallel-item:first-child::after {\n",
              "  align-self: flex-end;\n",
              "  width: 50%;\n",
              "}\n",
              "\n",
              "#sk-container-id-10 div.sk-parallel-item:last-child::after {\n",
              "  align-self: flex-start;\n",
              "  width: 50%;\n",
              "}\n",
              "\n",
              "#sk-container-id-10 div.sk-parallel-item:only-child::after {\n",
              "  width: 0;\n",
              "}\n",
              "\n",
              "/* Serial-specific style estimator block */\n",
              "\n",
              "#sk-container-id-10 div.sk-serial {\n",
              "  display: flex;\n",
              "  flex-direction: column;\n",
              "  align-items: center;\n",
              "  background-color: var(--sklearn-color-background);\n",
              "  padding-right: 1em;\n",
              "  padding-left: 1em;\n",
              "}\n",
              "\n",
              "\n",
              "/* Toggleable style: style used for estimator/Pipeline/ColumnTransformer box that is\n",
              "clickable and can be expanded/collapsed.\n",
              "- Pipeline and ColumnTransformer use this feature and define the default style\n",
              "- Estimators will overwrite some part of the style using the `sk-estimator` class\n",
              "*/\n",
              "\n",
              "/* Pipeline and ColumnTransformer style (default) */\n",
              "\n",
              "#sk-container-id-10 div.sk-toggleable {\n",
              "  /* Default theme specific background. It is overwritten whether we have a\n",
              "  specific estimator or a Pipeline/ColumnTransformer */\n",
              "  background-color: var(--sklearn-color-background);\n",
              "}\n",
              "\n",
              "/* Toggleable label */\n",
              "#sk-container-id-10 label.sk-toggleable__label {\n",
              "  cursor: pointer;\n",
              "  display: block;\n",
              "  width: 100%;\n",
              "  margin-bottom: 0;\n",
              "  padding: 0.5em;\n",
              "  box-sizing: border-box;\n",
              "  text-align: center;\n",
              "}\n",
              "\n",
              "#sk-container-id-10 label.sk-toggleable__label-arrow:before {\n",
              "  /* Arrow on the left of the label */\n",
              "  content: \"▸\";\n",
              "  float: left;\n",
              "  margin-right: 0.25em;\n",
              "  color: var(--sklearn-color-icon);\n",
              "}\n",
              "\n",
              "#sk-container-id-10 label.sk-toggleable__label-arrow:hover:before {\n",
              "  color: var(--sklearn-color-text);\n",
              "}\n",
              "\n",
              "/* Toggleable content - dropdown */\n",
              "\n",
              "#sk-container-id-10 div.sk-toggleable__content {\n",
              "  max-height: 0;\n",
              "  max-width: 0;\n",
              "  overflow: hidden;\n",
              "  text-align: left;\n",
              "  /* unfitted */\n",
              "  background-color: var(--sklearn-color-unfitted-level-0);\n",
              "}\n",
              "\n",
              "#sk-container-id-10 div.sk-toggleable__content.fitted {\n",
              "  /* fitted */\n",
              "  background-color: var(--sklearn-color-fitted-level-0);\n",
              "}\n",
              "\n",
              "#sk-container-id-10 div.sk-toggleable__content pre {\n",
              "  margin: 0.2em;\n",
              "  border-radius: 0.25em;\n",
              "  color: var(--sklearn-color-text);\n",
              "  /* unfitted */\n",
              "  background-color: var(--sklearn-color-unfitted-level-0);\n",
              "}\n",
              "\n",
              "#sk-container-id-10 div.sk-toggleable__content.fitted pre {\n",
              "  /* unfitted */\n",
              "  background-color: var(--sklearn-color-fitted-level-0);\n",
              "}\n",
              "\n",
              "#sk-container-id-10 input.sk-toggleable__control:checked~div.sk-toggleable__content {\n",
              "  /* Expand drop-down */\n",
              "  max-height: 200px;\n",
              "  max-width: 100%;\n",
              "  overflow: auto;\n",
              "}\n",
              "\n",
              "#sk-container-id-10 input.sk-toggleable__control:checked~label.sk-toggleable__label-arrow:before {\n",
              "  content: \"▾\";\n",
              "}\n",
              "\n",
              "/* Pipeline/ColumnTransformer-specific style */\n",
              "\n",
              "#sk-container-id-10 div.sk-label input.sk-toggleable__control:checked~label.sk-toggleable__label {\n",
              "  color: var(--sklearn-color-text);\n",
              "  background-color: var(--sklearn-color-unfitted-level-2);\n",
              "}\n",
              "\n",
              "#sk-container-id-10 div.sk-label.fitted input.sk-toggleable__control:checked~label.sk-toggleable__label {\n",
              "  background-color: var(--sklearn-color-fitted-level-2);\n",
              "}\n",
              "\n",
              "/* Estimator-specific style */\n",
              "\n",
              "/* Colorize estimator box */\n",
              "#sk-container-id-10 div.sk-estimator input.sk-toggleable__control:checked~label.sk-toggleable__label {\n",
              "  /* unfitted */\n",
              "  background-color: var(--sklearn-color-unfitted-level-2);\n",
              "}\n",
              "\n",
              "#sk-container-id-10 div.sk-estimator.fitted input.sk-toggleable__control:checked~label.sk-toggleable__label {\n",
              "  /* fitted */\n",
              "  background-color: var(--sklearn-color-fitted-level-2);\n",
              "}\n",
              "\n",
              "#sk-container-id-10 div.sk-label label.sk-toggleable__label,\n",
              "#sk-container-id-10 div.sk-label label {\n",
              "  /* The background is the default theme color */\n",
              "  color: var(--sklearn-color-text-on-default-background);\n",
              "}\n",
              "\n",
              "/* On hover, darken the color of the background */\n",
              "#sk-container-id-10 div.sk-label:hover label.sk-toggleable__label {\n",
              "  color: var(--sklearn-color-text);\n",
              "  background-color: var(--sklearn-color-unfitted-level-2);\n",
              "}\n",
              "\n",
              "/* Label box, darken color on hover, fitted */\n",
              "#sk-container-id-10 div.sk-label.fitted:hover label.sk-toggleable__label.fitted {\n",
              "  color: var(--sklearn-color-text);\n",
              "  background-color: var(--sklearn-color-fitted-level-2);\n",
              "}\n",
              "\n",
              "/* Estimator label */\n",
              "\n",
              "#sk-container-id-10 div.sk-label label {\n",
              "  font-family: monospace;\n",
              "  font-weight: bold;\n",
              "  display: inline-block;\n",
              "  line-height: 1.2em;\n",
              "}\n",
              "\n",
              "#sk-container-id-10 div.sk-label-container {\n",
              "  text-align: center;\n",
              "}\n",
              "\n",
              "/* Estimator-specific */\n",
              "#sk-container-id-10 div.sk-estimator {\n",
              "  font-family: monospace;\n",
              "  border: 1px dotted var(--sklearn-color-border-box);\n",
              "  border-radius: 0.25em;\n",
              "  box-sizing: border-box;\n",
              "  margin-bottom: 0.5em;\n",
              "  /* unfitted */\n",
              "  background-color: var(--sklearn-color-unfitted-level-0);\n",
              "}\n",
              "\n",
              "#sk-container-id-10 div.sk-estimator.fitted {\n",
              "  /* fitted */\n",
              "  background-color: var(--sklearn-color-fitted-level-0);\n",
              "}\n",
              "\n",
              "/* on hover */\n",
              "#sk-container-id-10 div.sk-estimator:hover {\n",
              "  /* unfitted */\n",
              "  background-color: var(--sklearn-color-unfitted-level-2);\n",
              "}\n",
              "\n",
              "#sk-container-id-10 div.sk-estimator.fitted:hover {\n",
              "  /* fitted */\n",
              "  background-color: var(--sklearn-color-fitted-level-2);\n",
              "}\n",
              "\n",
              "/* Specification for estimator info (e.g. \"i\" and \"?\") */\n",
              "\n",
              "/* Common style for \"i\" and \"?\" */\n",
              "\n",
              ".sk-estimator-doc-link,\n",
              "a:link.sk-estimator-doc-link,\n",
              "a:visited.sk-estimator-doc-link {\n",
              "  float: right;\n",
              "  font-size: smaller;\n",
              "  line-height: 1em;\n",
              "  font-family: monospace;\n",
              "  background-color: var(--sklearn-color-background);\n",
              "  border-radius: 1em;\n",
              "  height: 1em;\n",
              "  width: 1em;\n",
              "  text-decoration: none !important;\n",
              "  margin-left: 1ex;\n",
              "  /* unfitted */\n",
              "  border: var(--sklearn-color-unfitted-level-1) 1pt solid;\n",
              "  color: var(--sklearn-color-unfitted-level-1);\n",
              "}\n",
              "\n",
              ".sk-estimator-doc-link.fitted,\n",
              "a:link.sk-estimator-doc-link.fitted,\n",
              "a:visited.sk-estimator-doc-link.fitted {\n",
              "  /* fitted */\n",
              "  border: var(--sklearn-color-fitted-level-1) 1pt solid;\n",
              "  color: var(--sklearn-color-fitted-level-1);\n",
              "}\n",
              "\n",
              "/* On hover */\n",
              "div.sk-estimator:hover .sk-estimator-doc-link:hover,\n",
              ".sk-estimator-doc-link:hover,\n",
              "div.sk-label-container:hover .sk-estimator-doc-link:hover,\n",
              ".sk-estimator-doc-link:hover {\n",
              "  /* unfitted */\n",
              "  background-color: var(--sklearn-color-unfitted-level-3);\n",
              "  color: var(--sklearn-color-background);\n",
              "  text-decoration: none;\n",
              "}\n",
              "\n",
              "div.sk-estimator.fitted:hover .sk-estimator-doc-link.fitted:hover,\n",
              ".sk-estimator-doc-link.fitted:hover,\n",
              "div.sk-label-container:hover .sk-estimator-doc-link.fitted:hover,\n",
              ".sk-estimator-doc-link.fitted:hover {\n",
              "  /* fitted */\n",
              "  background-color: var(--sklearn-color-fitted-level-3);\n",
              "  color: var(--sklearn-color-background);\n",
              "  text-decoration: none;\n",
              "}\n",
              "\n",
              "/* Span, style for the box shown on hovering the info icon */\n",
              ".sk-estimator-doc-link span {\n",
              "  display: none;\n",
              "  z-index: 9999;\n",
              "  position: relative;\n",
              "  font-weight: normal;\n",
              "  right: .2ex;\n",
              "  padding: .5ex;\n",
              "  margin: .5ex;\n",
              "  width: min-content;\n",
              "  min-width: 20ex;\n",
              "  max-width: 50ex;\n",
              "  color: var(--sklearn-color-text);\n",
              "  box-shadow: 2pt 2pt 4pt #999;\n",
              "  /* unfitted */\n",
              "  background: var(--sklearn-color-unfitted-level-0);\n",
              "  border: .5pt solid var(--sklearn-color-unfitted-level-3);\n",
              "}\n",
              "\n",
              ".sk-estimator-doc-link.fitted span {\n",
              "  /* fitted */\n",
              "  background: var(--sklearn-color-fitted-level-0);\n",
              "  border: var(--sklearn-color-fitted-level-3);\n",
              "}\n",
              "\n",
              ".sk-estimator-doc-link:hover span {\n",
              "  display: block;\n",
              "}\n",
              "\n",
              "/* \"?\"-specific style due to the `<a>` HTML tag */\n",
              "\n",
              "#sk-container-id-10 a.estimator_doc_link {\n",
              "  float: right;\n",
              "  font-size: 1rem;\n",
              "  line-height: 1em;\n",
              "  font-family: monospace;\n",
              "  background-color: var(--sklearn-color-background);\n",
              "  border-radius: 1rem;\n",
              "  height: 1rem;\n",
              "  width: 1rem;\n",
              "  text-decoration: none;\n",
              "  /* unfitted */\n",
              "  color: var(--sklearn-color-unfitted-level-1);\n",
              "  border: var(--sklearn-color-unfitted-level-1) 1pt solid;\n",
              "}\n",
              "\n",
              "#sk-container-id-10 a.estimator_doc_link.fitted {\n",
              "  /* fitted */\n",
              "  border: var(--sklearn-color-fitted-level-1) 1pt solid;\n",
              "  color: var(--sklearn-color-fitted-level-1);\n",
              "}\n",
              "\n",
              "/* On hover */\n",
              "#sk-container-id-10 a.estimator_doc_link:hover {\n",
              "  /* unfitted */\n",
              "  background-color: var(--sklearn-color-unfitted-level-3);\n",
              "  color: var(--sklearn-color-background);\n",
              "  text-decoration: none;\n",
              "}\n",
              "\n",
              "#sk-container-id-10 a.estimator_doc_link.fitted:hover {\n",
              "  /* fitted */\n",
              "  background-color: var(--sklearn-color-fitted-level-3);\n",
              "}\n",
              "</style><div id=\"sk-container-id-10\" class=\"sk-top-container\"><div class=\"sk-text-repr-fallback\"><pre>LogisticRegression()</pre><b>In a Jupyter environment, please rerun this cell to show the HTML representation or trust the notebook. <br />On GitHub, the HTML representation is unable to render, please try loading this page with nbviewer.org.</b></div><div class=\"sk-container\" hidden><div class=\"sk-item\"><div class=\"sk-estimator fitted sk-toggleable\"><input class=\"sk-toggleable__control sk-hidden--visually\" id=\"sk-estimator-id-10\" type=\"checkbox\" checked><label for=\"sk-estimator-id-10\" class=\"sk-toggleable__label fitted sk-toggleable__label-arrow fitted\">&nbsp;&nbsp;LogisticRegression<a class=\"sk-estimator-doc-link fitted\" rel=\"noreferrer\" target=\"_blank\" href=\"https://scikit-learn.org/1.5/modules/generated/sklearn.linear_model.LogisticRegression.html\">?<span>Documentation for LogisticRegression</span></a><span class=\"sk-estimator-doc-link fitted\">i<span>Fitted</span></span></label><div class=\"sk-toggleable__content fitted\"><pre>LogisticRegression()</pre></div> </div></div></div></div>"
            ],
            "text/plain": [
              "LogisticRegression()"
            ]
          },
          "execution_count": 352,
          "metadata": {},
          "output_type": "execute_result"
        }
      ],
      "source": [
        "from sklearn.linear_model import LogisticRegression  \n",
        "\n",
        "model = LogisticRegression()\n",
        "model.fit(X_train, train_targets)\n"
      ]
    },
    {
      "cell_type": "code",
      "execution_count": 353,
      "metadata": {},
      "outputs": [
        {
          "data": {
            "text/plain": [
              "array([0.01301626, 0.26753732, 0.12116485, 0.37750233, 0.00156514])"
            ]
          },
          "execution_count": 353,
          "metadata": {},
          "output_type": "execute_result"
        }
      ],
      "source": [
        "model.predict_proba(X_train)[:,1][:5]"
      ]
    },
    {
      "cell_type": "markdown",
      "metadata": {
        "id": "37s-m8G2pL4J"
      },
      "source": [
        "7. Виведіть Confusion matrix, ROC Curve, метрику AUROC та метрику F1 Score для порога класифікації 0.5 для побудованої моделі на тренувальних та валідаційних даних. Що можете сказати про якіст моделі? Вона хороша, погана, задовільна?"
      ]
    },
    {
      "cell_type": "code",
      "execution_count": 354,
      "metadata": {
        "id": "I02ENkyJ2jhn"
      },
      "outputs": [
        {
          "name": "stdout",
          "output_type": "stream",
          "text": [
            "Train f1: 0.639559913896197, auc: 0.7527215196706721\n"
          ]
        },
        {
          "data": {
            "image/png": "[encoded data removed]",
            "text/plain": [
              "<Figure size 1200x600 with 3 Axes>"
            ]
          },
          "metadata": {},
          "output_type": "display_data"
        },
        {
          "name": "stdout",
          "output_type": "stream",
          "text": [
            "Val f1: 0.6389658356417359, auc: 0.7570375197201454\n"
          ]
        },
        {
          "data": {
            "image/png": "[encoded data removed]",
            "text/plain": [
              "<Figure size 1200x600 with 3 Axes>"
            ]
          },
          "metadata": {},
          "output_type": "display_data"
        }
      ],
      "source": [
        "from sklearn.metrics import confusion_matrix, f1_score, roc_auc_score, roc_curve, auc\n",
        "import seaborn as sns\n",
        "\n",
        "def predict_summary (inputs, targets, model, name=''):\n",
        "    predictions = model.predict(inputs)\n",
        "    f1 = f1_score(targets, predictions)\n",
        "    auc_score = roc_auc_score(targets, predictions)   \n",
        "    print(f'{name} f1: {f1}, auc: {auc_score}')\n",
        "\n",
        "    cm = confusion_matrix(targets, predictions, normalize='true')\n",
        "\n",
        "    plt.figure(figsize=(12, 6))\n",
        "    plt.subplot(1, 2, 1)\n",
        "    sns.heatmap(cm, annot=True)\n",
        "    plt.xlabel('Prediction')\n",
        "    plt.ylabel('Target')\n",
        "    plt.title('{} Confusion Matrix'.format(name));\n",
        "\n",
        "    fpr, tpr, thresholds = roc_curve(targets, predictions)\n",
        "    plt.subplot(1, 2, 2)\n",
        "    plt.plot(fpr, tpr, color='darkorange', lw=2, label=f'ROC curve (area = {auc_score:.2f})')\n",
        "    plt.plot([0, 1], [0, 1], color='navy', lw=2, linestyle='--')\n",
        "    plt.xlim([0.0, 1.0])\n",
        "    plt.ylim([0.0, 1.05])\n",
        "    plt.xlabel('False Positive Rate')\n",
        "    plt.ylabel('True Positive Rate')\n",
        "    plt.title(f'Receiver Operating Characteristic (ROC) Curve for {name}')\n",
        "    plt.legend(loc=\"lower right\")\n",
        "    plt.show()\n",
        "\n",
        "    return predictions\n",
        "\n",
        "train_predict = predict_summary(X_train, train_targets, model, 'Train')\n",
        "val_predict = predict_summary(X_val, val_targets, model, 'Val')"
      ]
    },
    {
      "cell_type": "markdown",
      "metadata": {
        "id": "3aLarTs4rWIJ"
      },
      "source": [
        "8. Створіть передбачення моделі, яка передбачає завжди мажоритарний клас (той, якого більше в тренувальних даних). Порахуйте Accuracy на тренувальних та валідаційних даних для цієї моделі і тої, що ми натренували в п.6. Зробіть заключення про якість нашої моделі: якість хороша, погана, задовільна?"
      ]
    },
    {
      "cell_type": "code",
      "execution_count": 355,
      "metadata": {
        "id": "0szMoWzd2k_Y"
      },
      "outputs": [
        {
          "name": "stdout",
          "output_type": "stream",
          "text": [
            "Majority class train accuracy: 0.7965, val accuracy: 0.7967\n",
            "Log. regres. train accuracy: 0.8744, val accuracy: 0.8697\n"
          ]
        }
      ],
      "source": [
        "from sklearn.metrics import accuracy_score\n",
        "\n",
        "def major(inputs, majority):\n",
        "    return np.full(len(inputs), majority)\n",
        "\n",
        "majority = train_targets.mode()[0] \n",
        "\n",
        "majority_train_pred = major(X_train, majority)\n",
        "majority_val_pred = major(X_val, majority)\n",
        "\n",
        "train__major_acc = accuracy_score(train_targets, majority_train_pred)\n",
        "val_major_acc = accuracy_score(val_targets, majority_val_pred)\n",
        "print(f'Majority class train accuracy: {train__major_acc:.04}, val accuracy: {val_major_acc:.04}')\n",
        "\n",
        "train_acc_6 = accuracy_score(train_targets, train_predict)\n",
        "val_acc_6 = accuracy_score(val_targets, val_predict)\n",
        "print(f'Log. regres. train accuracy: {train_acc_6:.04}, val accuracy: {val_acc_6:.04}')"
      ]
    },
    {
      "cell_type": "markdown",
      "metadata": {
        "id": "l_3QF-hAuFgA"
      },
      "source": [
        "9. Збережіть модель і інші обʼєкти, які ви хотіли б зберегти, з використанням бібліотеки joblib в файл `log_reg.joblib`. Потім завантажте модель з файлу в змінну `model_2` (цим ми тренуємось завантажувати модель з файлу на майбутнє)."
      ]
    },
    {
      "cell_type": "code",
      "execution_count": 356,
      "metadata": {
        "id": "FpeQ2qLm2oBU"
      },
      "outputs": [
        {
          "data": {
            "text/plain": [
              "['bank_1.joblib']"
            ]
          },
          "execution_count": 356,
          "metadata": {},
          "output_type": "execute_result"
        }
      ],
      "source": [
        "import joblib\n",
        "bank_1 = {\n",
        "    'model': model,\n",
        "    'scaler': scaler,\n",
        "    'encoder': encoder,\n",
        "    'input_cols': input_cols,\n",
        "    'target_col': target_col,\n",
        "    'numeric_cols': numeric_cols,\n",
        "    'categorical_cols': categorical_cols,\n",
        "    'encoded_cols': encoded_cols\n",
        "}\n",
        "\n",
        "joblib.dump(bank_1, 'bank_1.joblib')"
      ]
    },
    {
      "cell_type": "markdown",
      "metadata": {
        "id": "E_b1hrHUvQpb"
      },
      "source": [
        "10. Ознайомтесь з роботою наведеної функції `predict_raw_df`. Ця функція робить підготовку даних (масштабування числових колонок і кодування категоріальних) і виводить ймовірності належності до класу 1 для кожного рядка в наданому наборі.\n",
        "\n",
        "Доповніть або внесіть зміни у функцію з врахуванням вашого препроцесингу даних."
      ]
    },
    {
      "cell_type": "code",
      "execution_count": 368,
      "metadata": {
        "id": "n8bLQDa3viLC"
      },
      "outputs": [],
      "source": [
        "import warnings\n",
        "warnings.filterwarnings(\"ignore\")\n",
        "\n",
        "def predict_raw_df(scaler, encoder, numeric_cols, categorical_cols, input_df: pd.DataFrame):\n",
        "    input_df[numeric_cols] = scaler.transform(input_df[numeric_cols])\n",
        "    input_df[encoded_cols] = encoder.transform(input_df[categorical_cols])\n",
        "   \n",
        "    X_input = input_df[numeric_cols + encoded_cols]\n",
        "    # print(X_input.head())\n",
        "    print(X_input.shape)\n",
        "\n",
        "    prob = model.predict_proba(X_input)[:,1]\n",
        "    \n",
        "    \n",
        "    return prob"
      ]
    },
    {
      "cell_type": "code",
      "execution_count": 369,
      "metadata": {
        "collapsed": true,
        "id": "n3tx_nQ0vw7W"
      },
      "outputs": [
        {
          "name": "stdout",
          "output_type": "stream",
          "text": [
            "(5, 12)\n"
          ]
        },
        {
          "data": {
            "text/plain": [
              "array([0.01301626, 0.26753732, 0.12116485, 0.37750233, 0.00156514])"
            ]
          },
          "execution_count": 369,
          "metadata": {},
          "output_type": "execute_result"
        }
      ],
      "source": [
        "predict_raw_df(scaler, encoder, numeric_cols, categorical_cols, train_set[:5])\n"
      ]
    },
    {
      "cell_type": "markdown",
      "metadata": {
        "id": "W8rRDFfExV40"
      },
      "source": [
        "11. Зчитайте дані з `test.csv` в змінну `test_raw_df`. Зробіть передбачення для кожного рядка даних з функцією з попереднього завдання і запишіть результат в нову колонку `Exited` в датафреймі `test_raw_df`."
      ]
    },
    {
      "cell_type": "code",
      "execution_count": 372,
      "metadata": {
        "id": "LyWEdGWx2u6d"
      },
      "outputs": [
        {
          "name": "stdout",
          "output_type": "stream",
          "text": [
            "(10000, 12)\n",
            "[0.06927028 0.03328608 0.15361416 0.19839602 0.05404912]\n"
          ]
        },
        {
          "data": {
            "text/html": [
              "<div>\n",
              "<style scoped>\n",
              "    .dataframe tbody tr th:only-of-type {\n",
              "        vertical-align: middle;\n",
              "    }\n",
              "\n",
              "    .dataframe tbody tr th {\n",
              "        vertical-align: top;\n",
              "    }\n",
              "\n",
              "    .dataframe thead th {\n",
              "        text-align: right;\n",
              "    }\n",
              "</style>\n",
              "<table border=\"1\" class=\"dataframe\">\n",
              "  <thead>\n",
              "    <tr style=\"text-align: right;\">\n",
              "      <th></th>\n",
              "      <th>id</th>\n",
              "      <th>CustomerId</th>\n",
              "      <th>Surname</th>\n",
              "      <th>CreditScore</th>\n",
              "      <th>Geography</th>\n",
              "      <th>Gender</th>\n",
              "      <th>Age</th>\n",
              "      <th>Tenure</th>\n",
              "      <th>Balance</th>\n",
              "      <th>NumOfProducts</th>\n",
              "      <th>HasCrCard</th>\n",
              "      <th>IsActiveMember</th>\n",
              "      <th>EstimatedSalary</th>\n",
              "      <th>Geography_France</th>\n",
              "      <th>Geography_Germany</th>\n",
              "      <th>Geography_Spain</th>\n",
              "      <th>Gender_Male</th>\n",
              "      <th>Exited</th>\n",
              "    </tr>\n",
              "  </thead>\n",
              "  <tbody>\n",
              "    <tr>\n",
              "      <th>0</th>\n",
              "      <td>15000</td>\n",
              "      <td>15594796.0</td>\n",
              "      <td>Chu</td>\n",
              "      <td>-1.034678</td>\n",
              "      <td>Germany</td>\n",
              "      <td>Male</td>\n",
              "      <td>-0.944682</td>\n",
              "      <td>-1.087792</td>\n",
              "      <td>1.720173</td>\n",
              "      <td>-1.108193</td>\n",
              "      <td>0.515062</td>\n",
              "      <td>1.016977</td>\n",
              "      <td>0.875226</td>\n",
              "      <td>0.0</td>\n",
              "      <td>1.0</td>\n",
              "      <td>0.0</td>\n",
              "      <td>1.0</td>\n",
              "      <td>0.069270</td>\n",
              "    </tr>\n",
              "    <tr>\n",
              "      <th>1</th>\n",
              "      <td>15001</td>\n",
              "      <td>15642821.0</td>\n",
              "      <td>Mazzi</td>\n",
              "      <td>-1.490909</td>\n",
              "      <td>France</td>\n",
              "      <td>Male</td>\n",
              "      <td>0.161227</td>\n",
              "      <td>-0.009376</td>\n",
              "      <td>-0.717950</td>\n",
              "      <td>0.769304</td>\n",
              "      <td>0.515062</td>\n",
              "      <td>1.016977</td>\n",
              "      <td>-1.109098</td>\n",
              "      <td>1.0</td>\n",
              "      <td>0.0</td>\n",
              "      <td>0.0</td>\n",
              "      <td>1.0</td>\n",
              "      <td>0.033286</td>\n",
              "    </tr>\n",
              "    <tr>\n",
              "      <th>2</th>\n",
              "      <td>15002</td>\n",
              "      <td>15716284.0</td>\n",
              "      <td>Onyekachi</td>\n",
              "      <td>0.651991</td>\n",
              "      <td>France</td>\n",
              "      <td>Male</td>\n",
              "      <td>0.652742</td>\n",
              "      <td>1.069040</td>\n",
              "      <td>-0.717950</td>\n",
              "      <td>0.769304</td>\n",
              "      <td>0.515062</td>\n",
              "      <td>-0.983306</td>\n",
              "      <td>0.850584</td>\n",
              "      <td>1.0</td>\n",
              "      <td>0.0</td>\n",
              "      <td>0.0</td>\n",
              "      <td>1.0</td>\n",
              "      <td>0.153614</td>\n",
              "    </tr>\n",
              "    <tr>\n",
              "      <th>3</th>\n",
              "      <td>15003</td>\n",
              "      <td>15785078.0</td>\n",
              "      <td>Martin</td>\n",
              "      <td>0.804068</td>\n",
              "      <td>Spain</td>\n",
              "      <td>Male</td>\n",
              "      <td>0.898500</td>\n",
              "      <td>-0.728320</td>\n",
              "      <td>-0.717950</td>\n",
              "      <td>-1.108193</td>\n",
              "      <td>0.515062</td>\n",
              "      <td>1.016977</td>\n",
              "      <td>1.073044</td>\n",
              "      <td>0.0</td>\n",
              "      <td>0.0</td>\n",
              "      <td>1.0</td>\n",
              "      <td>1.0</td>\n",
              "      <td>0.198396</td>\n",
              "    </tr>\n",
              "    <tr>\n",
              "      <th>4</th>\n",
              "      <td>15004</td>\n",
              "      <td>15662955.0</td>\n",
              "      <td>Kenechukwu</td>\n",
              "      <td>-0.924077</td>\n",
              "      <td>Spain</td>\n",
              "      <td>Male</td>\n",
              "      <td>0.652742</td>\n",
              "      <td>1.069040</td>\n",
              "      <td>-0.717950</td>\n",
              "      <td>0.769304</td>\n",
              "      <td>0.515062</td>\n",
              "      <td>1.016977</td>\n",
              "      <td>0.563521</td>\n",
              "      <td>0.0</td>\n",
              "      <td>0.0</td>\n",
              "      <td>1.0</td>\n",
              "      <td>1.0</td>\n",
              "      <td>0.054049</td>\n",
              "    </tr>\n",
              "  </tbody>\n",
              "</table>\n",
              "</div>"
            ],
            "text/plain": [
              "      id  CustomerId     Surname  CreditScore Geography Gender       Age  \\\n",
              "0  15000  15594796.0         Chu    -1.034678   Germany   Male -0.944682   \n",
              "1  15001  15642821.0       Mazzi    -1.490909    France   Male  0.161227   \n",
              "2  15002  15716284.0   Onyekachi     0.651991    France   Male  0.652742   \n",
              "3  15003  15785078.0      Martin     0.804068     Spain   Male  0.898500   \n",
              "4  15004  15662955.0  Kenechukwu    -0.924077     Spain   Male  0.652742   \n",
              "\n",
              "     Tenure   Balance  NumOfProducts  HasCrCard  IsActiveMember  \\\n",
              "0 -1.087792  1.720173      -1.108193   0.515062        1.016977   \n",
              "1 -0.009376 -0.717950       0.769304   0.515062        1.016977   \n",
              "2  1.069040 -0.717950       0.769304   0.515062       -0.983306   \n",
              "3 -0.728320 -0.717950      -1.108193   0.515062        1.016977   \n",
              "4  1.069040 -0.717950       0.769304   0.515062        1.016977   \n",
              "\n",
              "   EstimatedSalary  Geography_France  Geography_Germany  Geography_Spain  \\\n",
              "0         0.875226               0.0                1.0              0.0   \n",
              "1        -1.109098               1.0                0.0              0.0   \n",
              "2         0.850584               1.0                0.0              0.0   \n",
              "3         1.073044               0.0                0.0              1.0   \n",
              "4         0.563521               0.0                0.0              1.0   \n",
              "\n",
              "   Gender_Male    Exited  \n",
              "0          1.0  0.069270  \n",
              "1          1.0  0.033286  \n",
              "2          1.0  0.153614  \n",
              "3          1.0  0.198396  \n",
              "4          1.0  0.054049  "
            ]
          },
          "execution_count": 372,
          "metadata": {},
          "output_type": "execute_result"
        }
      ],
      "source": [
        "test_raw_df = pd.read_csv(path + 'test.csv')\n",
        "test_prob = predict_raw_df(scaler, encoder, numeric_cols, categorical_cols, test_raw_df)\n",
        "print (test_prob[:5])\n",
        "\n",
        "test_raw_df['Exited'] = test_prob\n",
        "test_raw_df.head()\n"
      ]
    },
    {
      "cell_type": "markdown",
      "metadata": {
        "id": "ZHZciHxEx7IZ"
      },
      "source": [
        "12. Зчитайте файл 'sample_submission.csv' і зповніть колонку `Exited` передбаченими вашою моделлю значеннями для кожного відповідного `id` клієнта.\n",
        "Виведіть перші 5 рядків фінального датасету, збережіть результат в файл `submission_log_reg.csv` (УВАГА! не запишіть випадково ще індекси рядків!) і здайте цей файл на Kaggle зі свого профіля натиснувши `Submit Prediction`."
      ]
    },
    {
      "cell_type": "code",
      "execution_count": 375,
      "metadata": {},
      "outputs": [
        {
          "data": {
            "text/html": [
              "<div>\n",
              "<style scoped>\n",
              "    .dataframe tbody tr th:only-of-type {\n",
              "        vertical-align: middle;\n",
              "    }\n",
              "\n",
              "    .dataframe tbody tr th {\n",
              "        vertical-align: top;\n",
              "    }\n",
              "\n",
              "    .dataframe thead th {\n",
              "        text-align: right;\n",
              "    }\n",
              "</style>\n",
              "<table border=\"1\" class=\"dataframe\">\n",
              "  <thead>\n",
              "    <tr style=\"text-align: right;\">\n",
              "      <th></th>\n",
              "      <th>id</th>\n",
              "      <th>Exited</th>\n",
              "    </tr>\n",
              "  </thead>\n",
              "  <tbody>\n",
              "    <tr>\n",
              "      <th>0</th>\n",
              "      <td>15000</td>\n",
              "      <td>0.069270</td>\n",
              "    </tr>\n",
              "    <tr>\n",
              "      <th>1</th>\n",
              "      <td>15001</td>\n",
              "      <td>0.033286</td>\n",
              "    </tr>\n",
              "    <tr>\n",
              "      <th>2</th>\n",
              "      <td>15002</td>\n",
              "      <td>0.153614</td>\n",
              "    </tr>\n",
              "    <tr>\n",
              "      <th>3</th>\n",
              "      <td>15003</td>\n",
              "      <td>0.198396</td>\n",
              "    </tr>\n",
              "    <tr>\n",
              "      <th>4</th>\n",
              "      <td>15004</td>\n",
              "      <td>0.054049</td>\n",
              "    </tr>\n",
              "  </tbody>\n",
              "</table>\n",
              "</div>"
            ],
            "text/plain": [
              "      id    Exited\n",
              "0  15000  0.069270\n",
              "1  15001  0.033286\n",
              "2  15002  0.153614\n",
              "3  15003  0.198396\n",
              "4  15004  0.054049"
            ]
          },
          "execution_count": 375,
          "metadata": {},
          "output_type": "execute_result"
        }
      ],
      "source": [
        "submit = pd.read_csv(path + 'sample_submission.csv')\n",
        "submit['Exited'] = test_raw_df['Exited']\n",
        "submit.head()"
      ]
    },
    {
      "cell_type": "code",
      "execution_count": 376,
      "metadata": {},
      "outputs": [],
      "source": [
        "submit.to_csv(path + 'submission_log_reg.csv', index=False)"
      ]
    }
  ],
  "metadata": {
    "colab": {
      "provenance": []
    },
    "kernelspec": {
      "display_name": "ml_course",
      "language": "python",
      "name": "python3"
    },
    "language_info": {
      "codemirror_mode": {
        "name": "ipython",
        "version": 3
      },
      "file_extension": ".py",
      "mimetype": "text/x-python",
      "name": "python",
      "nbconvert_exporter": "python",
      "pygments_lexer": "ipython3",
      "version": "3.12.7"
    }
  },
  "nbformat": 4,
  "nbformat_minor": 0
}
