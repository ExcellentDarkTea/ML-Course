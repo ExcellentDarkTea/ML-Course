{
  "cells": [
    {
      "cell_type": "markdown",
      "metadata": {},
      "source": [
        "# Домашне завдання №3 (2-1): Функції та їх похідні\n",
        "\n",
        "## Ольга Шапошник"
      ]
    },
    {
      "cell_type": "markdown",
      "metadata": {
        "id": "96Jt4SJFgNMT"
      },
      "source": [
        "### Домашні завдання на відпрацювання поняття функції та її похідної\n",
        "\n",
        "1. Задана функція залежності оцінки від кількості годин, витрачених на навчання: $ f(x) = 10x - 5 $.\n",
        "  1. З допомогою Python обчисліть похідну цієї функції.\n",
        "  2. Використовуйте бібліотеку `matplotlib` для побудови графіків функції та її похідної в діапазоні значень від 0 до 10 годин. Проаналізуйте, як зміна кількості годин вивчення впливає на оцінку.\n",
        "\n"
      ]
    },
    {
      "cell_type": "code",
      "execution_count": null,
      "metadata": {
        "id": "R15CgY_gt63W"
      },
      "outputs": [],
      "source": []
    },
    {
      "cell_type": "markdown",
      "metadata": {
        "id": "9KlJeYO4fNJq"
      },
      "source": [
        "2. Використовуючи Python і `SymPy`, обчисліть похідні для функцій $ f(x) = \\sin(x) $ та $ f(x) = \\ln(x) $. Зобразіть ці функції та їхні похідні за допомогою `matplotlib`.\n",
        "\n"
      ]
    },
    {
      "cell_type": "code",
      "execution_count": null,
      "metadata": {
        "id": "yR4tg0zDuAAQ"
      },
      "outputs": [],
      "source": []
    },
    {
      "cell_type": "markdown",
      "metadata": {
        "id": "A-BVEn9PgkN8"
      },
      "source": [
        "\n",
        "3. Загальні витрати компанії від обсягу виробництва задані функцією $ f(x) = x^2 - 5x + 1 $, де $ x $ — кількість вироблених одиниць. Обчисліть похідну цієї функції з допомогою SymPy та візуалізуйте значення функції і її похідної на відрізку від 0 до 100."
      ]
    },
    {
      "cell_type": "code",
      "execution_count": null,
      "metadata": {
        "id": "Dx4g-2gDuA4g"
      },
      "outputs": [],
      "source": []
    }
  ],
  "metadata": {
    "colab": {
      "provenance": []
    },
    "kernelspec": {
      "display_name": "Python 3",
      "name": "python3"
    },
    "language_info": {
      "name": "python"
    }
  },
  "nbformat": 4,
  "nbformat_minor": 0
}
