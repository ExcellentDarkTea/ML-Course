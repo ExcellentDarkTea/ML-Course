{
  "cells": [
    {
      "cell_type": "markdown",
      "metadata": {
        "id": "8J0vzsqQfZlU"
      },
      "source": [
        "В цьому домашньому завданні ми знову працюємо з даними з нашого змагання [\"Bank Customer Churn Prediction (DLU Course)\"](https://www.kaggle.com/t/7c080c5d8ec64364a93cf4e8f880b6a0).\n",
        "\n",
        "Тут ми побудуємо рішення задачі класифікації з використанням Decision Trees і зробимо новий submission на змагання на Kaggle.\n",
        "\n",
        "В цьому ДЗ ми працюємо без pipelines, бо так буде зручніше для візуалізації і інтерпретації моделі дерева прийняття рішень. Так буває і в робочих проєктах: іноді зручніше використати sklearn.Pipelines, іноді зручніше без них. На етапі пошуку рішення (research) зручніше без пайплайнів, а з пайплайнами - коли ви відлагодили процес обробки даних і хочете поекспериментувати з різними моделями і гіперпараметрами."
      ]
    },
    {
      "cell_type": "markdown",
      "metadata": {
        "id": "NQ2RvQ9G6H_v"
      },
      "source": [
        "**Завдання 1.**\n",
        "\n",
        "У попередньому домашньому завданні, `HW 2.7 Логістична регресія з scikit learn.ipynb`, ми писали обробку даних для змагання. Ваше завдання зараз - за прикладом, наведеним в лекції `Майстер-клас з перенесення коду з jupyter notebook у Python модуль`, перенести попередню обробку сирих даних з вашого розв'язку ДЗ 2.7 у файл `process_bank_churn.py` в функцію `preprocess_data(...)`.\n",
        "\n",
        "Функція `preprocess_data()` має приймати `raw_df` і вертати `X_train`, `train_targets`, `X_val`, `val_targets`, `input_cols`(перелік назв колонок, які Ви використовуєте в X), `scaler`, `encoder`, які ми потім будемо використовувати для тренування дерева прийняття рішень.\n",
        "\n",
        "\n",
        "### Кроки попередньої обробки:\n",
        "\n",
        "1. Обираємо колонки для роботи. В цьому завдання для чистоти експериментів рекомендую прибрати колонку `Surname`, так буде простіше інтрепретувати модель. Ви можете її додати вже за самостійних подальших експериментів.\n",
        "2. Розбиття сирих даних на тренувальні і валідаційні.\n",
        "3. Обробка категоріальних даних (one hot encoding).\n",
        "4. Масштабування числових даних (було частиною попередньої обробки в попередніх завданнях). Для дерев нам не обовʼязково масштабувати ознаки, тож в коді можна зробити цю частину опціональною, додавши в `preprocess_data` параметр `scaler_numeric`, який приймає значення `True` або `False`. Це дозволить використовувати код попередньоъ обробки з різними моделями.\n",
        "\n",
        "\n",
        "### Інструкції:\n",
        "1. Перенесіть попередню обробку даних у файл `process_bank_churn.py`.\n",
        "2. Забезпечте модулярну структуру функцій: кожна функція повинна виконувати лише одну дію, наприклад, масштабувати ознаки.\n",
        "3. Додайте докстрінги до кожної функції.\n",
        "4. Використовуйте typing для аргументів та значень, що повертаються функціями.\n",
        "5. Передбачте обробку нових даних. Додайте спеціальну функцію `preprocess_new_data(...)`, яка приймає на вхід нові дані в вигляді pandas DataFrame та використовує вже навчені скейлер та енкодер (передані теж як аргументи фукнціх) для їх обробки. Ця функція буде корисною для обробки нових даних перед передбаченням або оцінкою моделі, коли оброблятимемо `test.csv`.\n",
        "\n",
        "Можна і рекомендовано виконувати це завдання з ChatGPT (бажано, новіше, ніж 3.5) як було наведено у відео-прикладі, тільки **ваше додаткове завдання - розібратись з кодом, який вам згенерувала мовна модель :)**.\n",
        "\n",
        "## В результаті цього завдання\n",
        "\n",
        "1. Завантажте ваш готовий `process_bank_churn.py` файл на GitHub у свій репозиторій.\n",
        "2. Додайте посилання на файл в репозиторії тут у ноутбуці.\n",
        "3. Нижче зробіть імпорт функції `preprocess_data` з вашого модуля `process_bank_churn.py`.\n",
        "\n"
      ]
    },
    {
      "cell_type": "code",
      "execution_count": 1,
      "metadata": {},
      "outputs": [],
      "source": [
        "import pandas as pd\n",
        "import numpy as np\n",
        "from sklearn.model_selection import train_test_split\n",
        "\n",
        "path = \"../../../data/\"\n",
        "\n",
        "df_train_raw = pd.read_csv(path + \"train.csv\")"
      ]
    },
    {
      "cell_type": "code",
      "execution_count": 2,
      "metadata": {
        "id": "gJKP4iL38AEL"
      },
      "outputs": [],
      "source": [
        "from process_bank_churn import preprocess_data, preprocess_new_data\n",
        "preprocessed_data = preprocess_data(df_train_raw, scaler_numeric=True, scaler_type='standard')\n",
        "\n",
        "# # Now, when you have new data to preprocess:\n",
        "# new_data = pd.read_csv('new_data.csv')\n",
        "# preprocessed_new_data = preprocess_new_data(new_data, preprocessed_data)"
      ]
    },
    {
      "cell_type": "code",
      "execution_count": 7,
      "metadata": {},
      "outputs": [
        {
          "data": {
            "text/html": [
              "<div>\n",
              "<style scoped>\n",
              "    .dataframe tbody tr th:only-of-type {\n",
              "        vertical-align: middle;\n",
              "    }\n",
              "\n",
              "    .dataframe tbody tr th {\n",
              "        vertical-align: top;\n",
              "    }\n",
              "\n",
              "    .dataframe thead th {\n",
              "        text-align: right;\n",
              "    }\n",
              "</style>\n",
              "<table border=\"1\" class=\"dataframe\">\n",
              "  <thead>\n",
              "    <tr style=\"text-align: right;\">\n",
              "      <th></th>\n",
              "      <th>CreditScore</th>\n",
              "      <th>Age</th>\n",
              "      <th>Tenure</th>\n",
              "      <th>Balance</th>\n",
              "      <th>NumOfProducts</th>\n",
              "      <th>HasCrCard</th>\n",
              "      <th>IsActiveMember</th>\n",
              "      <th>EstimatedSalary</th>\n",
              "      <th>Geography_France</th>\n",
              "      <th>Geography_Germany</th>\n",
              "      <th>Geography_Spain</th>\n",
              "      <th>Gender_Male</th>\n",
              "    </tr>\n",
              "  </thead>\n",
              "  <tbody>\n",
              "    <tr>\n",
              "      <th>7180</th>\n",
              "      <td>0.320187</td>\n",
              "      <td>-0.944682</td>\n",
              "      <td>-1.447264</td>\n",
              "      <td>1.475464</td>\n",
              "      <td>-1.108193</td>\n",
              "      <td>0.515062</td>\n",
              "      <td>1.016977</td>\n",
              "      <td>0.569450</td>\n",
              "      <td>1.0</td>\n",
              "      <td>0.0</td>\n",
              "      <td>0.0</td>\n",
              "      <td>1.0</td>\n",
              "    </tr>\n",
              "    <tr>\n",
              "      <th>10393</th>\n",
              "      <td>0.347838</td>\n",
              "      <td>0.161227</td>\n",
              "      <td>-1.087792</td>\n",
              "      <td>2.254434</td>\n",
              "      <td>-1.108193</td>\n",
              "      <td>0.515062</td>\n",
              "      <td>-0.983306</td>\n",
              "      <td>0.603803</td>\n",
              "      <td>1.0</td>\n",
              "      <td>0.0</td>\n",
              "      <td>0.0</td>\n",
              "      <td>0.0</td>\n",
              "    </tr>\n",
              "    <tr>\n",
              "      <th>80</th>\n",
              "      <td>0.638166</td>\n",
              "      <td>-0.330288</td>\n",
              "      <td>0.350096</td>\n",
              "      <td>1.223831</td>\n",
              "      <td>0.769304</td>\n",
              "      <td>0.515062</td>\n",
              "      <td>-0.983306</td>\n",
              "      <td>1.238026</td>\n",
              "      <td>0.0</td>\n",
              "      <td>1.0</td>\n",
              "      <td>0.0</td>\n",
              "      <td>1.0</td>\n",
              "    </tr>\n",
              "    <tr>\n",
              "      <th>3365</th>\n",
              "      <td>0.140460</td>\n",
              "      <td>2.495924</td>\n",
              "      <td>-1.806736</td>\n",
              "      <td>-0.717950</td>\n",
              "      <td>0.769304</td>\n",
              "      <td>-1.941514</td>\n",
              "      <td>1.016977</td>\n",
              "      <td>-1.457116</td>\n",
              "      <td>0.0</td>\n",
              "      <td>0.0</td>\n",
              "      <td>1.0</td>\n",
              "      <td>1.0</td>\n",
              "    </tr>\n",
              "    <tr>\n",
              "      <th>12236</th>\n",
              "      <td>0.665816</td>\n",
              "      <td>-2.050591</td>\n",
              "      <td>-0.728320</td>\n",
              "      <td>-0.717950</td>\n",
              "      <td>0.769304</td>\n",
              "      <td>0.515062</td>\n",
              "      <td>1.016977</td>\n",
              "      <td>0.670629</td>\n",
              "      <td>1.0</td>\n",
              "      <td>0.0</td>\n",
              "      <td>0.0</td>\n",
              "      <td>1.0</td>\n",
              "    </tr>\n",
              "  </tbody>\n",
              "</table>\n",
              "</div>"
            ],
            "text/plain": [
              "       CreditScore       Age    Tenure   Balance  NumOfProducts  HasCrCard  \\\n",
              "7180      0.320187 -0.944682 -1.447264  1.475464      -1.108193   0.515062   \n",
              "10393     0.347838  0.161227 -1.087792  2.254434      -1.108193   0.515062   \n",
              "80        0.638166 -0.330288  0.350096  1.223831       0.769304   0.515062   \n",
              "3365      0.140460  2.495924 -1.806736 -0.717950       0.769304  -1.941514   \n",
              "12236     0.665816 -2.050591 -0.728320 -0.717950       0.769304   0.515062   \n",
              "\n",
              "       IsActiveMember  EstimatedSalary  Geography_France  Geography_Germany  \\\n",
              "7180         1.016977         0.569450               1.0                0.0   \n",
              "10393       -0.983306         0.603803               1.0                0.0   \n",
              "80          -0.983306         1.238026               0.0                1.0   \n",
              "3365         1.016977        -1.457116               0.0                0.0   \n",
              "12236        1.016977         0.670629               1.0                0.0   \n",
              "\n",
              "       Geography_Spain  Gender_Male  \n",
              "7180               0.0          1.0  \n",
              "10393              0.0          0.0  \n",
              "80                 0.0          1.0  \n",
              "3365               1.0          1.0  \n",
              "12236              0.0          1.0  "
            ]
          },
          "metadata": {},
          "output_type": "display_data"
        },
        {
          "data": {
            "text/html": [
              "<div>\n",
              "<style scoped>\n",
              "    .dataframe tbody tr th:only-of-type {\n",
              "        vertical-align: middle;\n",
              "    }\n",
              "\n",
              "    .dataframe tbody tr th {\n",
              "        vertical-align: top;\n",
              "    }\n",
              "\n",
              "    .dataframe thead th {\n",
              "        text-align: right;\n",
              "    }\n",
              "</style>\n",
              "<table border=\"1\" class=\"dataframe\">\n",
              "  <thead>\n",
              "    <tr style=\"text-align: right;\">\n",
              "      <th></th>\n",
              "      <th>CreditScore</th>\n",
              "      <th>Age</th>\n",
              "      <th>Tenure</th>\n",
              "      <th>Balance</th>\n",
              "      <th>NumOfProducts</th>\n",
              "      <th>HasCrCard</th>\n",
              "      <th>IsActiveMember</th>\n",
              "      <th>EstimatedSalary</th>\n",
              "      <th>Geography_France</th>\n",
              "      <th>Geography_Germany</th>\n",
              "      <th>Geography_Spain</th>\n",
              "      <th>Gender_Male</th>\n",
              "    </tr>\n",
              "  </thead>\n",
              "  <tbody>\n",
              "    <tr>\n",
              "      <th>6490</th>\n",
              "      <td>0.762592</td>\n",
              "      <td>1.021379</td>\n",
              "      <td>-1.447264</td>\n",
              "      <td>1.214543</td>\n",
              "      <td>4.524299</td>\n",
              "      <td>0.515062</td>\n",
              "      <td>1.016977</td>\n",
              "      <td>-0.988144</td>\n",
              "      <td>0.0</td>\n",
              "      <td>1.0</td>\n",
              "      <td>0.0</td>\n",
              "      <td>1.0</td>\n",
              "    </tr>\n",
              "    <tr>\n",
              "      <th>3646</th>\n",
              "      <td>-0.910252</td>\n",
              "      <td>0.406985</td>\n",
              "      <td>-0.009376</td>\n",
              "      <td>-0.717950</td>\n",
              "      <td>0.769304</td>\n",
              "      <td>0.515062</td>\n",
              "      <td>1.016977</td>\n",
              "      <td>-1.750392</td>\n",
              "      <td>1.0</td>\n",
              "      <td>0.0</td>\n",
              "      <td>0.0</td>\n",
              "      <td>1.0</td>\n",
              "    </tr>\n",
              "    <tr>\n",
              "      <th>5306</th>\n",
              "      <td>0.997620</td>\n",
              "      <td>0.038348</td>\n",
              "      <td>-1.087792</td>\n",
              "      <td>-0.717950</td>\n",
              "      <td>0.769304</td>\n",
              "      <td>-1.941514</td>\n",
              "      <td>1.016977</td>\n",
              "      <td>-0.022404</td>\n",
              "      <td>1.0</td>\n",
              "      <td>0.0</td>\n",
              "      <td>0.0</td>\n",
              "      <td>0.0</td>\n",
              "    </tr>\n",
              "    <tr>\n",
              "      <th>652</th>\n",
              "      <td>0.195761</td>\n",
              "      <td>0.652742</td>\n",
              "      <td>-0.368848</td>\n",
              "      <td>1.881867</td>\n",
              "      <td>-1.108193</td>\n",
              "      <td>-1.941514</td>\n",
              "      <td>1.016977</td>\n",
              "      <td>-0.139723</td>\n",
              "      <td>1.0</td>\n",
              "      <td>0.0</td>\n",
              "      <td>0.0</td>\n",
              "      <td>0.0</td>\n",
              "    </tr>\n",
              "    <tr>\n",
              "      <th>2627</th>\n",
              "      <td>0.264887</td>\n",
              "      <td>-0.944682</td>\n",
              "      <td>-0.368848</td>\n",
              "      <td>-0.717950</td>\n",
              "      <td>0.769304</td>\n",
              "      <td>0.515062</td>\n",
              "      <td>-0.983306</td>\n",
              "      <td>0.563519</td>\n",
              "      <td>0.0</td>\n",
              "      <td>0.0</td>\n",
              "      <td>1.0</td>\n",
              "      <td>0.0</td>\n",
              "    </tr>\n",
              "  </tbody>\n",
              "</table>\n",
              "</div>"
            ],
            "text/plain": [
              "      CreditScore       Age    Tenure   Balance  NumOfProducts  HasCrCard  \\\n",
              "6490     0.762592  1.021379 -1.447264  1.214543       4.524299   0.515062   \n",
              "3646    -0.910252  0.406985 -0.009376 -0.717950       0.769304   0.515062   \n",
              "5306     0.997620  0.038348 -1.087792 -0.717950       0.769304  -1.941514   \n",
              "652      0.195761  0.652742 -0.368848  1.881867      -1.108193  -1.941514   \n",
              "2627     0.264887 -0.944682 -0.368848 -0.717950       0.769304   0.515062   \n",
              "\n",
              "      IsActiveMember  EstimatedSalary  Geography_France  Geography_Germany  \\\n",
              "6490        1.016977        -0.988144               0.0                1.0   \n",
              "3646        1.016977        -1.750392               1.0                0.0   \n",
              "5306        1.016977        -0.022404               1.0                0.0   \n",
              "652         1.016977        -0.139723               1.0                0.0   \n",
              "2627       -0.983306         0.563519               0.0                0.0   \n",
              "\n",
              "      Geography_Spain  Gender_Male  \n",
              "6490              0.0          1.0  \n",
              "3646              0.0          1.0  \n",
              "5306              0.0          0.0  \n",
              "652               0.0          0.0  \n",
              "2627              1.0          0.0  "
            ]
          },
          "metadata": {},
          "output_type": "display_data"
        }
      ],
      "source": [
        "display(preprocessed_data['train_X'].head(),  preprocessed_data['val_X'].head())\n"
      ]
    },
    {
      "cell_type": "markdown",
      "metadata": {
        "id": "B4YZMqOqaAH1"
      },
      "source": [
        "**Завдання 2.**\n",
        "1. Натренуйте дерево прийняття рішень з зафіксованим `random_state` і з рештою аргументів за замовченням.\n",
        "2. Виведіть area under ROC для моделі на тренувальних і тестувальних даних. Нам потрібна ця метрика, бо вона основна в змаганні. Модель ок, чи є пере- або недотренування?\n",
        "3. Виведіть глибину дерева.\n",
        "4. Побудуйте дерево до глибини 2 включно. Напишіть, які ознаки бачите, що є найвпливовішими тут?\n",
        "5. Створіть датафрейм `importance_df` з feature importances, де в першому стовпчику `feature` - назва ознаки з нашого Х, а в другому `importance` - значення, наскільки ця ознака є важливою в побудованій моделі. Виведіть топ 10 найвпливовіших ознак разом з їх скором важливості (можна або у вигляді таблиці, або в вигляді barplot)."
      ]
    },
    {
      "cell_type": "code",
      "execution_count": null,
      "metadata": {
        "id": "v2U2dJIaF_W4"
      },
      "outputs": [],
      "source": []
    },
    {
      "cell_type": "markdown",
      "metadata": {
        "id": "F-qp7eROd2MF"
      },
      "source": [
        "**Завдання 3**. Спробуйте знайти такі параметри моделі `DecisionTree` аби модель генералізувала ліпше (був вищий показник AUROC на валідаційній вибірці). Проекспериментуйте з різними значеннями параметрів `max_leaf_nodes`, `max_depth` та лишіть ті, які дають найкращий результат, разом з відповідними AUROC на тренувальній і валідаційній вибірках.\n",
        "\n",
        "В цьому завданні спробуйте просто знайти параметри методом \"тика\" :)"
      ]
    },
    {
      "cell_type": "code",
      "execution_count": null,
      "metadata": {
        "id": "z4PK69GAGCsc"
      },
      "outputs": [],
      "source": []
    },
    {
      "cell_type": "markdown",
      "metadata": {
        "id": "F-g1OXxofYqC"
      },
      "source": [
        "**Завдання 4**. В циклі пройдіться по значенням max_depth від 1 до 20 включно, на кожній ітерації натренуйте DecisionTree модель і виміряйте AUROC на трейн і валідаційних даних.\n",
        "\n",
        "В кінці виведіть на графік залеєність між AUROC на трейн і валідаційних даних і номером ітерації."
      ]
    },
    {
      "cell_type": "code",
      "execution_count": null,
      "metadata": {
        "id": "R6RVg0TvGDu1"
      },
      "outputs": [],
      "source": []
    },
    {
      "cell_type": "markdown",
      "metadata": {
        "id": "3cpULQtgiC5T"
      },
      "source": [
        "**Завдання 5**.\n",
        "1. Натренуйте модель `DecisionTree` з найкращим значенням `max_depth`, яке ви знайшли на попередній ітерації.\n",
        "2. Завантажте тестові дані змагання з `test.csv`.\n",
        "3. Зробіть попередню обробку даних з функцією `preprocess_new_data` з вашого модуля `process_bank_churn.py`.\n",
        "4. Зробіть передбачення використовуючи цю модель на тестових даних змагання.\n",
        "5. Сформуйте `submission.csv`.\n",
        "6. Зробіть новий Submission на Kaggle і додайте тут скріншот Вашого скору на паблік лідерборді :)\n"
      ]
    },
    {
      "cell_type": "code",
      "execution_count": null,
      "metadata": {
        "id": "ht6fOjbQGH2D"
      },
      "outputs": [],
      "source": []
    }
  ],
  "metadata": {
    "colab": {
      "provenance": []
    },
    "kernelspec": {
      "display_name": "ml_course",
      "language": "python",
      "name": "python3"
    },
    "language_info": {
      "codemirror_mode": {
        "name": "ipython",
        "version": 3
      },
      "file_extension": ".py",
      "mimetype": "text/x-python",
      "name": "python",
      "nbconvert_exporter": "python",
      "pygments_lexer": "ipython3",
      "version": "3.12.7"
    }
  },
  "nbformat": 4,
  "nbformat_minor": 0
}
