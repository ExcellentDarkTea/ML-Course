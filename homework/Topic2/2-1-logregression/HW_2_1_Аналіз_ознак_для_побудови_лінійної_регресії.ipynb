{
  "cells": [
    {
      "cell_type": "markdown",
      "id": "9897e9f8",
      "metadata": {},
      "source": [
        "# Домашне завдання №3: Аналіз ознак для побудови лінійної регресії\n",
        "\n",
        "## Ольга Шапошник"
      ]
    },
    {
      "cell_type": "markdown",
      "id": "878f37c0",
      "metadata": {
        "id": "878f37c0"
      },
      "source": [
        "\n",
        "**Завдання 1**: Завантажте дані `medical-charges.csv` в пандас датафрейм і виведіть перші 5 записів. Напишіть, як ви можете підійти до вирішення задачі прогнозування колонки `charges` на основі інших колонок виходячи з наявних на даний момент знань (без ML методів, чисто з використанням аналітики). Запишіть 3 або більше ідей, які приходять вам на думку нижче:"
      ]
    },
    {
      "cell_type": "code",
      "execution_count": null,
      "id": "vlVmXAdrWN7U",
      "metadata": {
        "id": "vlVmXAdrWN7U"
      },
      "outputs": [],
      "source": []
    },
    {
      "cell_type": "markdown",
      "id": "dc428947",
      "metadata": {
        "id": "dc428947"
      },
      "source": [
        "**Завдання 2**: Візуалізуйте розподіл медичних зборів (`charges`) у вигляді інтерактивної гістограми plotly з розбиттями за категоріями ознак\n",
        "1. `sex`\n",
        "2. `region`\n",
        "\n",
        "Додайте маржинальний графік у вигляді бокс-плота вгорі по дикретним категоріям ознак.\n",
        "Скористайтесь прикладом візуалізації з лекції.\n",
        "Опишіть свої спостереження."
      ]
    },
    {
      "cell_type": "code",
      "execution_count": null,
      "id": "GNRm3rh2WPuo",
      "metadata": {
        "id": "GNRm3rh2WPuo"
      },
      "outputs": [],
      "source": []
    },
    {
      "cell_type": "markdown",
      "id": "08e5c1ff",
      "metadata": {
        "id": "08e5c1ff"
      },
      "source": [
        "**Завдання 3**: Візуалізуйте з `plotly` розподіл кожного з настуних стовпців відносно того, чи є людина курцем (`smoker`)\n",
        "- `region`\n",
        "- `children`\n",
        "\n",
        "та опишіть коротко свої спостереження."
      ]
    },
    {
      "cell_type": "code",
      "execution_count": null,
      "id": "W4qbj6kpWUVP",
      "metadata": {
        "id": "W4qbj6kpWUVP"
      },
      "outputs": [],
      "source": []
    },
    {
      "cell_type": "markdown",
      "id": "94d4b458",
      "metadata": {
        "id": "94d4b458"
      },
      "source": [
        "**Завдання 4**: Візуалізуйте звʼязок між стовпцем `charges` та `children` використовуючи графіки-скрипки (`px.violin`). Опишіть свої спостереження."
      ]
    },
    {
      "cell_type": "code",
      "execution_count": null,
      "id": "Jo_icWuYWVlq",
      "metadata": {
        "id": "Jo_icWuYWVlq"
      },
      "outputs": [],
      "source": []
    },
    {
      "cell_type": "markdown",
      "id": "2baffd91",
      "metadata": {
        "id": "2baffd91"
      },
      "source": [
        "**Завдання 5.** Розглянемо модель для користувачів, які не є курцями (`no_smoker_df`):\n",
        "\n",
        "$$charges = w \\times age + b$$\n",
        "\n",
        "Спробуйте 3 різні пари параметрів `w` та `b` аби вручну підігнати лінію під дані використовуючи наведені допоміжні функції `estimate_charges` та `try_parameters`. Опишіть спостереження.\n",
        "Пари параметрів мають бути НЕ такі, як були наведені в лекції."
      ]
    },
    {
      "cell_type": "code",
      "execution_count": null,
      "id": "Mq1n6e9bSY4c",
      "metadata": {
        "id": "Mq1n6e9bSY4c"
      },
      "outputs": [],
      "source": [
        "non_smoker_df = medical_df[medical_df.smoker == 'no']"
      ]
    },
    {
      "cell_type": "code",
      "execution_count": null,
      "id": "5a718186",
      "metadata": {
        "id": "5a718186"
      },
      "outputs": [],
      "source": [
        "def estimate_charges(age, w, b):\n",
        "    return w * age + b"
      ]
    },
    {
      "cell_type": "code",
      "execution_count": null,
      "id": "49e0cdcf",
      "metadata": {
        "id": "49e0cdcf"
      },
      "outputs": [],
      "source": [
        "def try_parameters(df, w, b):\n",
        "    ages = df.age\n",
        "    target = df.charges\n",
        "\n",
        "    estimated_charges = estimate_charges(ages, w, b)\n",
        "\n",
        "    plt.plot(ages, estimated_charges, 'r', alpha=0.9);\n",
        "    plt.scatter(ages, target, s=8,alpha=0.8);\n",
        "    plt.xlabel('Age');\n",
        "    plt.ylabel('Charges')\n",
        "    plt.legend(['Estimate', 'Actual']);"
      ]
    },
    {
      "cell_type": "code",
      "execution_count": null,
      "id": "mFtygW-IWhkU",
      "metadata": {
        "id": "mFtygW-IWhkU"
      },
      "outputs": [],
      "source": []
    },
    {
      "cell_type": "markdown",
      "id": "3d1cf458",
      "metadata": {
        "id": "3d1cf458"
      },
      "source": [
        "**Завдання 6**: Напишіть фукнцію для обчислення root mean squared error згідно з формулою цієї метрики точності моделі з використанням `numpy`.\n",
        "\n",
        "Обчисліть RMSE для тих пар пареметрів, які Ви спробували в завданні 5.\n",
        "\n",
        "Яке найнижче значення втрат ви зможете досягти? Чи можете ви придумати загальну стратегію для знаходження кращих значень $w$ та $b$ методом проб та помилок?"
      ]
    },
    {
      "cell_type": "code",
      "execution_count": null,
      "id": "9h-lCkvuWi4L",
      "metadata": {
        "id": "9h-lCkvuWi4L"
      },
      "outputs": [],
      "source": []
    }
  ],
  "metadata": {
    "colab": {
      "provenance": []
    },
    "kernelspec": {
      "display_name": "Python 3 (ipykernel)",
      "language": "python",
      "name": "python3"
    },
    "language_info": {
      "codemirror_mode": {
        "name": "ipython",
        "version": 3
      },
      "file_extension": ".py",
      "mimetype": "text/x-python",
      "name": "python",
      "nbconvert_exporter": "python",
      "pygments_lexer": "ipython3",
      "version": "3.12.0"
    }
  },
  "nbformat": 4,
  "nbformat_minor": 5
}
