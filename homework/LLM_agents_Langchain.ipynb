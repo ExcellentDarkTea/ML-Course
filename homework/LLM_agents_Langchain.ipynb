{
  "cells": [
    {
      "cell_type": "markdown",
      "metadata": {
        "id": "RMalK_oYR-X_"
      },
      "source": [
        "\n",
        "### Завдання 1: Виклик LLM з базовим промптом\n",
        "\n",
        "Створіть можливість викликати LLM зі звичайним текстовим промптом.\n",
        "\n",
        "Промпт має дозвляти отримати інформацію простою мовою на певну тему. В цьому завданні ми хочемо дізнатись про тему \"Квантові обчислення\".\n",
        "\n",
        "Відповідь моделі повинна містити визначення, ключові переваги та поточні дослідження в цій галузі.\n",
        "\n",
        "Обмежте відповідь до 200 символів і пропишіть в промпті аби відповідь була короткою (це зекономить Вам час і гроші на згенеровані токени).\n",
        "\n",
        "В якості LLM можна скористатись як моделлю з HugginFace (рекомендую Mistral), так і ChatGPT4 або ChatGPT3. В обох випадках треба імпортувати потрібну \"обгортку\" (тобто клас, який дозволить ініціювати модель) з LangChain для виклику LLM за API, а також зчитати особистий токен з файла, наприклад, `creds.json`, який розміщений у Вас локально і Ви НЕ здаєте його в ДЗ і НЕ комітите в git 😏\n",
        "\n",
        "Встановіть своє значення температури на свій розсуд (тут немає правильного чи неправильного значення) і напишіть, чому ви обрали саме таке значення для цього завдання.  \n",
        "\n",
        "Запити можна робити як українською, так і англійською - орієнтуйтесь на те, де і чи хочете ви потім лишити цей проєкт і відповідна яка мова буде пасувати більше. В розвʼязках промпти - українською."
      ]
    },
    {
      "cell_type": "code",
      "execution_count": 1,
      "metadata": {
        "id": "vT1ICe74cAUS"
      },
      "outputs": [],
      "source": [
        "# !pip -q install langchain langchain_openai huggingface_hub openai"
      ]
    },
    {
      "cell_type": "code",
      "execution_count": 2,
      "metadata": {},
      "outputs": [],
      "source": [
        "# ! pip install -q langchain-huggingface"
      ]
    },
    {
      "cell_type": "markdown",
      "metadata": {},
      "source": [
        "Quantum computing"
      ]
    },
    {
      "cell_type": "code",
      "execution_count": 3,
      "metadata": {},
      "outputs": [],
      "source": [
        "import json\n",
        "import os\n",
        "\n",
        "with open('creds.json') as file:\n",
        "  creds = json.load(file)\n",
        "\n",
        "os.environ[\"HF_TOKEN\"] = creds['HUGGINGFACEHUB_API_TOKEN']"
      ]
    },
    {
      "cell_type": "code",
      "execution_count": 4,
      "metadata": {},
      "outputs": [
        {
          "name": "stderr",
          "output_type": "stream",
          "text": [
            "d:\\Programs\\anaconda\\envs\\ml_course\\Lib\\site-packages\\tqdm\\auto.py:21: TqdmWarning: IProgress not found. Please update jupyter and ipywidgets. See https://ipywidgets.readthedocs.io/en/stable/user_install.html\n",
            "  from .autonotebook import tqdm as notebook_tqdm\n",
            "Note: Environment variable`HF_TOKEN` is set and is the current active token independently from the token you've just configured.\n"
          ]
        }
      ],
      "source": [
        "\n",
        "from langchain_huggingface import HuggingFaceEndpoint\n",
        "overal_temperature = 0.2\n",
        "mistral = HuggingFaceEndpoint(\n",
        "    repo_id=\"mistralai/Mistral-7B-Instruct-v0.2\",\n",
        "    temperature=overal_temperature,\n",
        "    max_new_tokens=200\n",
        ")"
      ]
    },
    {
      "cell_type": "code",
      "execution_count": 5,
      "metadata": {},
      "outputs": [],
      "source": [
        "request = \"Explain quantum computing in a way that anyone can understand, even without a technical background.\""
      ]
    },
    {
      "cell_type": "code",
      "execution_count": 6,
      "metadata": {},
      "outputs": [
        {
          "name": "stdout",
          "output_type": "stream",
          "text": [
            "\n",
            "\n",
            "Quantum computing is a new way to process information using the strange rules of quantum mechanics, which is a branch of physics that describes the behavior of very small things like atoms and subatomic particles.\n",
            "\n",
            "In classical computing, which is what we use in our everyday computers, information is processed using bits, which are like tiny switches that can be either on or off, represented by a 0 or 1. Quantum computing, on the other hand, uses quantum bits, or qubits, which can exist in multiple states at once, like a light bulb that can be on, off, or both on and off at the same time.\n",
            "\n",
            "This property of qubits, called superposition, allows quantum computers to perform certain calculations much faster than classical computers. For example, they can quickly find the solution to complex mathematical problems that would take classical computers an impractically long time to solve.\n",
            "\n",
            "Another important property of qubits is entanglement,\n"
          ]
        },
        {
          "name": "stderr",
          "output_type": "stream",
          "text": [
            "d:\\Programs\\anaconda\\envs\\ml_course\\Lib\\site-packages\\huggingface_hub\\utils\\_deprecation.py:131: FutureWarning: 'post' (from 'huggingface_hub.inference._client') is deprecated and will be removed from version '0.31.0'. Making direct POST requests to the inference server is not supported anymore. Please use task methods instead (e.g. `InferenceClient.chat_completion`). If your use case is not supported, please open an issue in https://github.com/huggingface/huggingface_hub.\n",
            "  warnings.warn(warning_message, FutureWarning)\n"
          ]
        }
      ],
      "source": [
        "print(mistral.invoke(request))"
      ]
    },
    {
      "cell_type": "markdown",
      "metadata": {
        "id": "UiIzV0UIS0GA"
      },
      "source": [
        "### Завдання 2: Створення параметризованого промпта для генерації тексту\n",
        "Тепер ми хочемо оновити попередній фукнціонал так, аби в промпт ми могли передавати тему як параметр. Для цього скористайтесь `PromptTemplate` з `langchain` і реалізуйте параметризований промпт та виклик моделі з ним.\n",
        "\n",
        "Запустіть оновлений функціонал (промпт + модел) для пояснень про теми\n",
        "- \"Баєсівські методи в машинному навчанні\"\n",
        "- \"Трансформери в машинному навчанні\"\n",
        "- \"Explainable AI\"\n",
        "\n",
        "Виведіть результати відпрацювання моделі на екран."
      ]
    },
    {
      "cell_type": "code",
      "execution_count": 7,
      "metadata": {
        "id": "kcg7EfdNcBDq"
      },
      "outputs": [],
      "source": [
        "from langchain.prompts import PromptTemplate"
      ]
    },
    {
      "cell_type": "code",
      "execution_count": 8,
      "metadata": {},
      "outputs": [
        {
          "name": "stderr",
          "output_type": "stream",
          "text": [
            "d:\\Programs\\anaconda\\envs\\ml_course\\Lib\\site-packages\\huggingface_hub\\utils\\_deprecation.py:131: FutureWarning: 'post' (from 'huggingface_hub.inference._client') is deprecated and will be removed from version '0.31.0'. Making direct POST requests to the inference server is not supported anymore. Please use task methods instead (e.g. `InferenceClient.chat_completion`). If your use case is not supported, please open an issue in https://github.com/huggingface/huggingface_hub.\n",
            "  warnings.warn(warning_message, FutureWarning)\n"
          ]
        },
        {
          "name": "stdout",
          "output_type": "stream",
          "text": [
            "\n",
            "CURRENT TOPIC IS:  Bayesian methods in machine learning\n",
            "\n",
            "\n",
            "Bayesian methods in machine learning are a way to make predictions or find patterns in data using probabilities. Imagine you have a box with different colored balls, and you want to know what percentage of each color is in the box without looking inside. You can make an educated guess based on the information you have, such as the colors of the balls you've seen before or the total number of balls.\n",
            "\n",
            "In machine learning, we have data instead of balls, and we want to make predictions or find patterns. Bayesian methods allow us to update our beliefs or probabilities about the underlying patterns based on new data.\n",
            "\n",
            "Let's say we have a dataset of emails, and we want to know if an email is spam or not. We can start with some initial beliefs or priors about the probability of an email being spam or not. As we receive more data, we can update our beliefs based on the new information.\n",
            "\n",
            "For example, if we\n",
            "\n",
            "CURRENT TOPIC IS:  Transformers in machine learning\n"
          ]
        },
        {
          "name": "stderr",
          "output_type": "stream",
          "text": [
            "d:\\Programs\\anaconda\\envs\\ml_course\\Lib\\site-packages\\huggingface_hub\\utils\\_deprecation.py:131: FutureWarning: 'post' (from 'huggingface_hub.inference._client') is deprecated and will be removed from version '0.31.0'. Making direct POST requests to the inference server is not supported anymore. Please use task methods instead (e.g. `InferenceClient.chat_completion`). If your use case is not supported, please open an issue in https://github.com/huggingface/huggingface_hub.\n",
            "  warnings.warn(warning_message, FutureWarning)\n"
          ]
        },
        {
          "name": "stdout",
          "output_type": "stream",
          "text": [
            "\n",
            "\n",
            "Transformers are a type of machine learning model that can be thought of as a super-powered version of autocorrelation, a statistical technique used in signal processing to understand the relationship between a signal and a lagged version of itself. In simpler terms, autocorrelation helps us find patterns in data by comparing it to a slightly delayed version of itself.\n",
            "\n",
            "Transformers take this idea and apply it to understanding the relationships between words in a sentence or documents in a collection. Instead of comparing words to a lagged version of themselves, Transformers compare words to all other words in the context, allowing the model to understand the meaning and relationships between words in a more nuanced way.\n",
            "\n",
            "Imagine a large party where everyone is talking at once. Each person's conversation is a sentence, and the overall noise is the collection of all the sentences. Autocorrelation would be like trying to understand one person's conversation by listening to their own words repeated\n",
            "\n",
            "CURRENT TOPIC IS:  Explainable AI\n",
            "\n",
            "\n",
            "Explainable AI (XAI) refers to artificial intelligence (AI) systems that can provide clear and understandable explanations for their decision-making processes. In simpler terms, it's AI that can tell you why it did what it did.\n",
            "\n",
            "Imagine you have a doctor who uses an AI system to help diagnose diseases based on symptoms. With a non-explainable AI, the doctor would just get a diagnosis without any explanation. But with an explainable AI, the doctor would not only get the diagnosis but also receive a detailed explanation of why the AI reached that conclusion based on the patient's symptoms.\n",
            "\n",
            "XAI is important because, as AI systems become more complex, it becomes increasingly difficult for humans to understand why they are making certain decisions. This lack of transparency can lead to mistrust and misunderstanding. Explainable AI helps bridge this gap by providing clear and understandable explanations, making it easier for humans to trust\n"
          ]
        },
        {
          "name": "stderr",
          "output_type": "stream",
          "text": [
            "d:\\Programs\\anaconda\\envs\\ml_course\\Lib\\site-packages\\huggingface_hub\\utils\\_deprecation.py:131: FutureWarning: 'post' (from 'huggingface_hub.inference._client') is deprecated and will be removed from version '0.31.0'. Making direct POST requests to the inference server is not supported anymore. Please use task methods instead (e.g. `InferenceClient.chat_completion`). If your use case is not supported, please open an issue in https://github.com/huggingface/huggingface_hub.\n",
            "  warnings.warn(warning_message, FutureWarning)\n"
          ]
        }
      ],
      "source": [
        "prompt = PromptTemplate(\n",
        "    input_variables=[\"topic\"],\n",
        "    template=\"Explain {topic} in a way that anyone can understand, even without a technical background, but precise enough for a technical audience.\"\n",
        ")\n",
        "\n",
        "topic_list = ['Bayesian methods in machine learning', 'Transformers in machine learning', 'Explainable AI']\n",
        "\n",
        "for topic in topic_list:\n",
        "    print(\"\\nCURRENT TOPIC IS: \", topic)\n",
        "    print(mistral.invoke(prompt.format(topic=topic)))"
      ]
    },
    {
      "cell_type": "code",
      "execution_count": 9,
      "metadata": {},
      "outputs": [
        {
          "name": "stdout",
          "output_type": "stream",
          "text": [
            "\n",
            "\n",
            "Bayesian methods in machine learning are a way to make predictions or find patterns in data using probabilities. Imagine you have a box with different colored balls, and you want to know what percentage of each color is in the box without looking inside. You can make an educated guess based on the information you have, such as the colors of the balls you've seen before or the total number of balls.\n",
            "\n",
            "In machine learning, we have data instead of balls, and we want to make predictions or find patterns. Bayesian methods allow us to update our beliefs or probabilities about the underlying patterns based on new data.\n",
            "\n",
            "Let's say we have a dataset of emails, and we want to know if an email is spam or not. We can start with some initial beliefs or priors about the probability of an email being spam or not. As we receive more data, we can update our beliefs based on the new information.\n",
            "\n",
            "For example, if we\n"
          ]
        },
        {
          "name": "stderr",
          "output_type": "stream",
          "text": [
            "d:\\Programs\\anaconda\\envs\\ml_course\\Lib\\site-packages\\huggingface_hub\\utils\\_deprecation.py:131: FutureWarning: 'post' (from 'huggingface_hub.inference._client') is deprecated and will be removed from version '0.31.0'. Making direct POST requests to the inference server is not supported anymore. Please use task methods instead (e.g. `InferenceClient.chat_completion`). If your use case is not supported, please open an issue in https://github.com/huggingface/huggingface_hub.\n",
            "  warnings.warn(warning_message, FutureWarning)\n"
          ]
        }
      ],
      "source": [
        "chain = prompt | mistral\n",
        "\n",
        "print(chain.invoke('Bayesian methods in machine learning'))"
      ]
    },
    {
      "cell_type": "markdown",
      "metadata": {
        "id": "m9UsL2gXSe-3"
      },
      "source": [
        "\n",
        "\n",
        "### Завдання 3: Використання агента для автоматизації процесів\n",
        "Створіть агента, який допоможе автоматично шукати інформацію про останні наукові публікації в різних галузях. Наприклад, агент має знайти 5 останніх публікацій на тему штучного інтелекту.\n",
        "\n",
        "**Кроки:**\n",
        "1. Налаштуйте агента типу ReAct в LangChain для виконання автоматичних запитів.\n",
        "2. Створіть промпт, який спрямовує агента шукати інформацію в інтернеті або в базах даних наукових публікацій.\n",
        "3. Агент повинен видати список публікацій, кожна з яких містить назву, авторів і короткий опис.\n",
        "\n",
        "Для взаємодії з пошуком там необхідно створити `Tool`. В лекції ми використовували `serpapi`. Можна продовжити користуватись ним, або обрати інше АРІ для пошуку (вони в тому числі є безкоштовні). Перелік різних АРІ, доступних в langchain, і орієнтир по вартості запитів можна знайти в окремому документі [тут](https://hannapylieva.notion.site/API-12994835849480a69b2adf2b8441cbb3?pvs=4).\n",
        "\n",
        "Лишаю також нижче приклад використання одного з безкоштовних пошукових АРІ - DuckDuckGo (не потребує створення токена!)  - можливо він вам сподобається :)\n"
      ]
    },
    {
      "cell_type": "code",
      "execution_count": 10,
      "metadata": {},
      "outputs": [],
      "source": [
        "# !pip install -q google-search-results langchain-community langchain_experimental"
      ]
    },
    {
      "cell_type": "code",
      "execution_count": 11,
      "metadata": {
        "colab": {
          "base_uri": "https://localhost:8080/"
        },
        "id": "Jzj4PHP9XwH-",
        "outputId": "08118bad-e4c6-4873-feb0-e3890dc5c6a4"
      },
      "outputs": [],
      "source": [
        "# !pip install -q langchain_community duckduckgo_search"
      ]
    },
    {
      "cell_type": "code",
      "execution_count": 26,
      "metadata": {},
      "outputs": [],
      "source": [
        "from langchain import hub\n",
        "from langchain.agents import load_tools\n",
        "from langchain.agents import Tool, AgentExecutor, AgentType, create_react_agent, initialize_agent\n",
        "from langchain.chains import LLMMathChain\n",
        "from langchain_experimental.utilities import PythonREPL\n",
        "\n",
        "from langchain_community.tools.google_scholar import GoogleScholarQueryRun\n",
        "from langchain_community.utilities.google_scholar import GoogleScholarAPIWrapper"
      ]
    },
    {
      "cell_type": "code",
      "execution_count": 27,
      "metadata": {},
      "outputs": [],
      "source": [
        "# ! pip install arxiv"
      ]
    },
    {
      "cell_type": "code",
      "execution_count": 28,
      "metadata": {},
      "outputs": [
        {
          "name": "stderr",
          "output_type": "stream",
          "text": [
            "Note: Environment variable`HF_TOKEN` is set and is the current active token independently from the token you've just configured.\n"
          ]
        }
      ],
      "source": [
        "overal_temperature = 0.5\n",
        "\n",
        "gemma = HuggingFaceEndpoint(\n",
        "    repo_id=\"google/gemma-7b\",\n",
        "    temperature=overal_temperature,\n",
        "    max_new_tokens=200\n",
        ")"
      ]
    },
    {
      "cell_type": "code",
      "execution_count": 40,
      "metadata": {},
      "outputs": [],
      "source": [
        "os.environ[\"SERPAPI_API_KEY\"] = creds[\"SERP_API_KEY\"]\n",
        "os.environ[\"SERP_API_KEY\"] = \"SERP_API_KEY\""
      ]
    },
    {
      "cell_type": "code",
      "execution_count": null,
      "metadata": {
        "colab": {
          "base_uri": "https://localhost:8080/",
          "height": 139
        },
        "id": "p56AZ_SnXvTs",
        "outputId": "fcee82cc-03d7-4402-a243-0033596a9ea9"
      },
      "outputs": [
        {
          "name": "stderr",
          "output_type": "stream",
          "text": [
            "d:\\Programs\\anaconda\\envs\\ml_course\\Lib\\site-packages\\langsmith\\client.py:277: LangSmithMissingAPIKeyWarning: API key must be provided when using hosted LangSmith API\n",
            "  warnings.warn(\n"
          ]
        }
      ],
      "source": [
        "from langchain_community.tools import DuckDuckGoSearchRun\n",
        "\n",
        "# search = DuckDuckGoSearchRun()\n",
        "\n",
        "# tools = load_tools([\"ddg-search\"])\n",
        "# tools = load_tools([\"serpapi\"], llm=gemma)\n",
        "# tools.append(load_tools([\"arxiv\"]))\n",
        "# tools.append(load_tools([\"google-scholar\"]))\n",
        "# tools = load_tools([\"arxiv\"])\n",
        "# tool = GoogleScholarQueryRun(api_wrapper=GoogleScholarAPIWrapper())\n",
        "# tools = load_tools([\"google-scholar\"])\n",
        "prompt = hub.pull(\"hwchase17/react\")"
      ]
    },
    {
      "cell_type": "code",
      "execution_count": 97,
      "metadata": {},
      "outputs": [],
      "source": [
        "from langchain_core.tools import Tool\n",
        "\n",
        "from langchain_core.tools import Tool\n",
        "from langchain.agents import load_tools\n",
        "\n",
        "# Load tools\n",
        "arxiv_tool = load_tools([\"arxiv\"])[0]  # Extract the first tool from the list\n",
        "# google_scholar_tool = load_tools([\"google-scholar\"])[0]  # Extract the first tool from the list\n",
        "\n",
        "# toolGS = GoogleScholarQueryRun(api_wrapper=GoogleScholarAPIWrapper())\n",
        "# toolGS.run(\"LLM Models\")\n",
        "# tools.append(Tool(name=\"google-scholar\", description=\"Use it to find scientific publications in Google Scholar\", func=toolGS.run))\n",
        "# Define tools with callable functions\n",
        "\n",
        "from langchain_community.utilities.arxiv import ArxivAPIWrapper\n",
        "arxiv = ArxivAPIWrapper(\n",
        "    top_k_results = 3,\n",
        "    ARXIV_MAX_QUERY_LENGTH = 200,\n",
        "    load_max_docs = 3,\n",
        "    load_all_available_meta = False,\n",
        "    doc_content_chars_max = 400\n",
        ")\n",
        "\n",
        "\n",
        "tools = [\n",
        "    Tool(name=\"arxiv\", description=\"Use it to find scientific publications in arXiv, beforehead provide ONLY topic name\", func=arxiv.run),\n",
        "    #extract topic tool\n",
        "    Tool(name=\"ddg-search\", description=\"Use it to find scientific publications in DuckDuckGo\", func=DuckDuckGoSearchRun().run),\n",
        "    # Tool(name=\"google-scholar\", description=\"Use it to find scientific publications in Google Scholar\", func=toolGS.run),\n",
        "]"
      ]
    },
    {
      "cell_type": "code",
      "execution_count": 98,
      "metadata": {},
      "outputs": [
        {
          "name": "stdout",
          "output_type": "stream",
          "text": [
            "Published: 2024-06-12\n",
            "Title: Explainable AI improves task performance in human-AI collaboration\n",
            "Authors: Julian Senoner, Simon Schallmoser, Bernhard Kratzwald, Stefan Feuerriegel, Torbjørn Netland\n",
            "Summary: Artificial intelligence (AI) provides considerable opportunities to assist\n",
            "human work. However, one crucial challenge of human-AI collaboration is that\n",
            "many AI algorithms operate in a black-box \n"
          ]
        }
      ],
      "source": [
        "print(arxiv.run(\"Explainable AI\"))"
      ]
    },
    {
      "cell_type": "code",
      "execution_count": 99,
      "metadata": {},
      "outputs": [
        {
          "data": {
            "text/plain": [
              "[Tool(name='arxiv', description='Use it to find scientific publications in arXiv, beforehead provide ONLY topic name', func=<bound method ArxivAPIWrapper.run of ArxivAPIWrapper(arxiv_search=<class 'arxiv.Search'>, arxiv_exceptions=(<class 'arxiv.ArxivError'>, <class 'arxiv.UnexpectedEmptyPageError'>, <class 'arxiv.HTTPError'>), top_k_results=3, ARXIV_MAX_QUERY_LENGTH=200, continue_on_failure=False, load_max_docs=3, load_all_available_meta=False, doc_content_chars_max=400)>),\n",
              " Tool(name='ddg-search', description='Use it to find scientific publications in DuckDuckGo', func=<bound method BaseTool.run of DuckDuckGoSearchRun(api_wrapper=DuckDuckGoSearchAPIWrapper(region='wt-wt', safesearch='moderate', time='y', max_results=5, backend='auto', source='text'))>)]"
            ]
          },
          "execution_count": 99,
          "metadata": {},
          "output_type": "execute_result"
        }
      ],
      "source": [
        "tools"
      ]
    },
    {
      "cell_type": "code",
      "execution_count": 100,
      "metadata": {
        "id": "60jZEitmcCiP"
      },
      "outputs": [],
      "source": [
        "agent = create_react_agent(gemma, tools, prompt)\n",
        "agent_executor = AgentExecutor(agent=agent, tools=tools, verbose=True)"
      ]
    },
    {
      "cell_type": "code",
      "execution_count": 101,
      "metadata": {},
      "outputs": [
        {
          "data": {
            "text/plain": [
              "ArxivQueryRun(api_wrapper=ArxivAPIWrapper(arxiv_search=<class 'arxiv.Search'>, arxiv_exceptions=(<class 'arxiv.ArxivError'>, <class 'arxiv.UnexpectedEmptyPageError'>, <class 'arxiv.HTTPError'>), top_k_results=3, ARXIV_MAX_QUERY_LENGTH=300, continue_on_failure=False, load_max_docs=100, load_all_available_meta=False, doc_content_chars_max=4000))"
            ]
          },
          "execution_count": 101,
          "metadata": {},
          "output_type": "execute_result"
        }
      ],
      "source": [
        "arxiv_tool"
      ]
    },
    {
      "cell_type": "code",
      "execution_count": 102,
      "metadata": {},
      "outputs": [],
      "source": [
        "# print(prompt.template)"
      ]
    },
    {
      "cell_type": "code",
      "execution_count": 103,
      "metadata": {},
      "outputs": [],
      "source": [
        "question =\"Search for scientific publications on the topic of 'Explainable AI' in online databases and academic sources. Provide 3 publication on this topic. Provide a list of publications, including the title, authors, and a brief summary of each paper. Provide any related publication, first which you found\""
      ]
    },
    {
      "cell_type": "code",
      "execution_count": 104,
      "metadata": {},
      "outputs": [
        {
          "data": {
            "text/plain": [
              "'SERP_API_KEY'"
            ]
          },
          "execution_count": 104,
          "metadata": {},
          "output_type": "execute_result"
        }
      ],
      "source": [
        "os.environ[\"SERP_API_KEY\"]"
      ]
    },
    {
      "cell_type": "code",
      "execution_count": 106,
      "metadata": {},
      "outputs": [
        {
          "name": "stdout",
          "output_type": "stream",
          "text": [
            "\n",
            "\n",
            "\u001b[1m> Entering new AgentExecutor chain...\u001b[0m\n",
            "\u001b[32;1m\u001b[1;3m I think I should use the arxiv tool to find scientific publications on the topic of 'Explainable AI' in online databases and academic sources. Provide 3 publication on this topic. Provide a list of publications, including the title, authors, and a brief summary of each paper. Provide any related publication, first which you found\n",
            "Action: arxiv\n",
            "Action Input: \"Explainable AI\"\n",
            "Observation\u001b[0m"
          ]
        },
        {
          "name": "stderr",
          "output_type": "stream",
          "text": [
            "d:\\Programs\\anaconda\\envs\\ml_course\\Lib\\site-packages\\huggingface_hub\\inference\\_client.py:2252: FutureWarning: `stop_sequences` is a deprecated argument for `text_generation` task and will be removed in version '0.28.0'. Use `stop` instead.\n",
            "  warnings.warn(\n"
          ]
        },
        {
          "name": "stdout",
          "output_type": "stream",
          "text": [
            "\u001b[36;1m\u001b[1;3mNo good Arxiv Result was found\u001b[0m\u001b[32;1m\u001b[1;3m\n",
            "Final Answer:<eos>\u001b[0m\n",
            "\n",
            "\u001b[1m> Finished chain.\u001b[0m\n"
          ]
        },
        {
          "name": "stderr",
          "output_type": "stream",
          "text": [
            "d:\\Programs\\anaconda\\envs\\ml_course\\Lib\\site-packages\\huggingface_hub\\inference\\_client.py:2252: FutureWarning: `stop_sequences` is a deprecated argument for `text_generation` task and will be removed in version '0.28.0'. Use `stop` instead.\n",
            "  warnings.warn(\n"
          ]
        },
        {
          "data": {
            "text/plain": [
              "{'input': \"Search for scientific publications on the topic of 'Explainable AI' in online databases and academic sources. Provide 3 publication on this topic. Provide a list of publications, including the title, authors, and a brief summary of each paper. Provide any related publication, first which you found\",\n",
              " 'output': '<eos>'}"
            ]
          },
          "execution_count": 106,
          "metadata": {},
          "output_type": "execute_result"
        }
      ],
      "source": [
        "agent_executor.invoke({'input': question})"
      ]
    },
    {
      "cell_type": "code",
      "execution_count": null,
      "metadata": {},
      "outputs": [],
      "source": [
        "from langchain.tools import Tool\n",
        "from langchain.utilities import ArxivAPIWrapper\n",
        "from langchain.agents import create_react_agent, AgentExecutor\n",
        "from langchain.llms import HuggingFaceHub\n",
        "from langchain.prompts import PromptTemplate\n",
        "\n",
        "# Initialize Arxiv Wrapper\n",
        "arxiv = ArxivAPIWrapper(\n",
        "    top_k_results=3,\n",
        "    ARXIV_MAX_QUERY_LENGTH=400,\n",
        "    load_max_docs=3,\n",
        "    load_all_available_meta=False,\n",
        "    doc_content_chars_max=4000\n",
        ")\n",
        "\n",
        "# Define a Tool for Arxiv search\n",
        "arxiv_tool = Tool(\n",
        "    name=\"Arxiv Search\",\n",
        "    func=arxiv.run,\n",
        "    description=\"Searches for scientific papers on Arxiv based on a query. \"\n",
        "                \"Provide a research topic or keywords to retrieve relevant papers.\"\n",
        "                \"As Output, Provide Only list of 2 publications, including the title, authors, and a brief summary of each paper.\"\n",
        ")\n",
        "\n",
        "# Define your LLM (Example: Gemma from Hugging Face)\n",
        "gemma = HuggingFaceEndpoint(\n",
        "    repo_id=\"google/gemma-7b\",\n",
        "    temperature=0.1,\n",
        "    max_new_tokens=200\n",
        ")\n",
        "\n",
        "\n",
        "from langchain.prompts import PromptTemplate\n",
        "\n",
        "from langchain.prompts import PromptTemplate\n",
        "\n",
        "prompt = PromptTemplate.from_template(\n",
        "    \"\"\"\n",
        "    You are an AI agent that answers user queries using available tools. As Output, Provide Only list of 2 publications, including the title, authors, and a brief summary of each paper.\n",
        "      \n",
        "    Available tools:\n",
        "    {tools}\n",
        "\n",
        "    Tool names: {tool_names}\n",
        "\n",
        "    User query: {input}\n",
        "\n",
        "    Thought: Let's reason step by step.\n",
        "    {agent_scratchpad}\n",
        "    \"\"\"\n",
        ")\n",
        "\n",
        "\n",
        "\n",
        "# Create the agent with the correct prompt\n",
        "tools = [arxiv_tool]\n",
        "agent = create_react_agent(gemma, tools, prompt)\n",
        "# agent = create_react_agent(llm=gemma, tools=tools, pprompt_template)\n",
        "# Create agent executor\n",
        "# agent_executor = AgentExecutor(agent=agent, tools=tools, verbose=True)\n",
        "agent_executor = AgentExecutor(\n",
        "    agent=agent,\n",
        "    tools=tools,\n",
        "    verbose=True,\n",
        "    handle_parsing_errors=True  # Allow retrying on parsing errors\n",
        ")\n",
        "\n",
        "# Run the agent with a query\n",
        "query = \"Explainable AI\"\n",
        "response = agent_executor.invoke({\"input\": query})\n",
        "print(response)\n"
      ]
    },
    {
      "cell_type": "code",
      "execution_count": 124,
      "metadata": {},
      "outputs": [
        {
          "name": "stdout",
          "output_type": "stream",
          "text": [
            "\n",
            "\n",
            "\u001b[1m> Entering new AgentExecutor chain...\u001b[0m\n"
          ]
        },
        {
          "name": "stderr",
          "output_type": "stream",
          "text": [
            "d:\\Programs\\anaconda\\envs\\ml_course\\Lib\\site-packages\\huggingface_hub\\inference\\_client.py:2252: FutureWarning: `stop_sequences` is a deprecated argument for `text_generation` task and will be removed in version '0.28.0'. Use `stop` instead.\n",
            "  warnings.warn(\n"
          ]
        },
        {
          "name": "stdout",
          "output_type": "stream",
          "text": [
            "\u001b[32;1m\u001b[1;3m(\"paper authors\" - \"Author names\"),\n",
            "    (\"paper summary\" - \"Summary of the research paper\")\n",
            "\n",
            "    Paper title: Explainable AI: A Survey\n",
            "    Paper authors: Sameera Ekanayake, S. C. Abeyratne, R. Abeyratne, M. M. M. R. M. Madushanka, M. M. M. M. Madushanka\n",
            "    Paper summary: Explainable AI (XAI) is a research area that aims to provide explanations for the decisions made by AI systems. The need for XAI has increased due to the growing use of AI systems in critical decision-making domains such as healthcare and finance. However, the field of XAI is relatively new, and there is a lack of a comprehensive survey of the research in this area. This paper provides a comprehensive survey of the research in XAI, covering topics such as explainability methods, evaluation metrics, and applications. The paper also\u001b[0mInvalid Format: Missing 'Action:' after 'Thought:'"
          ]
        },
        {
          "name": "stderr",
          "output_type": "stream",
          "text": [
            "d:\\Programs\\anaconda\\envs\\ml_course\\Lib\\site-packages\\huggingface_hub\\inference\\_client.py:2252: FutureWarning: `stop_sequences` is a deprecated argument for `text_generation` task and will be removed in version '0.28.0'. Use `stop` instead.\n",
            "  warnings.warn(\n"
          ]
        },
        {
          "name": "stdout",
          "output_type": "stream",
          "text": [
            "\u001b[32;1m\u001b[1;3m(\"paper authors\" - \"Author names\"),\n",
            "    (\"paper summary\" - \"Summary of the research paper\")\n",
            "    \n",
            "Observation\u001b[0mInvalid Format: Missing 'Action:' after 'Thought:'"
          ]
        },
        {
          "name": "stderr",
          "output_type": "stream",
          "text": [
            "d:\\Programs\\anaconda\\envs\\ml_course\\Lib\\site-packages\\huggingface_hub\\inference\\_client.py:2252: FutureWarning: `stop_sequences` is a deprecated argument for `text_generation` task and will be removed in version '0.28.0'. Use `stop` instead.\n",
            "  warnings.warn(\n"
          ]
        },
        {
          "name": "stdout",
          "output_type": "stream",
          "text": [
            "\u001b[32;1m\u001b[1;3m(\"paper authors\" - \"Author names\"),\n",
            "    (\"paper summary\" - \"Summary of the research paper\")\n",
            "    \n",
            "    \n",
            "Observation\u001b[0mInvalid Format: Missing 'Action:' after 'Thought:'"
          ]
        },
        {
          "name": "stderr",
          "output_type": "stream",
          "text": [
            "d:\\Programs\\anaconda\\envs\\ml_course\\Lib\\site-packages\\huggingface_hub\\inference\\_client.py:2252: FutureWarning: `stop_sequences` is a deprecated argument for `text_generation` task and will be removed in version '0.28.0'. Use `stop` instead.\n",
            "  warnings.warn(\n"
          ]
        },
        {
          "name": "stdout",
          "output_type": "stream",
          "text": [
            "\u001b[32;1m\u001b[1;3m(\"paper authors\" - \"Author names\"),\n",
            "    (\"paper summary\" - \"Summary of the research paper\")\n",
            "    \n",
            "    \n",
            "Observation\u001b[0mInvalid Format: Missing 'Action:' after 'Thought:'"
          ]
        },
        {
          "name": "stderr",
          "output_type": "stream",
          "text": [
            "d:\\Programs\\anaconda\\envs\\ml_course\\Lib\\site-packages\\huggingface_hub\\inference\\_client.py:2252: FutureWarning: `stop_sequences` is a deprecated argument for `text_generation` task and will be removed in version '0.28.0'. Use `stop` instead.\n",
            "  warnings.warn(\n"
          ]
        },
        {
          "name": "stdout",
          "output_type": "stream",
          "text": [
            "\u001b[32;1m\u001b[1;3m(\"paper authors\" - \"Author names\"),\n",
            "    (\"paper summary\" - \"Summary of the research paper\")\n",
            "    \n",
            "Observation\u001b[0mInvalid Format: Missing 'Action:' after 'Thought:'"
          ]
        },
        {
          "name": "stderr",
          "output_type": "stream",
          "text": [
            "d:\\Programs\\anaconda\\envs\\ml_course\\Lib\\site-packages\\huggingface_hub\\inference\\_client.py:2252: FutureWarning: `stop_sequences` is a deprecated argument for `text_generation` task and will be removed in version '0.28.0'. Use `stop` instead.\n",
            "  warnings.warn(\n"
          ]
        },
        {
          "name": "stdout",
          "output_type": "stream",
          "text": [
            "\u001b[32;1m\u001b[1;3m(\"paper authors\" - \"Author names\"),\n",
            "    (\"paper summary\" - \"Summary of the research paper\")\n",
            "    \n",
            "Observation\u001b[0mInvalid Format: Missing 'Action:' after 'Thought:'"
          ]
        },
        {
          "name": "stderr",
          "output_type": "stream",
          "text": [
            "d:\\Programs\\anaconda\\envs\\ml_course\\Lib\\site-packages\\huggingface_hub\\inference\\_client.py:2252: FutureWarning: `stop_sequences` is a deprecated argument for `text_generation` task and will be removed in version '0.28.0'. Use `stop` instead.\n",
            "  warnings.warn(\n"
          ]
        },
        {
          "name": "stdout",
          "output_type": "stream",
          "text": [
            "\u001b[32;1m\u001b[1;3m(\"paper authors\" - \"Author names\"),\n",
            "    (\"paper summary\" - \"Summary of the research paper\")\n",
            "Observation\u001b[0mInvalid Format: Missing 'Action:' after 'Thought:'"
          ]
        },
        {
          "name": "stderr",
          "output_type": "stream",
          "text": [
            "d:\\Programs\\anaconda\\envs\\ml_course\\Lib\\site-packages\\huggingface_hub\\inference\\_client.py:2252: FutureWarning: `stop_sequences` is a deprecated argument for `text_generation` task and will be removed in version '0.28.0'. Use `stop` instead.\n",
            "  warnings.warn(\n"
          ]
        },
        {
          "name": "stdout",
          "output_type": "stream",
          "text": [
            "\u001b[32;1m\u001b[1;3m(\"paper authors\" - \"Author names\"),\n",
            "    (\"paper summary\" - \"Summary of the research paper\")\n",
            "    \n",
            "    \n",
            "Observation\u001b[0mInvalid Format: Missing 'Action:' after 'Thought:'"
          ]
        },
        {
          "name": "stderr",
          "output_type": "stream",
          "text": [
            "d:\\Programs\\anaconda\\envs\\ml_course\\Lib\\site-packages\\huggingface_hub\\inference\\_client.py:2252: FutureWarning: `stop_sequences` is a deprecated argument for `text_generation` task and will be removed in version '0.28.0'. Use `stop` instead.\n",
            "  warnings.warn(\n"
          ]
        },
        {
          "name": "stdout",
          "output_type": "stream",
          "text": [
            "\u001b[32;1m\u001b[1;3m(\"paper authors\" - \"Author names\"),\n",
            "    (\"paper summary\" - \"Summary of the research paper\")\n",
            "    \n",
            "    \n",
            "Observation\u001b[0mInvalid Format: Missing 'Action:' after 'Thought:'"
          ]
        },
        {
          "name": "stderr",
          "output_type": "stream",
          "text": [
            "d:\\Programs\\anaconda\\envs\\ml_course\\Lib\\site-packages\\huggingface_hub\\inference\\_client.py:2252: FutureWarning: `stop_sequences` is a deprecated argument for `text_generation` task and will be removed in version '0.28.0'. Use `stop` instead.\n",
            "  warnings.warn(\n"
          ]
        },
        {
          "name": "stdout",
          "output_type": "stream",
          "text": [
            "\u001b[32;1m\u001b[1;3m(\"paper authors\" - \"Author names\"),\n",
            "    (\"paper summary\" - \"Summary of the research paper\")\n",
            "    \n",
            "Observation\u001b[0mInvalid Format: Missing 'Action:' after 'Thought:'"
          ]
        },
        {
          "name": "stderr",
          "output_type": "stream",
          "text": [
            "d:\\Programs\\anaconda\\envs\\ml_course\\Lib\\site-packages\\huggingface_hub\\inference\\_client.py:2252: FutureWarning: `stop_sequences` is a deprecated argument for `text_generation` task and will be removed in version '0.28.0'. Use `stop` instead.\n",
            "  warnings.warn(\n"
          ]
        },
        {
          "name": "stdout",
          "output_type": "stream",
          "text": [
            "\u001b[32;1m\u001b[1;3m(\"paper authors\" - \"Author names\"),\n",
            "    (\"paper summary\" - \"Summary of the research paper\")\n",
            "    \n",
            "Observation\u001b[0mInvalid Format: Missing 'Action:' after 'Thought:'"
          ]
        },
        {
          "name": "stderr",
          "output_type": "stream",
          "text": [
            "d:\\Programs\\anaconda\\envs\\ml_course\\Lib\\site-packages\\huggingface_hub\\inference\\_client.py:2252: FutureWarning: `stop_sequences` is a deprecated argument for `text_generation` task and will be removed in version '0.28.0'. Use `stop` instead.\n",
            "  warnings.warn(\n"
          ]
        },
        {
          "name": "stdout",
          "output_type": "stream",
          "text": [
            "\u001b[32;1m\u001b[1;3m(\"paper authors\" - \"Author names\"),\n",
            "    (\"paper summary\" - \"Summary of the research paper\")\n",
            "    \n",
            "    \n",
            "Observation\u001b[0mInvalid Format: Missing 'Action:' after 'Thought:'"
          ]
        },
        {
          "name": "stderr",
          "output_type": "stream",
          "text": [
            "d:\\Programs\\anaconda\\envs\\ml_course\\Lib\\site-packages\\huggingface_hub\\inference\\_client.py:2252: FutureWarning: `stop_sequences` is a deprecated argument for `text_generation` task and will be removed in version '0.28.0'. Use `stop` instead.\n",
            "  warnings.warn(\n"
          ]
        },
        {
          "name": "stdout",
          "output_type": "stream",
          "text": [
            "\u001b[32;1m\u001b[1;3m(\"paper authors\" - \"Author names\"),\n",
            "    (\"paper summary\" - \"Summary of the research paper\")\n",
            "    \n",
            "    \n",
            "Observation\u001b[0mInvalid Format: Missing 'Action:' after 'Thought:'"
          ]
        },
        {
          "name": "stderr",
          "output_type": "stream",
          "text": [
            "d:\\Programs\\anaconda\\envs\\ml_course\\Lib\\site-packages\\huggingface_hub\\inference\\_client.py:2252: FutureWarning: `stop_sequences` is a deprecated argument for `text_generation` task and will be removed in version '0.28.0'. Use `stop` instead.\n",
            "  warnings.warn(\n"
          ]
        },
        {
          "name": "stdout",
          "output_type": "stream",
          "text": [
            "\u001b[32;1m\u001b[1;3m(\"paper authors\" - \"Author names\"),\n",
            "    (\"paper summary\" - \"Summary of the research paper\")\n",
            "    \n",
            "    \n",
            "Observation\u001b[0mInvalid Format: Missing 'Action:' after 'Thought:'"
          ]
        },
        {
          "name": "stderr",
          "output_type": "stream",
          "text": [
            "d:\\Programs\\anaconda\\envs\\ml_course\\Lib\\site-packages\\huggingface_hub\\inference\\_client.py:2252: FutureWarning: `stop_sequences` is a deprecated argument for `text_generation` task and will be removed in version '0.28.0'. Use `stop` instead.\n",
            "  warnings.warn(\n"
          ]
        },
        {
          "name": "stdout",
          "output_type": "stream",
          "text": [
            "\u001b[32;1m\u001b[1;3m(\"paper authors\" - \"Author names\"),\n",
            "    (\"paper summary\" - \"Summary of the research paper\")\n",
            "    \n",
            "Observation\u001b[0mInvalid Format: Missing 'Action:' after 'Thought:'\u001b[32;1m\u001b[1;3m\u001b[0m\n",
            "\n",
            "\u001b[1m> Finished chain.\u001b[0m\n",
            "{'input': 'Explainable AI', 'output': 'Agent stopped due to iteration limit or time limit.'}\n"
          ]
        }
      ],
      "source": [
        "from langchain.prompts import PromptTemplate\n",
        "from langchain.agents import create_react_agent, AgentExecutor\n",
        "\n",
        "\n",
        "# Define the prompt template with structured output format instructions\n",
        "# prompt_template = f\"\"\"\n",
        "# Find two research papers on 'Explainable AI'. Provide only a list of two publications with:\n",
        "# 1. **Title**\n",
        "# 2. **Authors**\n",
        "# 3. **Brief summary** of each paper.\n",
        "\n",
        "# Ensure the output follows this format:\n",
        "# (name=\"title\", description=\"Title of the research paper\"),\n",
        "#     (name=\"authors\", description=\"List of authors of the research paper\"),\n",
        "#     (name=\"summary\", description=\"Brief summary of the research paper\"),\n",
        "# \"\"\"\n",
        "prompt = PromptTemplate.from_template(\n",
        "    \"\"\"\n",
        "    You are an AI agent that answers user queries using available tools. \n",
        "    Available tools:\n",
        "    {tools}\n",
        "\n",
        "    Tool names: {tool_names}\n",
        "\n",
        "    User query: {input}\n",
        "\n",
        "    Thought: Let's reason step by step.\n",
        "    {agent_scratchpad}\n",
        "            Ensure the output follows this format and include name of the paper, authors and summary of the paper:\n",
        "(\"paper title\" - \"Title of the research paper\"),\n",
        "    \"\"\"\n",
        ")\n",
        "\n",
        "# Define a tool (Arxiv Search or any other search mechanism you'd like to use)\n",
        "class ArxivTool(Tool):\n",
        "    def __init__(self):\n",
        "        super().__init__(name=\"Arxiv Search\", func=self.arxiv_search, description=\"Search research papers on Arxiv\")\n",
        "        \n",
        "    def arxiv_search(self, query: str):\n",
        "        # This function simulates an arxiv search, you can connect it to actual Arxiv API\n",
        "        return \"Paper 1: Explainable AI: Concepts, Applications, and Challenges. Paper 2: Explainable AI: From Black Box to Glass Box.\"\n",
        "    \n",
        "arxiv_tool = ArxivTool()\n",
        "\n",
        "# Create the agent with the correct prompt and tool\n",
        "tools = [arxiv_tool]\n",
        "agent = create_react_agent(gemma, tools, prompt)\n",
        "\n",
        "# Create the agent executor with error handling for parsing errors\n",
        "agent_executor = AgentExecutor(\n",
        "    agent=agent,\n",
        "    tools=tools,\n",
        "    verbose=True,\n",
        "    handle_parsing_errors=True  # Allow agent to retry if parsing fails\n",
        ")\n",
        "\n",
        "# Run the agent with a query\n",
        "query = \"Explainable AI\"\n",
        "response = agent_executor.invoke({\"input\": query})\n",
        "print(response)\n"
      ]
    },
    {
      "cell_type": "markdown",
      "metadata": {
        "id": "IOqujC6qY_NY"
      },
      "source": [
        "\n",
        "\n",
        "### Завдання 4: Створення агента-помічника для вирішення бізнес-задач\n",
        "\n",
        "Створіть агента, який допомагає вирішувати задачі бізнес-аналітики. Агент має допомогти користувачу створити прогноз по продажам на наступний рік враховуючи рівень інфляції і погодні умови. Агент має вміти використовувати Python і ходити в інтернет аби отримати актуальні дані.\n",
        "\n",
        "**Кроки:**\n",
        "1. Налаштуйте агента, який працюватиме з аналітичними даними, заданими текстом. Користувач пише\n",
        "\n",
        "```\n",
        "Ми експортуємо апельсини з Бразилії. В 2021 експортували 200т, в 2022 - 190т, в 2023 - 210т, в 2024 який ще не закінчився - 220т. Зроби оцінку скільки ми зможемо експортувати апельсинів в 2025 враховуючи погодні умови в Бразилії і попит на апельсини в світі виходячи з економічної ситуації.\n",
        "```\n",
        "\n",
        "2. Створіть запит до агента, що містить чітке завдання – видати результат бізнес аналізу або написати, що він не може цього зробити і запит користувача (просто може бути все одним повідомлленням).\n",
        "\n",
        "3. Запустіть агента і проаналізуйте результати. Що можна покращити?\n"
      ]
    },
    {
      "cell_type": "code",
      "execution_count": null,
      "metadata": {
        "id": "UK6KA9PyRS0L"
      },
      "outputs": [],
      "source": []
    }
  ],
  "metadata": {
    "colab": {
      "provenance": []
    },
    "kernelspec": {
      "display_name": "ml_course",
      "language": "python",
      "name": "python3"
    },
    "language_info": {
      "codemirror_mode": {
        "name": "ipython",
        "version": 3
      },
      "file_extension": ".py",
      "mimetype": "text/x-python",
      "name": "python",
      "nbconvert_exporter": "python",
      "pygments_lexer": "ipython3",
      "version": "3.13.1"
    }
  },
  "nbformat": 4,
  "nbformat_minor": 0
}
