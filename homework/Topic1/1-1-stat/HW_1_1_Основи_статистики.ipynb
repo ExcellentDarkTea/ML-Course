{
 "cells": [
  {
   "cell_type": "markdown",
   "metadata": {
    "id": "SDhaTqxcWhnP"
   },
   "source": [
    "В цьому домашньому завданні відпрацюємо з вами знання, отримані в модулі зі статистики.\n",
    "\n",
    "**Завдання 1.** Ми обговорили з Вами на лекції, що велика літера Сігма грецького алфавіту позначає в математиці суму. Знайдіть з використанням Python $\\Sigma x$, $\\Sigma x^2$, та $\\Sigma (x-1)^2$ для наступного набору даних:\n",
    "`1 3 4`\n",
    "Виведіть результат кожного обчислення на екран."
   ]
  },
  {
   "cell_type": "code",
   "execution_count": 96,
   "metadata": {
    "id": "B1mgx_IBT0e8"
   },
   "outputs": [
    {
     "name": "stdout",
     "output_type": "stream",
     "text": [
      "Сума всіх елементів [1, 3, 4] = 8\n",
      "Сума квадратів всіх елементів [1, 9, 16] = 26\n",
      "Сума квадратів всіх елементів мінус 1 [0, 4, 9] = 13\n",
      "\n",
      "Sum(x) = 8 \n",
      "Sum(x^2) = 26 \n",
      "Sum((x-1)^2) = 13\n"
     ]
    }
   ],
   "source": [
    "a = [1, 3, 4]\n",
    "sigma_sum = sum(a)\n",
    "print(f'Сума всіх елементів {a} = {sigma_sum}')\n",
    "\n",
    "square = [x**2 for x in a]\n",
    "sigma_square = sum(square)\n",
    "print(f'Сума квадратів всіх елементів {square} = {sigma_square}')\n",
    "\n",
    "minus = [(x - 1)**2 for x in a]\n",
    "sigma_minus = sum(minus)\n",
    "\n",
    "print(f'Сума квадратів всіх елементів мінус 1 {minus} = {sigma_minus}')\n",
    "\n",
    "print(f'\\nSum(x) = {sigma_sum} \\nSum(x^2) = {sigma_square} \\nSum((x-1)^2) = {sigma_minus}')\n"
   ]
  },
  {
   "cell_type": "markdown",
   "metadata": {
    "id": "fa78aW5lhiia"
   },
   "source": [
    "**Завдання 2.** Ми зібрали дані про суму покупок в гривнях 20ма випадково обраними клієнтами в нашому магазині (всього клієнтів у нас більше) за минулий місяць. Вони представлені в змінній `sum_purchases`. Знайдіть **вибіркове середнє** для цих даних кожним з зазначених методів:   \n",
    "\n",
    "  2.1. без використання жодних бібліотек, користуючись тільки Python.  \n",
    "  2.2. використовуючи відповідний метод бібліотеки `numpy`.\n",
    "\n",
    "  Виведіть результат обчислень в кожному з випадків на екран та порівняйте результати. Вони співпадають?"
   ]
  },
  {
   "cell_type": "code",
   "execution_count": 97,
   "metadata": {},
   "outputs": [],
   "source": [
    "import numpy as np"
   ]
  },
  {
   "cell_type": "code",
   "execution_count": 98,
   "metadata": {
    "id": "_9kMt3rq6V5m"
   },
   "outputs": [],
   "source": [
    "sum_purchases = [ 316,  493,  367,  153,  224,  121,  322,  450,  196,  397,  281,\n",
    "  239,  484,  124,  223,  448,  432,  255, 4310, 3524]"
   ]
  },
  {
   "cell_type": "code",
   "execution_count": 99,
   "metadata": {
    "id": "wPmL919HT1c0"
   },
   "outputs": [
    {
     "name": "stdout",
     "output_type": "stream",
     "text": [
      "Вибіркове середнє вручну: 667.95, з використанням numpy: 667.95\n",
      "Різниця: 0.0\n",
      "Результати співпадають\n"
     ]
    }
   ],
   "source": [
    "mean_manual = sum(sum_purchases)/len(sum_purchases)\n",
    "\n",
    "mean_np = np.mean(sum_purchases)\n",
    "\n",
    "print(f'Вибіркове середнє вручну: {mean_manual}, з використанням numpy: {mean_np}')\n",
    "\n",
    "print(f'Різниця: {mean_manual - mean_np}')\n",
    "\n",
    "if mean_manual == mean_np:\n",
    "    print('Результати співпадають')\n",
    "else:\n",
    "    print('Результати не співпадають')"
   ]
  },
  {
   "cell_type": "markdown",
   "metadata": {
    "id": "FMdoxZd0kZdW"
   },
   "source": [
    "**Завдання 3.** Для того ж набору даних в змінній `sum_purchases` обчисліть **медіану** кожним з зазначених методів:  \n",
    "\n",
    "  3.1. без використання жодних бібліотек, користуючись тільки Python.  \n",
    "  3.2. використовуючи відповідний метод бібліотеки numpy.  \n",
    "\n",
    "Виведіть результат обчислень в кожному з випадків на екран. Порівняйте результати зі значенням вибіркового середнього. Напишіть коментар, для яких задач ви б використовували вибіркове середнє, а для яких - медіану?"
   ]
  },
  {
   "cell_type": "code",
   "execution_count": null,
   "metadata": {},
   "outputs": [],
   "source": [
    "# test_odd = [ 316,  493,  367,  153,  224,  121,  322,  450,  196,  397,  281, \n",
    "#            239,  484,  124,  223,  448,  432,  255, 4310]"
   ]
  },
  {
   "cell_type": "code",
   "execution_count": 101,
   "metadata": {},
   "outputs": [
    {
     "name": "stdout",
     "output_type": "stream",
     "text": [
      "Дані містять парну кількість заначень 20 - використовуємо середне між середннимими сусідами\n",
      "Відсортовані дані:\n",
      "[121, 124, 153, 196, 223, 224, 239, 255, 281, 316, 322, 367, 397, 432, 448, 450, 484, 493, 3524, 4310]\n",
      "\n",
      "Медіана вручну: 319.0\n",
      "Медіана з використанням numpy: 319.0\n",
      "Результати співпадають\n"
     ]
    }
   ],
   "source": [
    "if len(sum_purchases) % 2 == 0:\n",
    "    print(f\"Дані містять парну кількість заначень {len(sum_purchases)} - використовуємо середне між середннимими сусідами\")\n",
    "    median_maual = (sorted(sum_purchases)[len(sum_purchases)//2-1] + sorted(sum_purchases)[len(sum_purchases)//2])/2\n",
    "else:\n",
    "    print(f\"Дані мабть Непарну кількість значень {len(sum_purchases)} - використовуємо серединнє значення\")\n",
    "    median_maual = (sorted(sum_purchases)[len(sum_purchases)//2])\n",
    "\n",
    "\n",
    "print(f'Відсортовані дані:\\n{sorted(sum_purchases)}\\n')    \n",
    "print(f'Медіана вручну: {median_maual}')\n",
    "\n",
    "median_np = np.median(sum_purchases)\n",
    "print(f'Медіана з використанням numpy: {median_np}')\n",
    "\n",
    "if median_maual == median_np:\n",
    "    print('Результати співпадають')\n",
    "else:\n",
    "    print('Результати не співпадають')    "
   ]
  },
  {
   "cell_type": "code",
   "execution_count": 102,
   "metadata": {},
   "outputs": [
    {
     "name": "stdout",
     "output_type": "stream",
     "text": [
      "Різниця між вибірковим середнім 667.95 та медіаною 319.0 = 348.95\n"
     ]
    }
   ],
   "source": [
    "print(f'Різниця між вибірковим середнім {mean_manual} та медіаною {median_maual} = {mean_manual - median_maual:.2f}')"
   ]
  },
  {
   "cell_type": "markdown",
   "metadata": {},
   "source": [
    "- На основі аналізу порівння середнього значення та медіани (різниця між якими складає 348.95), можна сказати що в наших даних наявні сильні викиді, до який чутливе середне значення.\n",
    "- Якщо поглянути на дані уважніше, то можна помітити, що 18 з 20 даних лежать в діапазоні (120; 500), але ми маємо 2 випадки надмірно високих показників 3524 та 4310, які і вносять \"неправильність\\шум\" під час інтерпретації середнього значення.\n",
    "\n",
    "Вибіркове середне доцільно використовувати якщо: \n",
    "- Наші данні розподілені нормально, без екстремально високих чи низькиз значень.\n",
    "- Також якщо ми хочемо врахувати всі-всі-всі значення для нашого аналізу, та кожне значення має однакову важливість.  \n",
    "\n",
    "Медіана доцільно використовувати якщо:\n",
    "- Дані розподілені НЕ нормально, має викиди та ассиментію. Використання медіани в цих випадках робить розрахунки нечутливими до екстемальних викидів, які наявні в базі даних. Що дозволяє краше репрезентувати \"типове\" значення для вибірки. \n"
   ]
  },
  {
   "cell_type": "markdown",
   "metadata": {
    "id": "o1Z7az2yNDQV"
   },
   "source": [
    "**Завдання 4**. Обчислість стандартне відхилення наведеної вибірки в змінній `sum_purchases` кожним з зазначених методів:  \n",
    "\n",
    "  4.1. без використання жодних бібліотек, користуючись тільки Python.  \n",
    "  4.2. використовуючи відповідний метод бібліотеки numpy.  \n",
    "\n",
    "Виведіть результат обчислень в кожному з випадків на екран."
   ]
  },
  {
   "cell_type": "code",
   "execution_count": null,
   "metadata": {},
   "outputs": [],
   "source": [
    "# test_large = [ 316,  493,  367,  153,  224,  121,  322,  450,  196,  397,  281,\n",
    "#                  316,  493,  367,  153,  224,  121,  322,  450,  196,  397,  281,\n",
    "#                  316,  493,  367,  153,  224,  121,  322,  450,  196,  397,  281,\n",
    "#                  239,  484,  124,  223,  448,  432,  255, 4310, 3524]\n",
    "# mean_large = np.mean(test_large)"
   ]
  },
  {
   "cell_type": "code",
   "execution_count": null,
   "metadata": {
    "id": "X4ixtmL2T642"
   },
   "outputs": [
    {
     "name": "stdout",
     "output_type": "stream",
     "text": [
      "Кількість елементів у списку менше 30 - використовуємо формулу для вибірки (n-1)\n",
      "Стандартне відхилення вручну: 1124.5433447451132\n",
      "Стандартне відхилення з використанням numpy: 1124.5433447451132\n",
      "Результати співпадають\n"
     ]
    }
   ],
   "source": [
    "sum_diff = sum((x - mean_manual)**2 for x in sum_purchases) \n",
    "\n",
    "# Значення порогу для вибори формули з генеральної сукупності або вибірки\n",
    "treshold = 30 \n",
    "\n",
    "if len(sum_purchases) <= treshold:\n",
    "    print(f'Кількість елементів у списку менше {treshold} - використовуємо формулу для вибірки (n-1)')\n",
    "    std_manual = np.sqrt(sum_diff/(len(sum_purchases)-1))\n",
    "    std_np = np.std(sum_purchases, ddof=1)\n",
    "\n",
    "else:\n",
    "    print(f'Кількість елементів у списку більше {treshold} - використовуємо формулу для генеральної сукупності (n)')\n",
    "    std_manual = np.sqrt(sum_diff/(len(sum_purchases)))\n",
    "    std_np = np.std(sum_purchases)\n",
    "   \n",
    "print(f'Стандартне відхилення вручну: {std_manual}')   \n",
    "print(f'Стандартне відхилення з використанням numpy: {std_np}')\n",
    "\n",
    "if std_manual == std_np:\n",
    "    print('Результати співпадають')\n",
    "else:\n",
    "    print('Результати не співпадають') "
   ]
  },
  {
   "cell_type": "markdown",
   "metadata": {
    "id": "M1ntKTjXLVlH"
   },
   "source": [
    "**Завдання 5**. Ми провели дослідження віку студентів-першокурсників. Виявилось, що\n",
    "- 10 студентів мають вік 16 років\n",
    "- 25 студентів - 17 років\n",
    "- 20 студентів - 18 років\n",
    "- 2 студенти - 20 років\n",
    "\n",
    "Обчислість середнє значення для цієї вибірки будь-яким способом - на чистому Python або з numpy - та виведіть результат на екран."
   ]
  },
  {
   "cell_type": "code",
   "execution_count": null,
   "metadata": {
    "id": "RdIU4M-7T8R4"
   },
   "outputs": [
    {
     "name": "stdout",
     "output_type": "stream",
     "text": [
      "[16, 16, 16, 16, 16, 16, 16, 16, 16, 16, 17, 17, 17, 17, 17, 17, 17, 17, 17, 17, 17, 17, 17, 17, 17, 17, 17, 17, 17, 17, 17, 17, 17, 17, 17, 18, 18, 18, 18, 18, 18, 18, 18, 18, 18, 18, 18, 18, 18, 18, 18, 18, 18, 18, 18, 20, 20]\n",
      "Кількість студентів віком 16 років: 10\n",
      "Кількість студентів віком 17 років: 25\n",
      "Кількість студентів віком 18 років: 20\n",
      "Кількість студентів віком 20 років: 2\n"
     ]
    }
   ],
   "source": [
    "students_number = [10, 25, 20, 2]\n",
    "age = [16, 17, 18, 20]\n",
    "\n",
    "sample = []\n",
    "\n",
    "for num, year in zip(students_number, age):\n",
    "    sample += [year]*num\n",
    "\n",
    "# перевірка чи датасет згенерувався відповідно до опису завдання\n",
    "print(sample)\n",
    "for indx in range(len(age)):\n",
    "    print(f'Кількість студентів віком {age[indx]} років: {sample.count(age[indx])}')"
   ]
  },
  {
   "cell_type": "code",
   "execution_count": 131,
   "metadata": {},
   "outputs": [
    {
     "name": "stdout",
     "output_type": "stream",
     "text": [
      "Вибіркове середнє віку студентів: 17.280701754385966\n"
     ]
    }
   ],
   "source": [
    "sample_mean = np.mean(sample)\n",
    "print(f'Вибіркове середнє віку студентів: {sample_mean}')"
   ]
  },
  {
   "cell_type": "markdown",
   "metadata": {
    "id": "Xx8MFkkVM53z"
   },
   "source": [
    "**Завдання 6**. Крім даних про суму покупок, ми зібрали ще дані про кількість відвідувань кожного з кожного покупця, які знаходяться в змінній `visits`. Обчисліть коефіцієнт кореляції Пірсона для суми покупок і кількості відвідувань кожним з зазначених методів:  \n",
    "\n",
    "  6.1. без використання жодних бібліотек, користуючись тільки Python.  \n",
    "  6.2. використовуючи відповідний метод бібліотеки numpy.  \n",
    "  \n",
    "Виведіть результат на екран. Проаналізуйте результат.\n",
    "\n",
    "Виведіть додатково графік розсіювання викликавши код нижче і зробіть заключення, чи варто щось змінити при підрахунку кореляції, аби коефіцієнт Пірсона показував коректну оцінку лінійної залежності?"
   ]
  },
  {
   "cell_type": "code",
   "execution_count": 132,
   "metadata": {
    "id": "4OIGBT7UOWhO"
   },
   "outputs": [],
   "source": [
    "visits = [ 6,  2, 10,  3,  9,  9,  2,  3,  6,  6, 10,  2,  5, 10,  3,  5,  4,\n",
    "        7,  4,  2]"
   ]
  },
  {
   "cell_type": "code",
   "execution_count": 134,
   "metadata": {},
   "outputs": [
    {
     "data": {
      "text/plain": [
       "(20, 20)"
      ]
     },
     "execution_count": 134,
     "metadata": {},
     "output_type": "execute_result"
    }
   ],
   "source": [
    "len(sum_purchases), len(visits)"
   ]
  },
  {
   "cell_type": "code",
   "execution_count": null,
   "metadata": {
    "id": "YLNF7VbeT97Q"
   },
   "outputs": [],
   "source": []
  },
  {
   "cell_type": "code",
   "execution_count": 108,
   "metadata": {
    "colab": {
     "base_uri": "https://localhost:8080/",
     "height": 472
    },
    "id": "gaeoGA-5Prr1",
    "outputId": "0c910a7f-0e96-449a-881d-1efa453b3c8d"
   },
   "outputs": [
    {
     "data": {
      "image/png": "[encoded data removed]",
      "text/plain": [
       "<Figure size 432x288 with 1 Axes>"
      ]
     },
     "metadata": {
      "needs_background": "light"
     },
     "output_type": "display_data"
    }
   ],
   "source": [
    "import matplotlib.pyplot as plt\n",
    "\n",
    "plt.scatter(sum_purchases, visits)\n",
    "plt.title('Scatter Plot of Purchases vs. Visits')\n",
    "plt.xlabel('Sum of Purchases')\n",
    "plt.ylabel('Number of Visits');"
   ]
  },
  {
   "cell_type": "markdown",
   "metadata": {
    "id": "4pEg0KzSQ6KA"
   },
   "source": [
    "**Завдання 7**. В попередньому завданні ми помітили, що викиди нам заважають отримати \"правдиве\" значення кореляції. Давайте вилучимо записи, які відповідають значенням з викидами в сумі покупок і обчисліть коеф. кореляції. Для цього поставте `threshold`, який дорінює середньому значенню + 2 стандартних вдіхилля суми покупок і всі значення, які більше за нього, будемо вважати викидами (є і інші правила для визначення викидів - з ним и познайомимось пізніше).\n",
    "\n",
    "Вилучіть значення з обох масивів і обчисліть коеф. кореляції Пірсона з допомогою `numpy` для кількості візитів і суми покупок без записів-викидів. Виведіть результат на екран, побудуйте діаграму розсіювання і проаналізуйте результат: що можемо сказати про залежність в даних?"
   ]
  },
  {
   "cell_type": "code",
   "execution_count": null,
   "metadata": {
    "id": "Yj3Yfaf7UBbc"
   },
   "outputs": [],
   "source": []
  }
 ],
 "metadata": {
  "colab": {
   "provenance": []
  },
  "kernelspec": {
   "display_name": "laba",
   "language": "python",
   "name": "python3"
  },
  "language_info": {
   "codemirror_mode": {
    "name": "ipython",
    "version": 3
   },
   "file_extension": ".py",
   "mimetype": "text/x-python",
   "name": "python",
   "nbconvert_exporter": "python",
   "pygments_lexer": "ipython3",
   "version": "3.10.14"
  }
 },
 "nbformat": 4,
 "nbformat_minor": 0
}
